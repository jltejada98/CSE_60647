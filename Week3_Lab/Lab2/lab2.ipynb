{
 "cells": [
  {
   "cell_type": "markdown",
   "id": "3e45e465",
   "metadata": {},
   "source": [
    "# Lab 2 - Classification"
   ]
  },
  {
   "cell_type": "markdown",
   "id": "c25bc69b",
   "metadata": {},
   "source": [
    "The goal of today's lab is to code the K-Nearest Neighbors, Naive Bayes, and Decision Tree algorithms by hand.\n",
    "\n",
    "I have included some starter code for the three classification algorithms. Each of them has missing components that need to be completed (marked by **TODO**). Your task is to fill in the missing code and compare your results to sklearn's algorithms. Each of the missing elements can be written in one line of code but you are encouraged to add more as you see fit.\n",
    "\n",
    "Note these are simplistic and inefficient implementations of the algorithms and should not be used in practice. However, it is good experience to code them by hand and get a better understanding of how the algorithms work behind-the-scenes.\n",
    "\n",
    "If you get stuck on one specific algorithm, move on to the next. We will discuss the full results as a class, and I will release the solutions after lab. There is nothing to submit for this lab.\n",
    "\n",
    "Once you finish all 3 algorithms, there are a series of discussion questions for you to consider as a group. We will discuss this as a class but they will not be included in the solution."
   ]
  },
  {
   "cell_type": "markdown",
   "id": "74918c88",
   "metadata": {},
   "source": [
    "### Miscellaneous Code"
   ]
  },
  {
   "cell_type": "code",
   "id": "454b5f5f",
   "metadata": {
    "ExecuteTime": {
     "end_time": "2024-06-21T00:50:55.435314Z",
     "start_time": "2024-06-21T00:50:55.428578Z"
    }
   },
   "source": [
    "import numpy as np\n",
    "import pandas as pd\n",
    "from sklearn.model_selection import train_test_split\n",
    "from sklearn.neighbors import KNeighborsClassifier\n",
    "from sklearn.naive_bayes import CategoricalNB\n",
    "from sklearn.tree import DecisionTreeClassifier\n",
    "from sklearn.preprocessing import OrdinalEncoder\n",
    "from collections import Counter\n"
   ],
   "outputs": [],
   "execution_count": 145
  },
  {
   "metadata": {},
   "cell_type": "markdown",
   "source": "Evaluate prediction classification, determines if there are any samples that don't match (returns first that does not match)",
   "id": "bf7066189836f9e2"
  },
  {
   "cell_type": "code",
   "id": "9b3163be",
   "metadata": {
    "ExecuteTime": {
     "end_time": "2024-06-21T00:50:55.563246Z",
     "start_time": "2024-06-21T00:50:55.558931Z"
    }
   },
   "source": [
    "def eval_preds(our_preds, sklearn_preds):\n",
    "    assert len(our_preds) == len(sklearn_preds)\n",
    "    for i in range(len(our_preds)):\n",
    "        if our_preds[i] == sklearn_preds[i]:\n",
    "            continue\n",
    "        else:\n",
    "            print(f\"ERROR at prediction {i}\")\n",
    "            break\n",
    "    print(\"CORRECT :)\")"
   ],
   "outputs": [],
   "execution_count": 146
  },
  {
   "cell_type": "markdown",
   "id": "fea388ef",
   "metadata": {},
   "source": [
    "## KNN"
   ]
  },
  {
   "cell_type": "markdown",
   "id": "684ee45f",
   "metadata": {},
   "source": [
    "### Data"
   ]
  },
  {
   "cell_type": "markdown",
   "id": "f05fa9ea",
   "metadata": {},
   "source": [
    "For KNN, we will use the Banknote Authentication Dataset (https://archive.ics.uci.edu/dataset/267/banknote+authentication) \n",
    "The dataset contains 1372 instances and 5 attributes. The task is to predict whether a banknote is authentic (0) or a forgery (1)"
   ]
  },
  {
   "cell_type": "code",
   "id": "66d7eacd",
   "metadata": {
    "ExecuteTime": {
     "end_time": "2024-06-21T00:50:55.572538Z",
     "start_time": "2024-06-21T00:50:55.564530Z"
    }
   },
   "source": [
    "# Read in dataset\n",
    "banknote = pd.read_csv(\"data_banknote_authentication.txt\", header=None)\n",
    "# Rename Columns\n",
    "banknote.columns = [\"Variance\", \"Skewness\", \"Curtosis\", \"Entropy\", \"Class\"]\n",
    "# Separate X (features) and y (label/class)\n",
    "X_banknote = banknote[[\"Variance\", \"Skewness\", \"Curtosis\", \"Entropy\"]]\n",
    "y_banknote = banknote['Class']"
   ],
   "outputs": [],
   "execution_count": 147
  },
  {
   "cell_type": "code",
   "id": "1255953f",
   "metadata": {
    "ExecuteTime": {
     "end_time": "2024-06-21T00:50:55.650357Z",
     "start_time": "2024-06-21T00:50:55.643951Z"
    }
   },
   "source": [
    "#Prints first 5 rows of input feature dataset.\n",
    "X_banknote.head()"
   ],
   "outputs": [
    {
     "data": {
      "text/plain": [
       "   Variance  Skewness  Curtosis  Entropy\n",
       "0   3.62160    8.6661   -2.8073 -0.44699\n",
       "1   4.54590    8.1674   -2.4586 -1.46210\n",
       "2   3.86600   -2.6383    1.9242  0.10645\n",
       "3   3.45660    9.5228   -4.0112 -3.59440\n",
       "4   0.32924   -4.4552    4.5718 -0.98880"
      ],
      "text/html": [
       "<div>\n",
       "<style scoped>\n",
       "    .dataframe tbody tr th:only-of-type {\n",
       "        vertical-align: middle;\n",
       "    }\n",
       "\n",
       "    .dataframe tbody tr th {\n",
       "        vertical-align: top;\n",
       "    }\n",
       "\n",
       "    .dataframe thead th {\n",
       "        text-align: right;\n",
       "    }\n",
       "</style>\n",
       "<table border=\"1\" class=\"dataframe\">\n",
       "  <thead>\n",
       "    <tr style=\"text-align: right;\">\n",
       "      <th></th>\n",
       "      <th>Variance</th>\n",
       "      <th>Skewness</th>\n",
       "      <th>Curtosis</th>\n",
       "      <th>Entropy</th>\n",
       "    </tr>\n",
       "  </thead>\n",
       "  <tbody>\n",
       "    <tr>\n",
       "      <th>0</th>\n",
       "      <td>3.62160</td>\n",
       "      <td>8.6661</td>\n",
       "      <td>-2.8073</td>\n",
       "      <td>-0.44699</td>\n",
       "    </tr>\n",
       "    <tr>\n",
       "      <th>1</th>\n",
       "      <td>4.54590</td>\n",
       "      <td>8.1674</td>\n",
       "      <td>-2.4586</td>\n",
       "      <td>-1.46210</td>\n",
       "    </tr>\n",
       "    <tr>\n",
       "      <th>2</th>\n",
       "      <td>3.86600</td>\n",
       "      <td>-2.6383</td>\n",
       "      <td>1.9242</td>\n",
       "      <td>0.10645</td>\n",
       "    </tr>\n",
       "    <tr>\n",
       "      <th>3</th>\n",
       "      <td>3.45660</td>\n",
       "      <td>9.5228</td>\n",
       "      <td>-4.0112</td>\n",
       "      <td>-3.59440</td>\n",
       "    </tr>\n",
       "    <tr>\n",
       "      <th>4</th>\n",
       "      <td>0.32924</td>\n",
       "      <td>-4.4552</td>\n",
       "      <td>4.5718</td>\n",
       "      <td>-0.98880</td>\n",
       "    </tr>\n",
       "  </tbody>\n",
       "</table>\n",
       "</div>"
      ]
     },
     "execution_count": 148,
     "metadata": {},
     "output_type": "execute_result"
    }
   ],
   "execution_count": 148
  },
  {
   "cell_type": "code",
   "id": "f6407a40",
   "metadata": {
    "ExecuteTime": {
     "end_time": "2024-06-21T00:50:55.679826Z",
     "start_time": "2024-06-21T00:50:55.676241Z"
    }
   },
   "source": [
    "#Prints first 5 rows of input label dataset.\n",
    "y_banknote.head()"
   ],
   "outputs": [
    {
     "data": {
      "text/plain": [
       "0    0\n",
       "1    0\n",
       "2    0\n",
       "3    0\n",
       "4    0\n",
       "Name: Class, dtype: int64"
      ]
     },
     "execution_count": 149,
     "metadata": {},
     "output_type": "execute_result"
    }
   ],
   "execution_count": 149
  },
  {
   "cell_type": "code",
   "id": "53458c29",
   "metadata": {
    "ExecuteTime": {
     "end_time": "2024-06-21T00:50:55.696567Z",
     "start_time": "2024-06-21T00:50:55.692224Z"
    }
   },
   "source": [
    "# Divide into train and test datasets\n",
    "#Divides dataset into 80% train, 20% test.\n",
    "\n",
    "X_banknote_train, X_banknote_test, y_banknote_train, y_banknote_test = train_test_split(X_banknote, \n",
    "                                                                                        y_banknote, \n",
    "                                                                                        test_size=.2, \n",
    "                                                                                        random_state=12345)"
   ],
   "outputs": [],
   "execution_count": 150
  },
  {
   "cell_type": "markdown",
   "id": "8bd886a4",
   "metadata": {},
   "source": [
    "### Algorithm"
   ]
  },
  {
   "cell_type": "code",
   "id": "03b3db45",
   "metadata": {
    "ExecuteTime": {
     "end_time": "2024-06-21T00:50:55.729558Z",
     "start_time": "2024-06-21T00:50:55.727111Z"
    }
   },
   "source": [
    "#Given a test data set, use the training dataset to calculate distance to the testing point and \n",
    "def knn_predict_all(X_train: pd.DataFrame, y_train:pd.DataFrame, X_test: pd.DataFrame, k=5):\n",
    "    preds = []\n",
    "    for _, row in X_test.iterrows():\n",
    "        preds.append(knn_predict_one(X_train, y_train, row, k))\n",
    "    return preds"
   ],
   "outputs": [],
   "execution_count": 151
  },
  {
   "cell_type": "code",
   "id": "c24cb7d1",
   "metadata": {
    "ExecuteTime": {
     "end_time": "2024-06-21T00:50:55.764570Z",
     "start_time": "2024-06-21T00:50:55.761080Z"
    }
   },
   "source": [
    "def knn_predict_one(X_train: pd.DataFrame, y_train:pd.DataFrame, test_row: pd.DataFrame, k):\n",
    "    distances = []\n",
    "    for idx, train_row in X_train.iterrows():\n",
    "        distance = sum((train_row - test_row)**2)**0.5 # Compute Euclidean distance\n",
    "        distances.append(distance)\n",
    "    #Create array containing distances to all training datapoint \n",
    "    distances = pd.Series(distances, index=y_train.index)\n",
    "    sorted_distances = distances.sort_values()\n",
    "    #This is a 5 element vector with the shortest distance \n",
    "    shortest_k_distances = sorted_distances[:k] # TODO: get the k instances that are closest to the test_row\n",
    "    #Selects the most popular class from the shortest k distances.\n",
    "    # TODO: predict the test row from those k instances\n",
    "    # Get the indices of the k nearest neighbors\n",
    "    k_nearest_indices = shortest_k_distances.index\n",
    "    \n",
    "    # Get the classes of the k nearest neighbors\n",
    "    k_nearest_classes = y_train.loc[k_nearest_indices]\n",
    "    \n",
    "    # Select the most popular class from the k nearest neighbors\n",
    "    most_common_class = Counter(k_nearest_classes).most_common(1)[0][0]\n",
    "    \n",
    "    return pred"
   ],
   "outputs": [],
   "execution_count": 152
  },
  {
   "cell_type": "code",
   "id": "5be2d670",
   "metadata": {
    "ExecuteTime": {
     "end_time": "2024-06-21T00:50:55.787845Z",
     "start_time": "2024-06-21T00:50:55.785670Z"
    }
   },
   "source": [
    "k = 5 # Feel free to change this as you see fit, but you should only use odd numbers"
   ],
   "outputs": [],
   "execution_count": 153
  },
  {
   "cell_type": "code",
   "id": "9ea77d00",
   "metadata": {
    "ExecuteTime": {
     "end_time": "2024-06-21T00:50:55.968300Z",
     "start_time": "2024-06-21T00:50:55.842586Z"
    }
   },
   "source": [
    "our_knn_preds = knn_predict_all(X_banknote_train, y_banknote_train, X_banknote_test, k)"
   ],
   "outputs": [
    {
     "ename": "NameError",
     "evalue": "name 'pred' is not defined",
     "output_type": "error",
     "traceback": [
      "\u001B[0;31m---------------------------------------------------------------------------\u001B[0m",
      "\u001B[0;31mNameError\u001B[0m                                 Traceback (most recent call last)",
      "Cell \u001B[0;32mIn[154], line 1\u001B[0m\n\u001B[0;32m----> 1\u001B[0m our_knn_preds \u001B[38;5;241m=\u001B[39m \u001B[43mknn_predict_all\u001B[49m\u001B[43m(\u001B[49m\u001B[43mX_banknote_train\u001B[49m\u001B[43m,\u001B[49m\u001B[43m \u001B[49m\u001B[43my_banknote_train\u001B[49m\u001B[43m,\u001B[49m\u001B[43m \u001B[49m\u001B[43mX_banknote_test\u001B[49m\u001B[43m,\u001B[49m\u001B[43m \u001B[49m\u001B[43mk\u001B[49m\u001B[43m)\u001B[49m\n",
      "Cell \u001B[0;32mIn[151], line 5\u001B[0m, in \u001B[0;36mknn_predict_all\u001B[0;34m(X_train, y_train, X_test, k)\u001B[0m\n\u001B[1;32m      3\u001B[0m preds \u001B[38;5;241m=\u001B[39m []\n\u001B[1;32m      4\u001B[0m \u001B[38;5;28;01mfor\u001B[39;00m _, row \u001B[38;5;129;01min\u001B[39;00m X_test\u001B[38;5;241m.\u001B[39miterrows():\n\u001B[0;32m----> 5\u001B[0m     preds\u001B[38;5;241m.\u001B[39mappend(\u001B[43mknn_predict_one\u001B[49m\u001B[43m(\u001B[49m\u001B[43mX_train\u001B[49m\u001B[43m,\u001B[49m\u001B[43m \u001B[49m\u001B[43my_train\u001B[49m\u001B[43m,\u001B[49m\u001B[43m \u001B[49m\u001B[43mrow\u001B[49m\u001B[43m,\u001B[49m\u001B[43m \u001B[49m\u001B[43mk\u001B[49m\u001B[43m)\u001B[49m)\n\u001B[1;32m      6\u001B[0m \u001B[38;5;28;01mreturn\u001B[39;00m preds\n",
      "Cell \u001B[0;32mIn[152], line 22\u001B[0m, in \u001B[0;36mknn_predict_one\u001B[0;34m(X_train, y_train, test_row, k)\u001B[0m\n\u001B[1;32m     19\u001B[0m \u001B[38;5;66;03m# Select the most popular class from the k nearest neighbors\u001B[39;00m\n\u001B[1;32m     20\u001B[0m most_common_class \u001B[38;5;241m=\u001B[39m Counter(k_nearest_classes)\u001B[38;5;241m.\u001B[39mmost_common(\u001B[38;5;241m1\u001B[39m)[\u001B[38;5;241m0\u001B[39m][\u001B[38;5;241m0\u001B[39m]\n\u001B[0;32m---> 22\u001B[0m \u001B[38;5;28;01mreturn\u001B[39;00m \u001B[43mpred\u001B[49m\n",
      "\u001B[0;31mNameError\u001B[0m: name 'pred' is not defined"
     ]
    }
   ],
   "execution_count": 154
  },
  {
   "cell_type": "code",
   "id": "0c27bf1e",
   "metadata": {},
   "source": [
    "# Sklearn KNN\n",
    "knn_mdl = KNeighborsClassifier(n_neighbors=k)\n",
    "knn_mdl.fit(X_banknote_train, y_banknote_train)\n",
    "sklearn_knn_preds = knn_mdl.predict(X_banknote_test)"
   ],
   "outputs": [],
   "execution_count": null
  },
  {
   "cell_type": "code",
   "id": "b55ca133",
   "metadata": {},
   "source": [
    "eval_preds(our_knn_preds, sklearn_knn_preds)"
   ],
   "outputs": [],
   "execution_count": null
  },
  {
   "cell_type": "markdown",
   "id": "0ecc2443",
   "metadata": {},
   "source": [
    "## Naive Bayes"
   ]
  },
  {
   "cell_type": "markdown",
   "id": "1243f9d2",
   "metadata": {},
   "source": [
    "### Data"
   ]
  },
  {
   "cell_type": "markdown",
   "id": "88ed7399",
   "metadata": {},
   "source": [
    "For Naive Bayes, we will use a custom dataset of Notre Dame Football games since 1992. The task is to predict whether or not Notre Dame will win a football game. The features are all categorical or binary. In the result category, "
   ]
  },
  {
   "cell_type": "code",
   "id": "c4e3eeed",
   "metadata": {},
   "source": [
    "# Read in dataset\n",
    "nd = pd.read_csv(\"nd_results.csv\")\n",
    "\n",
    "# Separate into train and test data\n",
    "nd_train = nd.loc[nd['Year'] <= 2021, ]\n",
    "nd_test = nd.loc[nd['Year'] == 2022, ]\n",
    "nd_test.loc[nd_test['OppConf'] == 'Sun Belt', 'OppConf'] = 'CUSA' # Change Marshall's conference for simplicity\n",
    "\n",
    "# Integer Encode the Conference - We must do this for sklearn (our implementation would work regardless)\n",
    "enc = OrdinalEncoder()\n",
    "nd_train = pd.DataFrame(enc.fit_transform(nd_train[[\"IsNDRanked\", \"IsOppRanked\", \"OppConf\", \"Result\"]]), index=nd_train.index, columns=[\"IsNDRanked\", \"IsOppRanked\", \"OppConf\", \"Result\"])\n",
    "nd_test = pd.DataFrame(enc.transform(nd_test[[\"IsNDRanked\", \"IsOppRanked\", \"OppConf\", \"Result\"]]), index=nd_test.index, columns=[\"IsNDRanked\", \"IsOppRanked\", \"OppConf\", \"Result\"])\n",
    "\n",
    "# Separate X (features) and y (label/class)\n",
    "X_nd_train = nd_train[[\"IsNDRanked\", \"IsOppRanked\", \"OppConf\"]].reset_index(drop=True)\n",
    "y_nd_train = nd_train['Result'].reset_index(drop=True)\n",
    "X_nd_test = nd_test[[\"IsNDRanked\", \"IsOppRanked\", \"OppConf\"]].reset_index(drop=True)\n",
    "y_nd_test = nd_test['Result'].reset_index(drop=True)"
   ],
   "outputs": [],
   "execution_count": null
  },
  {
   "cell_type": "code",
   "id": "e046cb08",
   "metadata": {},
   "source": [
    "X_nd_train.head()"
   ],
   "outputs": [],
   "execution_count": null
  },
  {
   "cell_type": "code",
   "id": "92f52e00",
   "metadata": {},
   "source": [
    "y_nd_train.head()"
   ],
   "outputs": [],
   "execution_count": null
  },
  {
   "cell_type": "markdown",
   "id": "951256ef",
   "metadata": {},
   "source": [
    "### Algorithm"
   ]
  },
  {
   "cell_type": "code",
   "id": "4b99d084",
   "metadata": {},
   "source": [
    "def nb_predict_all(X_train: pd.DataFrame, y_train:pd.DataFrame, X_test: pd.DataFrame):\n",
    "    preds = []\n",
    "    for _, row in X_test.iterrows():\n",
    "        preds.append(nb_predict_one(X_train, y_train, row))\n",
    "    return preds"
   ],
   "outputs": [],
   "execution_count": null
  },
  {
   "cell_type": "code",
   "id": "0611f17f",
   "metadata": {},
   "source": [
    "def nb_predict_one(X_train: pd.DataFrame, y_train: pd.DataFrame, row: pd.DataFrame):\n",
    "    max_prob = 0.0 # Why 0?\n",
    "    best_pred = np.nan\n",
    "    for pred in [0,1]:\n",
    "        total_prob = 1 # Why 1?\n",
    "        for col in row.index:\n",
    "            p_x_given_y = # TODO: Calculate P(X|Y)\n",
    "            total_prob *= p_x_given_y\n",
    "        p_y  =  # TODO: Calculate P(Y)\n",
    "        total_prob *= p_y\n",
    "        if total_prob >= max_prob:\n",
    "            best_pred = pred\n",
    "            max_prob = total_prob\n",
    "    return best_pred"
   ],
   "outputs": [],
   "execution_count": null
  },
  {
   "cell_type": "code",
   "id": "aa6ee210",
   "metadata": {
    "scrolled": false
   },
   "source": [
    "our_nb_preds = nb_predict_all(X_nd_train, y_nd_train, X_nd_test)"
   ],
   "outputs": [],
   "execution_count": null
  },
  {
   "cell_type": "code",
   "id": "f2d7ab74",
   "metadata": {},
   "source": [
    "# Sklearn NB\n",
    "nb_mdl = CategoricalNB(alpha=1)\n",
    "nb_mdl.fit(X_nd_train, y_nd_train)\n",
    "sklearn_nb_preds = nb_mdl.predict(X_nd_test)"
   ],
   "outputs": [],
   "execution_count": null
  },
  {
   "cell_type": "code",
   "id": "200ae2f9",
   "metadata": {
    "ExecuteTime": {
     "end_time": "2024-06-21T00:50:55.989505Z",
     "start_time": "2024-06-21T00:50:55.977488Z"
    }
   },
   "source": [
    "eval_preds(our_nb_preds, sklearn_nb_preds)"
   ],
   "outputs": [
    {
     "ename": "NameError",
     "evalue": "name 'our_nb_preds' is not defined",
     "output_type": "error",
     "traceback": [
      "\u001B[0;31m---------------------------------------------------------------------------\u001B[0m",
      "\u001B[0;31mNameError\u001B[0m                                 Traceback (most recent call last)",
      "Cell \u001B[0;32mIn[155], line 1\u001B[0m\n\u001B[0;32m----> 1\u001B[0m eval_preds(\u001B[43mour_nb_preds\u001B[49m, sklearn_nb_preds)\n",
      "\u001B[0;31mNameError\u001B[0m: name 'our_nb_preds' is not defined"
     ]
    }
   ],
   "execution_count": 155
  },
  {
   "cell_type": "markdown",
   "id": "bef87b51",
   "metadata": {},
   "source": [
    "## Decision Tree"
   ]
  },
  {
   "cell_type": "markdown",
   "id": "625ee1e9",
   "metadata": {},
   "source": [
    "### Data"
   ]
  },
  {
   "cell_type": "markdown",
   "id": "9554df30",
   "metadata": {},
   "source": [
    "For the Decision Tree we will use the same Weather Dataset from the class lecture."
   ]
  },
  {
   "cell_type": "code",
   "id": "a751059b",
   "metadata": {},
   "source": [
    "weather = pd.DataFrame([['Sunny', 'Hot', 'High', 'False', 'No'],\n",
    "                       ['Sunny', 'Hot', 'High', 'True', 'No'],\n",
    "                       ['Overcast', 'Hot', 'High', 'False', 'Yes'],\n",
    "                       ['Rainy', 'Mild', 'High', 'False', 'Yes'],\n",
    "                       ['Rainy', 'Cool', 'Normal', 'False', 'Yes'],\n",
    "                       ['Rainy', 'Cool', 'Normal', 'True', 'No'],\n",
    "                       ['Overcast', 'Cool', 'Normal', 'True', 'Yes'],\n",
    "                       ['Sunny', 'Mild', 'High', 'False', 'No'],\n",
    "                       ['Sunny', 'Cool', 'Normal', 'False', 'Yes'],\n",
    "                       ['Rainy', 'Mild', 'Normal', 'False', 'Yes'],\n",
    "                       ['Sunny', 'Mild', 'Normal', 'True', 'Yes'],\n",
    "                       ['Overcast', 'Mild', 'High', 'True', 'Yes'],\n",
    "                       ['Overcast', 'Hot', 'Normal', 'False', 'Yes'],\n",
    "                       ['Rainy', 'Mild', 'High', 'True', 'No']], \n",
    "                       columns=['Outlook', 'Temperature', 'Humidity', 'Windy', 'Play?'])"
   ],
   "outputs": [],
   "execution_count": null
  },
  {
   "cell_type": "markdown",
   "id": "84b2458c",
   "metadata": {},
   "source": [
    "### Algorithm"
   ]
  },
  {
   "cell_type": "markdown",
   "id": "5e6242c0",
   "metadata": {},
   "source": [
    "Unlike the other algorithms, we wlil not write the entire Decision Tree algorithm for time/space considerations. Instead we will focus simply on the splitting criteria: Information Gain, Gain Ratio, and Gini Index."
   ]
  },
  {
   "cell_type": "code",
   "id": "b355b2b6",
   "metadata": {
    "ExecuteTime": {
     "end_time": "2024-06-21T00:50:56.065136Z",
     "start_time": "2024-06-21T00:50:56.062229Z"
    }
   },
   "source": [
    "def get_y_entropy():\n",
    "    cnt_play_no = weather[weather['Play?']=='No'].shape[0]\n",
    "    cnt_play_yes = weather[weather['Play?']=='Yes'].shape[0]\n",
    "    cnt_total = weather.shape[0]\n",
    "    entropy_y = # TODO: Calculate entropy for y. (Hint: you can use np.log2 for the logarithm)\n",
    "    return entropy_y"
   ],
   "outputs": [
    {
     "ename": "SyntaxError",
     "evalue": "invalid syntax (2109655371.py, line 5)",
     "output_type": "error",
     "traceback": [
      "\u001B[0;36m  Cell \u001B[0;32mIn[156], line 5\u001B[0;36m\u001B[0m\n\u001B[0;31m    entropy_y = # TODO: Calculate entropy for y. (Hint: you can use np.log2 for the logarithm)\u001B[0m\n\u001B[0m                ^\u001B[0m\n\u001B[0;31mSyntaxError\u001B[0m\u001B[0;31m:\u001B[0m invalid syntax\n"
     ]
    }
   ],
   "execution_count": 156
  },
  {
   "cell_type": "code",
   "id": "75b78ac9",
   "metadata": {
    "ExecuteTime": {
     "end_time": "2024-06-21T00:50:56.120316Z",
     "start_time": "2024-06-21T00:50:56.114971Z"
    }
   },
   "source": [
    "def get_column_entropy(column):\n",
    "    entropy_column = 0\n",
    "    for value in weather[column].unique():\n",
    "        cnt_column_val = weather[weather[column] == value].shape[0]\n",
    "        cnt_column_val_no = weather[(weather[column] == value) & ((weather['Play?'] == 'No'))].shape[0]\n",
    "        cnt_column_val_yes = weather[(weather[column] == value) & ((weather['Play?'] == 'Yes'))].shape[0]\n",
    "        \n",
    "        prob_column = cnt_column_val / weather.shape[0]\n",
    "        if cnt_column_val_no > 0: # Have to do this because log(0) doesn't exist\n",
    "            conditional_entropy_no = cnt_column_val_no/cnt_column_val*np.log2(cnt_column_val_no/cnt_column_val)\n",
    "        else:\n",
    "            conditional_entropy_no = 0\n",
    "        if cnt_column_val_yes > 0:\n",
    "            conditional_entropy_yes = cnt_column_val_yes/cnt_column_val*np.log2(cnt_column_val_yes/cnt_column_val)\n",
    "        else:\n",
    "            conditional_entropy_yes = 0\n",
    "        \n",
    "        entropy_column += # TODO: Add the entropy for this value to the running total for the column\n",
    "    return entropy_column"
   ],
   "outputs": [
    {
     "ename": "SyntaxError",
     "evalue": "invalid syntax (3192341054.py, line 18)",
     "output_type": "error",
     "traceback": [
      "\u001B[0;36m  Cell \u001B[0;32mIn[157], line 18\u001B[0;36m\u001B[0m\n\u001B[0;31m    entropy_column += # TODO: Add the entropy for this value to the running total for the column\u001B[0m\n\u001B[0m                      ^\u001B[0m\n\u001B[0;31mSyntaxError\u001B[0m\u001B[0;31m:\u001B[0m invalid syntax\n"
     ]
    }
   ],
   "execution_count": 157
  },
  {
   "cell_type": "code",
   "id": "e5625719",
   "metadata": {
    "ExecuteTime": {
     "end_time": "2024-06-21T00:50:56.142044Z",
     "start_time": "2024-06-21T00:50:56.139479Z"
    }
   },
   "source": [
    "def get_information_gain(column):\n",
    "    entropy_y = get_y_entropy()\n",
    "    column_entropy = get_column_entropy(column)\n",
    "    ig = # TODO: Calculate Information Gain\n",
    "    return ig"
   ],
   "outputs": [
    {
     "ename": "SyntaxError",
     "evalue": "invalid syntax (3631753382.py, line 4)",
     "output_type": "error",
     "traceback": [
      "\u001B[0;36m  Cell \u001B[0;32mIn[158], line 4\u001B[0;36m\u001B[0m\n\u001B[0;31m    ig = # TODO: Calculate Information Gain\u001B[0m\n\u001B[0m         ^\u001B[0m\n\u001B[0;31mSyntaxError\u001B[0m\u001B[0;31m:\u001B[0m invalid syntax\n"
     ]
    }
   ],
   "execution_count": 158
  },
  {
   "cell_type": "code",
   "id": "8aefc5fb",
   "metadata": {
    "ExecuteTime": {
     "end_time": "2024-06-21T00:50:56.179360Z",
     "start_time": "2024-06-21T00:50:56.167844Z"
    }
   },
   "source": [
    "for col in weather.columns:\n",
    "    if col == 'Play?':\n",
    "        continue\n",
    "    print(f\"IG(Y|{col}): {round(get_information_gain(col), 2)}\")"
   ],
   "outputs": [
    {
     "ename": "NameError",
     "evalue": "name 'get_information_gain' is not defined",
     "output_type": "error",
     "traceback": [
      "\u001B[0;31m---------------------------------------------------------------------------\u001B[0m",
      "\u001B[0;31mNameError\u001B[0m                                 Traceback (most recent call last)",
      "Cell \u001B[0;32mIn[159], line 4\u001B[0m\n\u001B[1;32m      2\u001B[0m \u001B[38;5;28;01mif\u001B[39;00m col \u001B[38;5;241m==\u001B[39m \u001B[38;5;124m'\u001B[39m\u001B[38;5;124mPlay?\u001B[39m\u001B[38;5;124m'\u001B[39m:\n\u001B[1;32m      3\u001B[0m     \u001B[38;5;28;01mcontinue\u001B[39;00m\n\u001B[0;32m----> 4\u001B[0m \u001B[38;5;28mprint\u001B[39m(\u001B[38;5;124mf\u001B[39m\u001B[38;5;124m\"\u001B[39m\u001B[38;5;124mIG(Y|\u001B[39m\u001B[38;5;132;01m{\u001B[39;00mcol\u001B[38;5;132;01m}\u001B[39;00m\u001B[38;5;124m): \u001B[39m\u001B[38;5;132;01m{\u001B[39;00m\u001B[38;5;28mround\u001B[39m(get_information_gain(col),\u001B[38;5;250m \u001B[39m\u001B[38;5;241m2\u001B[39m)\u001B[38;5;132;01m}\u001B[39;00m\u001B[38;5;124m\"\u001B[39m)\n",
      "\u001B[0;31mNameError\u001B[0m: name 'get_information_gain' is not defined"
     ]
    }
   ],
   "execution_count": 159
  },
  {
   "cell_type": "markdown",
   "id": "d5fa2f18",
   "metadata": {},
   "source": [
    "<font color='red'>**Correct Answer:**"
   ]
  },
  {
   "attachments": {
    "image.png": {
     "image/png": "[encoded data removed]"
    }
   },
   "cell_type": "markdown",
   "id": "2e982ffa",
   "metadata": {},
   "source": [
    "![image.png](attachment:image.png)"
   ]
  },
  {
   "cell_type": "code",
   "id": "02e98935",
   "metadata": {
    "ExecuteTime": {
     "end_time": "2024-06-21T00:50:56.183181Z",
     "start_time": "2024-06-21T00:50:56.180686Z"
    }
   },
   "source": [
    "def get_split_info(column):\n",
    "    split_info = 0\n",
    "    for value in weather[column].unique():\n",
    "        size_split = weather[weather[column] == value].shape[0]\n",
    "        size_all_splits = weather.shape[0]\n",
    "        split_info += -size_split/size_all_splits*np.log2(size_split/size_all_splits)\n",
    "    return split_info"
   ],
   "outputs": [],
   "execution_count": 160
  },
  {
   "cell_type": "code",
   "id": "616a3b82",
   "metadata": {
    "ExecuteTime": {
     "end_time": "2024-06-21T00:50:56.197793Z",
     "start_time": "2024-06-21T00:50:56.194866Z"
    }
   },
   "source": [
    "def get_gain_ratio(column):\n",
    "    information_gain = get_information_gain(column)\n",
    "    split_info = get_split_info(column)\n",
    "    gr = # TODO: Calculate Gain Ratio\n",
    "    return gr"
   ],
   "outputs": [
    {
     "ename": "SyntaxError",
     "evalue": "invalid syntax (2965570132.py, line 4)",
     "output_type": "error",
     "traceback": [
      "\u001B[0;36m  Cell \u001B[0;32mIn[161], line 4\u001B[0;36m\u001B[0m\n\u001B[0;31m    gr = # TODO: Calculate Gain Ratio\u001B[0m\n\u001B[0m         ^\u001B[0m\n\u001B[0;31mSyntaxError\u001B[0m\u001B[0;31m:\u001B[0m invalid syntax\n"
     ]
    }
   ],
   "execution_count": 161
  },
  {
   "cell_type": "code",
   "id": "1a7e6e76",
   "metadata": {
    "ExecuteTime": {
     "end_time": "2024-06-21T00:50:56.239665Z",
     "start_time": "2024-06-21T00:50:56.228383Z"
    }
   },
   "source": [
    "for col in weather.columns:\n",
    "    if col == 'Play?':\n",
    "        continue\n",
    "    print(f\"GR(Y|{col}): {round(get_gain_ratio(col), 2)}\")"
   ],
   "outputs": [
    {
     "ename": "NameError",
     "evalue": "name 'get_gain_ratio' is not defined",
     "output_type": "error",
     "traceback": [
      "\u001B[0;31m---------------------------------------------------------------------------\u001B[0m",
      "\u001B[0;31mNameError\u001B[0m                                 Traceback (most recent call last)",
      "Cell \u001B[0;32mIn[162], line 4\u001B[0m\n\u001B[1;32m      2\u001B[0m \u001B[38;5;28;01mif\u001B[39;00m col \u001B[38;5;241m==\u001B[39m \u001B[38;5;124m'\u001B[39m\u001B[38;5;124mPlay?\u001B[39m\u001B[38;5;124m'\u001B[39m:\n\u001B[1;32m      3\u001B[0m     \u001B[38;5;28;01mcontinue\u001B[39;00m\n\u001B[0;32m----> 4\u001B[0m \u001B[38;5;28mprint\u001B[39m(\u001B[38;5;124mf\u001B[39m\u001B[38;5;124m\"\u001B[39m\u001B[38;5;124mGR(Y|\u001B[39m\u001B[38;5;132;01m{\u001B[39;00mcol\u001B[38;5;132;01m}\u001B[39;00m\u001B[38;5;124m): \u001B[39m\u001B[38;5;132;01m{\u001B[39;00m\u001B[38;5;28mround\u001B[39m(get_gain_ratio(col),\u001B[38;5;250m \u001B[39m\u001B[38;5;241m2\u001B[39m)\u001B[38;5;132;01m}\u001B[39;00m\u001B[38;5;124m\"\u001B[39m)\n",
      "\u001B[0;31mNameError\u001B[0m: name 'get_gain_ratio' is not defined"
     ]
    }
   ],
   "execution_count": 162
  },
  {
   "cell_type": "markdown",
   "id": "443740e7",
   "metadata": {},
   "source": [
    "<font color='red'>**Correct Answer:**"
   ]
  },
  {
   "attachments": {
    "image-3.png": {
     "image/png": "[encoded data removed]"
    }
   },
   "cell_type": "markdown",
   "id": "62f9141b",
   "metadata": {},
   "source": [
    "![image-3.png](attachment:image-3.png)"
   ]
  },
  {
   "cell_type": "code",
   "id": "9030d751",
   "metadata": {
    "ExecuteTime": {
     "end_time": "2024-06-21T00:50:56.246134Z",
     "start_time": "2024-06-21T00:50:56.242976Z"
    }
   },
   "source": [
    "def get_gini_index_y():\n",
    "    p_yes = sum(weather['Play?']=='Yes')/weather['Play?'].shape[0]\n",
    "    p_no = sum(weather['Play?']=='No')/weather['Play?'].shape[0]\n",
    "    gi = # TODO: Calculate Gini Index\n",
    "    return gi"
   ],
   "outputs": [
    {
     "ename": "SyntaxError",
     "evalue": "invalid syntax (1841875809.py, line 4)",
     "output_type": "error",
     "traceback": [
      "\u001B[0;36m  Cell \u001B[0;32mIn[163], line 4\u001B[0;36m\u001B[0m\n\u001B[0;31m    gi = # TODO: Calculate Gini Index\u001B[0m\n\u001B[0m         ^\u001B[0m\n\u001B[0;31mSyntaxError\u001B[0m\u001B[0;31m:\u001B[0m invalid syntax\n"
     ]
    }
   ],
   "execution_count": 163
  },
  {
   "cell_type": "code",
   "id": "1f0de67e",
   "metadata": {
    "ExecuteTime": {
     "end_time": "2024-06-21T00:50:56.275253Z",
     "start_time": "2024-06-21T00:50:56.272013Z"
    }
   },
   "source": [
    "def get_gini_index_col(column):\n",
    "    gi = 0\n",
    "    for value in weather[column].unique():\n",
    "        p_col = sum(weather[column]==value) / weather.shape[0]\n",
    "        p_col_no = sum((weather[column] == value) & (weather['Play?'] == 'No')) / sum(weather[column]==value)\n",
    "        p_col_yes = sum((weather[column] == value) & (weather['Play?'] == 'Yes')) / sum(weather[column]==value)\n",
    "        gi += # TODO: Add Gini Index for value to running total for column\n",
    "    return gi"
   ],
   "outputs": [
    {
     "ename": "SyntaxError",
     "evalue": "invalid syntax (516091058.py, line 7)",
     "output_type": "error",
     "traceback": [
      "\u001B[0;36m  Cell \u001B[0;32mIn[164], line 7\u001B[0;36m\u001B[0m\n\u001B[0;31m    gi += # TODO: Add Gini Index for value to running total for column\u001B[0m\n\u001B[0m          ^\u001B[0m\n\u001B[0;31mSyntaxError\u001B[0m\u001B[0;31m:\u001B[0m invalid syntax\n"
     ]
    }
   ],
   "execution_count": 164
  },
  {
   "cell_type": "code",
   "id": "339b972f",
   "metadata": {
    "ExecuteTime": {
     "end_time": "2024-06-21T00:50:56.320669Z",
     "start_time": "2024-06-21T00:50:56.318157Z"
    }
   },
   "source": [
    "def get_delta_gini_index_col(column):\n",
    "    gi_y = get_gini_index_y()\n",
    "    gi_col = get_gini_index_col(column)\n",
    "    delta_gi = # TODO: Calculate Delta GI\n",
    "    return delta_gi"
   ],
   "outputs": [
    {
     "ename": "SyntaxError",
     "evalue": "invalid syntax (2289762884.py, line 4)",
     "output_type": "error",
     "traceback": [
      "\u001B[0;36m  Cell \u001B[0;32mIn[165], line 4\u001B[0;36m\u001B[0m\n\u001B[0;31m    delta_gi = # TODO: Calculate Delta GI\u001B[0m\n\u001B[0m               ^\u001B[0m\n\u001B[0;31mSyntaxError\u001B[0m\u001B[0;31m:\u001B[0m invalid syntax\n"
     ]
    }
   ],
   "execution_count": 165
  },
  {
   "cell_type": "code",
   "id": "673000ca",
   "metadata": {
    "ExecuteTime": {
     "end_time": "2024-06-21T00:50:56.353416Z",
     "start_time": "2024-06-21T00:50:56.341469Z"
    }
   },
   "source": [
    "for col in weather.columns:\n",
    "    if col == 'Play?':\n",
    "        continue\n",
    "    print(f\"\\u0394GI(Y|{col}): {round(get_delta_gini_index_col(col), 2)}\")"
   ],
   "outputs": [
    {
     "ename": "NameError",
     "evalue": "name 'get_delta_gini_index_col' is not defined",
     "output_type": "error",
     "traceback": [
      "\u001B[0;31m---------------------------------------------------------------------------\u001B[0m",
      "\u001B[0;31mNameError\u001B[0m                                 Traceback (most recent call last)",
      "Cell \u001B[0;32mIn[166], line 4\u001B[0m\n\u001B[1;32m      2\u001B[0m \u001B[38;5;28;01mif\u001B[39;00m col \u001B[38;5;241m==\u001B[39m \u001B[38;5;124m'\u001B[39m\u001B[38;5;124mPlay?\u001B[39m\u001B[38;5;124m'\u001B[39m:\n\u001B[1;32m      3\u001B[0m     \u001B[38;5;28;01mcontinue\u001B[39;00m\n\u001B[0;32m----> 4\u001B[0m \u001B[38;5;28mprint\u001B[39m(\u001B[38;5;124mf\u001B[39m\u001B[38;5;124m\"\u001B[39m\u001B[38;5;130;01m\\u0394\u001B[39;00m\u001B[38;5;124mGI(Y|\u001B[39m\u001B[38;5;132;01m{\u001B[39;00mcol\u001B[38;5;132;01m}\u001B[39;00m\u001B[38;5;124m): \u001B[39m\u001B[38;5;132;01m{\u001B[39;00m\u001B[38;5;28mround\u001B[39m(get_delta_gini_index_col(col),\u001B[38;5;250m \u001B[39m\u001B[38;5;241m2\u001B[39m)\u001B[38;5;132;01m}\u001B[39;00m\u001B[38;5;124m\"\u001B[39m)\n",
      "\u001B[0;31mNameError\u001B[0m: name 'get_delta_gini_index_col' is not defined"
     ]
    }
   ],
   "execution_count": 166
  },
  {
   "cell_type": "markdown",
   "id": "2ab11899",
   "metadata": {},
   "source": [
    "<font color='red'>**Correct Answer:**"
   ]
  },
  {
   "attachments": {
    "image.png": {
     "image/png": "[encoded data removed]"
    }
   },
   "cell_type": "markdown",
   "id": "46521864",
   "metadata": {},
   "source": [
    "![image.png](attachment:image.png)"
   ]
  },
  {
   "cell_type": "markdown",
   "id": "840fff24",
   "metadata": {},
   "source": [
    "## Discussion Questions"
   ]
  },
  {
   "cell_type": "markdown",
   "id": "d4c85eba",
   "metadata": {},
   "source": [
    "0) Why do I say you should only use an odd number for k in KNN?"
   ]
  },
  {
   "cell_type": "markdown",
   "id": "54cf750b",
   "metadata": {},
   "source": [
    "1) In the ND results dataset, I changed Marshall's conference from Sun Belt to CUSA to simplify our model. Why was this necessary? "
   ]
  },
  {
   "cell_type": "markdown",
   "id": "7b5a4459",
   "metadata": {},
   "source": [
    "2) Now that we calculated the Information Gain, Gain Ratio, and Gini Index for each of the columns, which column is the optional split point for each metric?"
   ]
  },
  {
   "cell_type": "markdown",
   "id": "52f0b4b1",
   "metadata": {},
   "source": [
    "3) Why did we use different datasets for KNN and Naive Bayes? Is there something about these datasets that's makes one easier for each algorithm?"
   ]
  },
  {
   "cell_type": "markdown",
   "id": "f64614bf",
   "metadata": {},
   "source": [
    "4) What impact (if any) does the Curse of Dimensionality have on KNN, Naive Bayes, and Decision Trees?"
   ]
  },
  {
   "cell_type": "markdown",
   "id": "1413fb5f",
   "metadata": {},
   "source": [
    "5) What would happen if you were to test a KNN on the training set with k=1?"
   ]
  },
  {
   "cell_type": "markdown",
   "id": "4d210283",
   "metadata": {},
   "source": [
    "6) For which algorithms that we discussed should you use normalize/standardize your data?"
   ]
  },
  {
   "cell_type": "markdown",
   "id": "23106c31",
   "metadata": {},
   "source": [
    "7) What impact would a small training set have on each of the algorithms? What about an imbalanced training set?"
   ]
  }
 ],
 "metadata": {
  "kernelspec": {
   "display_name": "Python 3 (ipykernel)",
   "language": "python",
   "name": "python3"
  },
  "language_info": {
   "codemirror_mode": {
    "name": "ipython",
    "version": 3
   },
   "file_extension": ".py",
   "mimetype": "text/x-python",
   "name": "python",
   "nbconvert_exporter": "python",
   "pygments_lexer": "ipython3",
   "version": "3.9.7"
  }
 },
 "nbformat": 4,
 "nbformat_minor": 5
}
