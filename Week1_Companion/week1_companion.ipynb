{
 "cells": [
  {
   "cell_type": "markdown",
   "metadata": {},
   "source": [
    "# Companion Notebook for Assignment 1: Processing Data in Python\n"
   ]
  },
  {
   "cell_type": "markdown",
   "metadata": {},
   "source": [
    "## Getting started with pandas\n",
    "\n",
    "We start by importing the libraries we're going to use: `pandas` and `matplotlib`"
   ]
  },
  {
   "cell_type": "code",
   "execution_count": 95,
   "metadata": {},
   "outputs": [],
   "source": [
    "import pandas as pd\n",
    "%matplotlib inline"
   ]
  },
  {
   "cell_type": "markdown",
   "metadata": {},
   "source": [
    "## Loading data into a DataFrame\n",
    "\n",
    "The pandas DataFrame is a two-dimensional size-mutable, potentially heterogeneous tabular data structure with labeled axes. It's basically a spreadsheet you can program and it's an incredibly useful Python object for data analysis. \n",
    "\n",
    "You can load data into a dataframe using pandas' excellent `read_*` functions.\n",
    "\n",
    "We're going to try two of them: read_csv and read_sql.\n",
    "\n",
    "*Pro tip*: Jupyter will output the docstring (i.e., source code comments) for a command just by asking it a question."
   ]
  },
  {
   "cell_type": "code",
   "execution_count": 96,
   "metadata": {},
   "outputs": [],
   "source": [
    "pd.read_sql?\n",
    "pd.read_csv?"
   ]
  },
  {
   "cell_type": "markdown",
   "metadata": {},
   "source": [
    "Now let's read data in from a CSV file:"
   ]
  },
  {
   "cell_type": "code",
   "execution_count": 97,
   "metadata": {},
   "outputs": [],
   "source": [
    "df = pd.read_csv('https://raw.githubusercontent.com/cse44648/cse44648/master/datasets/hypothyroid.csv')"
   ]
  },
  {
   "cell_type": "markdown",
   "metadata": {},
   "source": [
    "## Viewing your dataframe\n",
    "\n",
    "You can use `head` and `tail` to get a view of your data."
   ]
  },
  {
   "cell_type": "code",
   "execution_count": 98,
   "metadata": {},
   "outputs": [
    {
     "data": {
      "text/html": [
       "<div>\n",
       "<style scoped>\n",
       "    .dataframe tbody tr th:only-of-type {\n",
       "        vertical-align: middle;\n",
       "    }\n",
       "\n",
       "    .dataframe tbody tr th {\n",
       "        vertical-align: top;\n",
       "    }\n",
       "\n",
       "    .dataframe thead th {\n",
       "        text-align: right;\n",
       "    }\n",
       "</style>\n",
       "<table border=\"1\" class=\"dataframe\">\n",
       "  <thead>\n",
       "    <tr style=\"text-align: right;\">\n",
       "      <th></th>\n",
       "      <th>Age</th>\n",
       "      <th>Sex</th>\n",
       "      <th>On Thyroxine</th>\n",
       "      <th>Query on Thyroxine</th>\n",
       "      <th>On Antithyroid Medication</th>\n",
       "      <th>Thyroid Surgery</th>\n",
       "      <th>Query Hypothyroid</th>\n",
       "      <th>Query Hyperthyroid</th>\n",
       "      <th>Pregnant</th>\n",
       "      <th>Sick</th>\n",
       "      <th>...</th>\n",
       "      <th>T3</th>\n",
       "      <th>TT4 Measured</th>\n",
       "      <th>TT4</th>\n",
       "      <th>T4U Measured</th>\n",
       "      <th>T4U</th>\n",
       "      <th>FTI Measured</th>\n",
       "      <th>FTI</th>\n",
       "      <th>TBG Measured</th>\n",
       "      <th>TBG</th>\n",
       "      <th>Class</th>\n",
       "    </tr>\n",
       "  </thead>\n",
       "  <tbody>\n",
       "    <tr>\n",
       "      <th>0</th>\n",
       "      <td>72.0</td>\n",
       "      <td>M</td>\n",
       "      <td>f</td>\n",
       "      <td>f</td>\n",
       "      <td>f</td>\n",
       "      <td>f</td>\n",
       "      <td>f</td>\n",
       "      <td>f</td>\n",
       "      <td>f</td>\n",
       "      <td>f</td>\n",
       "      <td>...</td>\n",
       "      <td>0.6</td>\n",
       "      <td>y</td>\n",
       "      <td>15.0</td>\n",
       "      <td>y</td>\n",
       "      <td>1.48</td>\n",
       "      <td>y</td>\n",
       "      <td>10.0</td>\n",
       "      <td>n</td>\n",
       "      <td>NaN</td>\n",
       "      <td>hypothyroid</td>\n",
       "    </tr>\n",
       "    <tr>\n",
       "      <th>1</th>\n",
       "      <td>15.0</td>\n",
       "      <td>F</td>\n",
       "      <td>t</td>\n",
       "      <td>f</td>\n",
       "      <td>f</td>\n",
       "      <td>f</td>\n",
       "      <td>f</td>\n",
       "      <td>f</td>\n",
       "      <td>f</td>\n",
       "      <td>f</td>\n",
       "      <td>...</td>\n",
       "      <td>1.7</td>\n",
       "      <td>y</td>\n",
       "      <td>19.0</td>\n",
       "      <td>y</td>\n",
       "      <td>1.13</td>\n",
       "      <td>y</td>\n",
       "      <td>17.0</td>\n",
       "      <td>n</td>\n",
       "      <td>NaN</td>\n",
       "      <td>hypothyroid</td>\n",
       "    </tr>\n",
       "    <tr>\n",
       "      <th>2</th>\n",
       "      <td>24.0</td>\n",
       "      <td>M</td>\n",
       "      <td>f</td>\n",
       "      <td>f</td>\n",
       "      <td>f</td>\n",
       "      <td>f</td>\n",
       "      <td>f</td>\n",
       "      <td>f</td>\n",
       "      <td>f</td>\n",
       "      <td>f</td>\n",
       "      <td>...</td>\n",
       "      <td>0.2</td>\n",
       "      <td>y</td>\n",
       "      <td>4.0</td>\n",
       "      <td>y</td>\n",
       "      <td>1.00</td>\n",
       "      <td>y</td>\n",
       "      <td>0.0</td>\n",
       "      <td>n</td>\n",
       "      <td>NaN</td>\n",
       "      <td>hypothyroid</td>\n",
       "    </tr>\n",
       "    <tr>\n",
       "      <th>3</th>\n",
       "      <td>24.0</td>\n",
       "      <td>F</td>\n",
       "      <td>f</td>\n",
       "      <td>f</td>\n",
       "      <td>f</td>\n",
       "      <td>f</td>\n",
       "      <td>f</td>\n",
       "      <td>f</td>\n",
       "      <td>f</td>\n",
       "      <td>f</td>\n",
       "      <td>...</td>\n",
       "      <td>0.4</td>\n",
       "      <td>y</td>\n",
       "      <td>6.0</td>\n",
       "      <td>y</td>\n",
       "      <td>1.04</td>\n",
       "      <td>y</td>\n",
       "      <td>6.0</td>\n",
       "      <td>n</td>\n",
       "      <td>NaN</td>\n",
       "      <td>hypothyroid</td>\n",
       "    </tr>\n",
       "    <tr>\n",
       "      <th>4</th>\n",
       "      <td>77.0</td>\n",
       "      <td>M</td>\n",
       "      <td>f</td>\n",
       "      <td>f</td>\n",
       "      <td>f</td>\n",
       "      <td>f</td>\n",
       "      <td>f</td>\n",
       "      <td>f</td>\n",
       "      <td>f</td>\n",
       "      <td>f</td>\n",
       "      <td>...</td>\n",
       "      <td>1.2</td>\n",
       "      <td>y</td>\n",
       "      <td>57.0</td>\n",
       "      <td>y</td>\n",
       "      <td>1.28</td>\n",
       "      <td>y</td>\n",
       "      <td>44.0</td>\n",
       "      <td>n</td>\n",
       "      <td>NaN</td>\n",
       "      <td>hypothyroid</td>\n",
       "    </tr>\n",
       "  </tbody>\n",
       "</table>\n",
       "<p>5 rows × 26 columns</p>\n",
       "</div>"
      ],
      "text/plain": [
       "    Age Sex On Thyroxine Query on Thyroxine On Antithyroid Medication  \\\n",
       "0  72.0   M            f                  f                         f   \n",
       "1  15.0   F            t                  f                         f   \n",
       "2  24.0   M            f                  f                         f   \n",
       "3  24.0   F            f                  f                         f   \n",
       "4  77.0   M            f                  f                         f   \n",
       "\n",
       "  Thyroid Surgery Query Hypothyroid Query Hyperthyroid Pregnant Sick  ...  \\\n",
       "0               f                 f                  f        f    f  ...   \n",
       "1               f                 f                  f        f    f  ...   \n",
       "2               f                 f                  f        f    f  ...   \n",
       "3               f                 f                  f        f    f  ...   \n",
       "4               f                 f                  f        f    f  ...   \n",
       "\n",
       "    T3 TT4 Measured   TT4 T4U Measured   T4U FTI Measured   FTI TBG Measured  \\\n",
       "0  0.6            y  15.0            y  1.48            y  10.0            n   \n",
       "1  1.7            y  19.0            y  1.13            y  17.0            n   \n",
       "2  0.2            y   4.0            y  1.00            y   0.0            n   \n",
       "3  0.4            y   6.0            y  1.04            y   6.0            n   \n",
       "4  1.2            y  57.0            y  1.28            y  44.0            n   \n",
       "\n",
       "   TBG        Class  \n",
       "0  NaN  hypothyroid  \n",
       "1  NaN  hypothyroid  \n",
       "2  NaN  hypothyroid  \n",
       "3  NaN  hypothyroid  \n",
       "4  NaN  hypothyroid  \n",
       "\n",
       "[5 rows x 26 columns]"
      ]
     },
     "execution_count": 98,
     "metadata": {},
     "output_type": "execute_result"
    }
   ],
   "source": [
    "df.head()"
   ]
  },
  {
   "cell_type": "markdown",
   "metadata": {},
   "source": [
    "We can get a sense for the size and shape of the data using `shape`"
   ]
  },
  {
   "cell_type": "code",
   "execution_count": 99,
   "metadata": {},
   "outputs": [
    {
     "data": {
      "text/plain": [
       "(3163, 26)"
      ]
     },
     "execution_count": 99,
     "metadata": {},
     "output_type": "execute_result"
    }
   ],
   "source": [
    "df.shape"
   ]
  },
  {
   "cell_type": "markdown",
   "metadata": {},
   "source": [
    "## Columns\n",
    "\n",
    "Columns typically represent features of a given instance or record in the dataframe. You can use the `.columns` attribute to print a list of all columns:"
   ]
  },
  {
   "cell_type": "code",
   "execution_count": 100,
   "metadata": {},
   "outputs": [
    {
     "data": {
      "text/plain": [
       "Index(['Age', 'Sex', 'On Thyroxine', 'Query on Thyroxine',\n",
       "       'On Antithyroid Medication', 'Thyroid Surgery', 'Query Hypothyroid',\n",
       "       'Query Hyperthyroid', 'Pregnant', 'Sick', 'Tumor', 'Lithium', 'Goitre',\n",
       "       'TSH Measured', 'TSH', 'T3 Measured', 'T3', 'TT4 Measured', 'TT4',\n",
       "       'T4U Measured', 'T4U', 'FTI Measured', 'FTI', 'TBG Measured', 'TBG',\n",
       "       'Class'],\n",
       "      dtype='object')"
      ]
     },
     "execution_count": 100,
     "metadata": {},
     "output_type": "execute_result"
    }
   ],
   "source": [
    "df.columns"
   ]
  },
  {
   "cell_type": "markdown",
   "metadata": {},
   "source": [
    "Get a sense for the type of each column using `dtypes`:"
   ]
  },
  {
   "cell_type": "code",
   "execution_count": 101,
   "metadata": {},
   "outputs": [
    {
     "data": {
      "text/plain": [
       "Age                          float64\n",
       "Sex                           object\n",
       "On Thyroxine                  object\n",
       "Query on Thyroxine            object\n",
       "On Antithyroid Medication     object\n",
       "Thyroid Surgery               object\n",
       "Query Hypothyroid             object\n",
       "Query Hyperthyroid            object\n",
       "Pregnant                      object\n",
       "Sick                          object\n",
       "Tumor                         object\n",
       "Lithium                       object\n",
       "Goitre                        object\n",
       "TSH Measured                  object\n",
       "TSH                          float64\n",
       "T3 Measured                   object\n",
       "T3                           float64\n",
       "TT4 Measured                  object\n",
       "TT4                          float64\n",
       "T4U Measured                  object\n",
       "T4U                          float64\n",
       "FTI Measured                  object\n",
       "FTI                          float64\n",
       "TBG Measured                  object\n",
       "TBG                          float64\n",
       "Class                         object\n",
       "dtype: object"
      ]
     },
     "execution_count": 101,
     "metadata": {},
     "output_type": "execute_result"
    }
   ],
   "source": [
    "df.dtypes"
   ]
  },
  {
   "cell_type": "markdown",
   "metadata": {},
   "source": [
    "To access a single column as a series, you can reference its name as a string in square brackets:"
   ]
  },
  {
   "cell_type": "code",
   "execution_count": 102,
   "metadata": {},
   "outputs": [
    {
     "data": {
      "text/plain": [
       "0       f\n",
       "1       f\n",
       "2       f\n",
       "3       f\n",
       "4       f\n",
       "       ..\n",
       "3158    f\n",
       "3159    f\n",
       "3160    f\n",
       "3161    f\n",
       "3162    f\n",
       "Name: On Antithyroid Medication, Length: 3163, dtype: object"
      ]
     },
     "execution_count": 102,
     "metadata": {},
     "output_type": "execute_result"
    }
   ],
   "source": [
    "df['On Antithyroid Medication']"
   ]
  },
  {
   "cell_type": "markdown",
   "metadata": {},
   "source": [
    "To plot a series, use the `.plot()` function"
   ]
  },
  {
   "cell_type": "markdown",
   "metadata": {},
   "source": [
    "To access multiple columns as a dataframe, you can use a list of column names:"
   ]
  },
  {
   "cell_type": "code",
   "execution_count": 103,
   "metadata": {},
   "outputs": [
    {
     "data": {
      "text/html": [
       "<div>\n",
       "<style scoped>\n",
       "    .dataframe tbody tr th:only-of-type {\n",
       "        vertical-align: middle;\n",
       "    }\n",
       "\n",
       "    .dataframe tbody tr th {\n",
       "        vertical-align: top;\n",
       "    }\n",
       "\n",
       "    .dataframe thead th {\n",
       "        text-align: right;\n",
       "    }\n",
       "</style>\n",
       "<table border=\"1\" class=\"dataframe\">\n",
       "  <thead>\n",
       "    <tr style=\"text-align: right;\">\n",
       "      <th></th>\n",
       "      <th>On Antithyroid Medication</th>\n",
       "      <th>Thyroid Surgery</th>\n",
       "    </tr>\n",
       "  </thead>\n",
       "  <tbody>\n",
       "    <tr>\n",
       "      <th>0</th>\n",
       "      <td>f</td>\n",
       "      <td>f</td>\n",
       "    </tr>\n",
       "    <tr>\n",
       "      <th>1</th>\n",
       "      <td>f</td>\n",
       "      <td>f</td>\n",
       "    </tr>\n",
       "    <tr>\n",
       "      <th>2</th>\n",
       "      <td>f</td>\n",
       "      <td>f</td>\n",
       "    </tr>\n",
       "    <tr>\n",
       "      <th>3</th>\n",
       "      <td>f</td>\n",
       "      <td>f</td>\n",
       "    </tr>\n",
       "    <tr>\n",
       "      <th>4</th>\n",
       "      <td>f</td>\n",
       "      <td>f</td>\n",
       "    </tr>\n",
       "    <tr>\n",
       "      <th>...</th>\n",
       "      <td>...</td>\n",
       "      <td>...</td>\n",
       "    </tr>\n",
       "    <tr>\n",
       "      <th>3158</th>\n",
       "      <td>f</td>\n",
       "      <td>f</td>\n",
       "    </tr>\n",
       "    <tr>\n",
       "      <th>3159</th>\n",
       "      <td>f</td>\n",
       "      <td>f</td>\n",
       "    </tr>\n",
       "    <tr>\n",
       "      <th>3160</th>\n",
       "      <td>f</td>\n",
       "      <td>f</td>\n",
       "    </tr>\n",
       "    <tr>\n",
       "      <th>3161</th>\n",
       "      <td>f</td>\n",
       "      <td>f</td>\n",
       "    </tr>\n",
       "    <tr>\n",
       "      <th>3162</th>\n",
       "      <td>f</td>\n",
       "      <td>f</td>\n",
       "    </tr>\n",
       "  </tbody>\n",
       "</table>\n",
       "<p>3163 rows × 2 columns</p>\n",
       "</div>"
      ],
      "text/plain": [
       "     On Antithyroid Medication Thyroid Surgery\n",
       "0                            f               f\n",
       "1                            f               f\n",
       "2                            f               f\n",
       "3                            f               f\n",
       "4                            f               f\n",
       "...                        ...             ...\n",
       "3158                         f               f\n",
       "3159                         f               f\n",
       "3160                         f               f\n",
       "3161                         f               f\n",
       "3162                         f               f\n",
       "\n",
       "[3163 rows x 2 columns]"
      ]
     },
     "execution_count": 103,
     "metadata": {},
     "output_type": "execute_result"
    }
   ],
   "source": [
    "df[['On Antithyroid Medication', 'Thyroid Surgery']]"
   ]
  },
  {
   "cell_type": "markdown",
   "metadata": {},
   "source": [
    "## Basic views into the data\n",
    "\n",
    "Lets get a better sense what these fields look like. \n",
    "\n",
    "Let's start by describing the entire dataset using the `describe` function."
   ]
  },
  {
   "cell_type": "code",
   "execution_count": 104,
   "metadata": {},
   "outputs": [
    {
     "data": {
      "text/html": [
       "<div>\n",
       "<style scoped>\n",
       "    .dataframe tbody tr th:only-of-type {\n",
       "        vertical-align: middle;\n",
       "    }\n",
       "\n",
       "    .dataframe tbody tr th {\n",
       "        vertical-align: top;\n",
       "    }\n",
       "\n",
       "    .dataframe thead th {\n",
       "        text-align: right;\n",
       "    }\n",
       "</style>\n",
       "<table border=\"1\" class=\"dataframe\">\n",
       "  <thead>\n",
       "    <tr style=\"text-align: right;\">\n",
       "      <th></th>\n",
       "      <th>Age</th>\n",
       "      <th>TSH</th>\n",
       "      <th>T3</th>\n",
       "      <th>TT4</th>\n",
       "      <th>T4U</th>\n",
       "      <th>FTI</th>\n",
       "      <th>TBG</th>\n",
       "    </tr>\n",
       "  </thead>\n",
       "  <tbody>\n",
       "    <tr>\n",
       "      <th>count</th>\n",
       "      <td>2717.000000</td>\n",
       "      <td>2695.000000</td>\n",
       "      <td>2468.000000</td>\n",
       "      <td>2914.000000</td>\n",
       "      <td>2915.000000</td>\n",
       "      <td>2916.000000</td>\n",
       "      <td>260.000000</td>\n",
       "    </tr>\n",
       "    <tr>\n",
       "      <th>mean</th>\n",
       "      <td>51.154214</td>\n",
       "      <td>5.923180</td>\n",
       "      <td>1.939749</td>\n",
       "      <td>108.850000</td>\n",
       "      <td>0.978199</td>\n",
       "      <td>115.397771</td>\n",
       "      <td>31.283077</td>\n",
       "    </tr>\n",
       "    <tr>\n",
       "      <th>std</th>\n",
       "      <td>19.294405</td>\n",
       "      <td>23.899467</td>\n",
       "      <td>0.996773</td>\n",
       "      <td>45.485419</td>\n",
       "      <td>0.226580</td>\n",
       "      <td>60.239572</td>\n",
       "      <td>19.224659</td>\n",
       "    </tr>\n",
       "    <tr>\n",
       "      <th>min</th>\n",
       "      <td>1.000000</td>\n",
       "      <td>0.000000</td>\n",
       "      <td>0.000000</td>\n",
       "      <td>2.000000</td>\n",
       "      <td>0.000000</td>\n",
       "      <td>0.000000</td>\n",
       "      <td>0.000000</td>\n",
       "    </tr>\n",
       "    <tr>\n",
       "      <th>25%</th>\n",
       "      <td>35.000000</td>\n",
       "      <td>0.000000</td>\n",
       "      <td>1.400000</td>\n",
       "      <td>83.000000</td>\n",
       "      <td>0.850000</td>\n",
       "      <td>91.000000</td>\n",
       "      <td>21.000000</td>\n",
       "    </tr>\n",
       "    <tr>\n",
       "      <th>50%</th>\n",
       "      <td>54.000000</td>\n",
       "      <td>0.700000</td>\n",
       "      <td>1.800000</td>\n",
       "      <td>104.000000</td>\n",
       "      <td>0.960000</td>\n",
       "      <td>107.000000</td>\n",
       "      <td>28.000000</td>\n",
       "    </tr>\n",
       "    <tr>\n",
       "      <th>75%</th>\n",
       "      <td>67.000000</td>\n",
       "      <td>2.300000</td>\n",
       "      <td>2.300000</td>\n",
       "      <td>128.000000</td>\n",
       "      <td>1.065000</td>\n",
       "      <td>129.000000</td>\n",
       "      <td>34.000000</td>\n",
       "    </tr>\n",
       "    <tr>\n",
       "      <th>max</th>\n",
       "      <td>98.000000</td>\n",
       "      <td>530.000000</td>\n",
       "      <td>10.200000</td>\n",
       "      <td>450.000000</td>\n",
       "      <td>2.210000</td>\n",
       "      <td>881.000000</td>\n",
       "      <td>122.000000</td>\n",
       "    </tr>\n",
       "  </tbody>\n",
       "</table>\n",
       "</div>"
      ],
      "text/plain": [
       "               Age          TSH           T3          TT4          T4U  \\\n",
       "count  2717.000000  2695.000000  2468.000000  2914.000000  2915.000000   \n",
       "mean     51.154214     5.923180     1.939749   108.850000     0.978199   \n",
       "std      19.294405    23.899467     0.996773    45.485419     0.226580   \n",
       "min       1.000000     0.000000     0.000000     2.000000     0.000000   \n",
       "25%      35.000000     0.000000     1.400000    83.000000     0.850000   \n",
       "50%      54.000000     0.700000     1.800000   104.000000     0.960000   \n",
       "75%      67.000000     2.300000     2.300000   128.000000     1.065000   \n",
       "max      98.000000   530.000000    10.200000   450.000000     2.210000   \n",
       "\n",
       "               FTI         TBG  \n",
       "count  2916.000000  260.000000  \n",
       "mean    115.397771   31.283077  \n",
       "std      60.239572   19.224659  \n",
       "min       0.000000    0.000000  \n",
       "25%      91.000000   21.000000  \n",
       "50%     107.000000   28.000000  \n",
       "75%     129.000000   34.000000  \n",
       "max     881.000000  122.000000  "
      ]
     },
     "execution_count": 104,
     "metadata": {},
     "output_type": "execute_result"
    }
   ],
   "source": [
    "df.describe()"
   ]
  },
  {
   "cell_type": "markdown",
   "metadata": {},
   "source": [
    "It looks like `describe` only works on numerical columns. For categorical data, we can use `value_counts` to check one column at a type:"
   ]
  },
  {
   "cell_type": "code",
   "execution_count": 105,
   "metadata": {},
   "outputs": [
    {
     "data": {
      "text/plain": [
       "f    3121\n",
       "t      42\n",
       "Name: On Antithyroid Medication, dtype: int64"
      ]
     },
     "execution_count": 105,
     "metadata": {},
     "output_type": "execute_result"
    }
   ],
   "source": [
    "df['On Antithyroid Medication'].value_counts()"
   ]
  },
  {
   "cell_type": "markdown",
   "metadata": {},
   "source": [
    "Value counts is also useful for plotting data:"
   ]
  },
  {
   "cell_type": "code",
   "execution_count": 106,
   "metadata": {},
   "outputs": [
    {
     "data": {
      "text/plain": [
       "<matplotlib.axes._subplots.AxesSubplot at 0x1f2bb82d940>"
      ]
     },
     "execution_count": 106,
     "metadata": {},
     "output_type": "execute_result"
    },
    {
     "data": {
      "image/png": "[encoded data removed]",
      "text/plain": [
       "<Figure size 432x288 with 1 Axes>"
      ]
     },
     "metadata": {
      "needs_background": "light"
     },
     "output_type": "display_data"
    }
   ],
   "source": [
    "df['Sex'].value_counts().plot(kind='bar')"
   ]
  },
  {
   "cell_type": "markdown",
   "metadata": {},
   "source": [
    "The `normalize=True` option will give us the fraction of all instances that have each value."
   ]
  },
  {
   "cell_type": "code",
   "execution_count": 107,
   "metadata": {},
   "outputs": [
    {
     "data": {
      "text/plain": [
       "f    0.986721\n",
       "t    0.013279\n",
       "Name: On Antithyroid Medication, dtype: float64"
      ]
     },
     "execution_count": 107,
     "metadata": {},
     "output_type": "execute_result"
    }
   ],
   "source": [
    "df['On Antithyroid Medication'].value_counts(normalize=True)"
   ]
  },
  {
   "cell_type": "code",
   "execution_count": 108,
   "metadata": {},
   "outputs": [
    {
     "data": {
      "text/plain": [
       "<matplotlib.axes._subplots.AxesSubplot at 0x1f2bb874b70>"
      ]
     },
     "execution_count": 108,
     "metadata": {},
     "output_type": "execute_result"
    },
    {
     "data": {
      "image/png": "[encoded data removed]",
      "text/plain": [
       "<Figure size 432x288 with 1 Axes>"
      ]
     },
     "metadata": {},
     "output_type": "display_data"
    }
   ],
   "source": [
    "df['On Antithyroid Medication'].value_counts(normalize=True).plot(kind='pie')"
   ]
  },
  {
   "cell_type": "markdown",
   "metadata": {},
   "source": [
    "Let's see if there are missing values for age in this dataset."
   ]
  },
  {
   "cell_type": "code",
   "execution_count": 109,
   "metadata": {},
   "outputs": [
    {
     "data": {
      "text/plain": [
       "False    2717\n",
       "True      446\n",
       "Name: Age, dtype: int64"
      ]
     },
     "execution_count": 109,
     "metadata": {},
     "output_type": "execute_result"
    }
   ],
   "source": [
    "pd.value_counts(df['Age'].isnull())"
   ]
  },
  {
   "cell_type": "markdown",
   "metadata": {},
   "source": [
    "What if we wanted to fill or drop the missing values? We can use `fillna` and `dropna`"
   ]
  },
  {
   "cell_type": "code",
   "execution_count": 110,
   "metadata": {},
   "outputs": [],
   "source": [
    "df['Age'] = df['Age'].fillna(-1)"
   ]
  },
  {
   "cell_type": "code",
   "execution_count": 111,
   "metadata": {},
   "outputs": [
    {
     "data": {
      "text/plain": [
       "False    3163\n",
       "Name: Age, dtype: int64"
      ]
     },
     "execution_count": 111,
     "metadata": {},
     "output_type": "execute_result"
    }
   ],
   "source": [
    "pd.value_counts(df['Age'].isnull())"
   ]
  },
  {
   "cell_type": "markdown",
   "metadata": {},
   "source": [
    "## Selecting and Subsetting Data\n",
    "\n",
    "Let's say we just wanted to work with the cases where the individual's age is unrecorded. We can subset using conditional logic."
   ]
  },
  {
   "cell_type": "code",
   "execution_count": 112,
   "metadata": {},
   "outputs": [
    {
     "data": {
      "text/html": [
       "<div>\n",
       "<style scoped>\n",
       "    .dataframe tbody tr th:only-of-type {\n",
       "        vertical-align: middle;\n",
       "    }\n",
       "\n",
       "    .dataframe tbody tr th {\n",
       "        vertical-align: top;\n",
       "    }\n",
       "\n",
       "    .dataframe thead th {\n",
       "        text-align: right;\n",
       "    }\n",
       "</style>\n",
       "<table border=\"1\" class=\"dataframe\">\n",
       "  <thead>\n",
       "    <tr style=\"text-align: right;\">\n",
       "      <th></th>\n",
       "      <th>Age</th>\n",
       "      <th>Sex</th>\n",
       "      <th>On Thyroxine</th>\n",
       "      <th>Query on Thyroxine</th>\n",
       "      <th>On Antithyroid Medication</th>\n",
       "      <th>Thyroid Surgery</th>\n",
       "      <th>Query Hypothyroid</th>\n",
       "      <th>Query Hyperthyroid</th>\n",
       "      <th>Pregnant</th>\n",
       "      <th>Sick</th>\n",
       "      <th>...</th>\n",
       "      <th>T3</th>\n",
       "      <th>TT4 Measured</th>\n",
       "      <th>TT4</th>\n",
       "      <th>T4U Measured</th>\n",
       "      <th>T4U</th>\n",
       "      <th>FTI Measured</th>\n",
       "      <th>FTI</th>\n",
       "      <th>TBG Measured</th>\n",
       "      <th>TBG</th>\n",
       "      <th>Class</th>\n",
       "    </tr>\n",
       "  </thead>\n",
       "  <tbody>\n",
       "    <tr>\n",
       "      <th>26</th>\n",
       "      <td>-1.0</td>\n",
       "      <td>M</td>\n",
       "      <td>f</td>\n",
       "      <td>f</td>\n",
       "      <td>f</td>\n",
       "      <td>t</td>\n",
       "      <td>f</td>\n",
       "      <td>f</td>\n",
       "      <td>f</td>\n",
       "      <td>f</td>\n",
       "      <td>...</td>\n",
       "      <td>1.0</td>\n",
       "      <td>y</td>\n",
       "      <td>32.0</td>\n",
       "      <td>y</td>\n",
       "      <td>0.78</td>\n",
       "      <td>y</td>\n",
       "      <td>41.0</td>\n",
       "      <td>n</td>\n",
       "      <td>NaN</td>\n",
       "      <td>hypothyroid</td>\n",
       "    </tr>\n",
       "    <tr>\n",
       "      <th>44</th>\n",
       "      <td>-1.0</td>\n",
       "      <td>F</td>\n",
       "      <td>f</td>\n",
       "      <td>f</td>\n",
       "      <td>f</td>\n",
       "      <td>f</td>\n",
       "      <td>f</td>\n",
       "      <td>f</td>\n",
       "      <td>f</td>\n",
       "      <td>f</td>\n",
       "      <td>...</td>\n",
       "      <td>1.4</td>\n",
       "      <td>y</td>\n",
       "      <td>78.0</td>\n",
       "      <td>y</td>\n",
       "      <td>0.98</td>\n",
       "      <td>y</td>\n",
       "      <td>80.0</td>\n",
       "      <td>n</td>\n",
       "      <td>NaN</td>\n",
       "      <td>hypothyroid</td>\n",
       "    </tr>\n",
       "    <tr>\n",
       "      <th>50</th>\n",
       "      <td>-1.0</td>\n",
       "      <td>F</td>\n",
       "      <td>f</td>\n",
       "      <td>f</td>\n",
       "      <td>f</td>\n",
       "      <td>f</td>\n",
       "      <td>f</td>\n",
       "      <td>f</td>\n",
       "      <td>f</td>\n",
       "      <td>f</td>\n",
       "      <td>...</td>\n",
       "      <td>0.4</td>\n",
       "      <td>y</td>\n",
       "      <td>9.7</td>\n",
       "      <td>y</td>\n",
       "      <td>1.46</td>\n",
       "      <td>y</td>\n",
       "      <td>6.6</td>\n",
       "      <td>n</td>\n",
       "      <td>NaN</td>\n",
       "      <td>hypothyroid</td>\n",
       "    </tr>\n",
       "    <tr>\n",
       "      <th>59</th>\n",
       "      <td>-1.0</td>\n",
       "      <td>NaN</td>\n",
       "      <td>f</td>\n",
       "      <td>f</td>\n",
       "      <td>f</td>\n",
       "      <td>f</td>\n",
       "      <td>f</td>\n",
       "      <td>f</td>\n",
       "      <td>f</td>\n",
       "      <td>f</td>\n",
       "      <td>...</td>\n",
       "      <td>0.6</td>\n",
       "      <td>y</td>\n",
       "      <td>21.0</td>\n",
       "      <td>y</td>\n",
       "      <td>0.97</td>\n",
       "      <td>y</td>\n",
       "      <td>22.0</td>\n",
       "      <td>n</td>\n",
       "      <td>NaN</td>\n",
       "      <td>hypothyroid</td>\n",
       "    </tr>\n",
       "    <tr>\n",
       "      <th>61</th>\n",
       "      <td>-1.0</td>\n",
       "      <td>F</td>\n",
       "      <td>f</td>\n",
       "      <td>f</td>\n",
       "      <td>f</td>\n",
       "      <td>f</td>\n",
       "      <td>f</td>\n",
       "      <td>f</td>\n",
       "      <td>f</td>\n",
       "      <td>f</td>\n",
       "      <td>...</td>\n",
       "      <td>0.3</td>\n",
       "      <td>y</td>\n",
       "      <td>18.0</td>\n",
       "      <td>y</td>\n",
       "      <td>1.06</td>\n",
       "      <td>y</td>\n",
       "      <td>17.0</td>\n",
       "      <td>n</td>\n",
       "      <td>NaN</td>\n",
       "      <td>hypothyroid</td>\n",
       "    </tr>\n",
       "    <tr>\n",
       "      <th>...</th>\n",
       "      <td>...</td>\n",
       "      <td>...</td>\n",
       "      <td>...</td>\n",
       "      <td>...</td>\n",
       "      <td>...</td>\n",
       "      <td>...</td>\n",
       "      <td>...</td>\n",
       "      <td>...</td>\n",
       "      <td>...</td>\n",
       "      <td>...</td>\n",
       "      <td>...</td>\n",
       "      <td>...</td>\n",
       "      <td>...</td>\n",
       "      <td>...</td>\n",
       "      <td>...</td>\n",
       "      <td>...</td>\n",
       "      <td>...</td>\n",
       "      <td>...</td>\n",
       "      <td>...</td>\n",
       "      <td>...</td>\n",
       "      <td>...</td>\n",
       "    </tr>\n",
       "    <tr>\n",
       "      <th>3134</th>\n",
       "      <td>-1.0</td>\n",
       "      <td>M</td>\n",
       "      <td>f</td>\n",
       "      <td>f</td>\n",
       "      <td>f</td>\n",
       "      <td>f</td>\n",
       "      <td>f</td>\n",
       "      <td>f</td>\n",
       "      <td>f</td>\n",
       "      <td>f</td>\n",
       "      <td>...</td>\n",
       "      <td>2.4</td>\n",
       "      <td>y</td>\n",
       "      <td>109.0</td>\n",
       "      <td>y</td>\n",
       "      <td>1.12</td>\n",
       "      <td>y</td>\n",
       "      <td>97.0</td>\n",
       "      <td>n</td>\n",
       "      <td>NaN</td>\n",
       "      <td>negative</td>\n",
       "    </tr>\n",
       "    <tr>\n",
       "      <th>3143</th>\n",
       "      <td>-1.0</td>\n",
       "      <td>F</td>\n",
       "      <td>f</td>\n",
       "      <td>f</td>\n",
       "      <td>f</td>\n",
       "      <td>f</td>\n",
       "      <td>f</td>\n",
       "      <td>f</td>\n",
       "      <td>f</td>\n",
       "      <td>f</td>\n",
       "      <td>...</td>\n",
       "      <td>1.0</td>\n",
       "      <td>y</td>\n",
       "      <td>58.0</td>\n",
       "      <td>y</td>\n",
       "      <td>0.87</td>\n",
       "      <td>y</td>\n",
       "      <td>67.0</td>\n",
       "      <td>n</td>\n",
       "      <td>NaN</td>\n",
       "      <td>negative</td>\n",
       "    </tr>\n",
       "    <tr>\n",
       "      <th>3146</th>\n",
       "      <td>-1.0</td>\n",
       "      <td>F</td>\n",
       "      <td>f</td>\n",
       "      <td>f</td>\n",
       "      <td>f</td>\n",
       "      <td>f</td>\n",
       "      <td>f</td>\n",
       "      <td>t</td>\n",
       "      <td>f</td>\n",
       "      <td>f</td>\n",
       "      <td>...</td>\n",
       "      <td>1.8</td>\n",
       "      <td>y</td>\n",
       "      <td>61.0</td>\n",
       "      <td>y</td>\n",
       "      <td>0.82</td>\n",
       "      <td>y</td>\n",
       "      <td>74.0</td>\n",
       "      <td>n</td>\n",
       "      <td>NaN</td>\n",
       "      <td>negative</td>\n",
       "    </tr>\n",
       "    <tr>\n",
       "      <th>3149</th>\n",
       "      <td>-1.0</td>\n",
       "      <td>NaN</td>\n",
       "      <td>f</td>\n",
       "      <td>f</td>\n",
       "      <td>f</td>\n",
       "      <td>f</td>\n",
       "      <td>f</td>\n",
       "      <td>f</td>\n",
       "      <td>f</td>\n",
       "      <td>f</td>\n",
       "      <td>...</td>\n",
       "      <td>2.0</td>\n",
       "      <td>y</td>\n",
       "      <td>118.0</td>\n",
       "      <td>y</td>\n",
       "      <td>1.04</td>\n",
       "      <td>y</td>\n",
       "      <td>113.0</td>\n",
       "      <td>n</td>\n",
       "      <td>NaN</td>\n",
       "      <td>negative</td>\n",
       "    </tr>\n",
       "    <tr>\n",
       "      <th>3155</th>\n",
       "      <td>-1.0</td>\n",
       "      <td>F</td>\n",
       "      <td>f</td>\n",
       "      <td>f</td>\n",
       "      <td>f</td>\n",
       "      <td>f</td>\n",
       "      <td>f</td>\n",
       "      <td>f</td>\n",
       "      <td>f</td>\n",
       "      <td>f</td>\n",
       "      <td>...</td>\n",
       "      <td>2.4</td>\n",
       "      <td>y</td>\n",
       "      <td>123.0</td>\n",
       "      <td>y</td>\n",
       "      <td>0.99</td>\n",
       "      <td>y</td>\n",
       "      <td>124.0</td>\n",
       "      <td>n</td>\n",
       "      <td>NaN</td>\n",
       "      <td>negative</td>\n",
       "    </tr>\n",
       "  </tbody>\n",
       "</table>\n",
       "<p>446 rows × 26 columns</p>\n",
       "</div>"
      ],
      "text/plain": [
       "      Age  Sex On Thyroxine Query on Thyroxine On Antithyroid Medication  \\\n",
       "26   -1.0    M            f                  f                         f   \n",
       "44   -1.0    F            f                  f                         f   \n",
       "50   -1.0    F            f                  f                         f   \n",
       "59   -1.0  NaN            f                  f                         f   \n",
       "61   -1.0    F            f                  f                         f   \n",
       "...   ...  ...          ...                ...                       ...   \n",
       "3134 -1.0    M            f                  f                         f   \n",
       "3143 -1.0    F            f                  f                         f   \n",
       "3146 -1.0    F            f                  f                         f   \n",
       "3149 -1.0  NaN            f                  f                         f   \n",
       "3155 -1.0    F            f                  f                         f   \n",
       "\n",
       "     Thyroid Surgery Query Hypothyroid Query Hyperthyroid Pregnant Sick  ...  \\\n",
       "26                 t                 f                  f        f    f  ...   \n",
       "44                 f                 f                  f        f    f  ...   \n",
       "50                 f                 f                  f        f    f  ...   \n",
       "59                 f                 f                  f        f    f  ...   \n",
       "61                 f                 f                  f        f    f  ...   \n",
       "...              ...               ...                ...      ...  ...  ...   \n",
       "3134               f                 f                  f        f    f  ...   \n",
       "3143               f                 f                  f        f    f  ...   \n",
       "3146               f                 f                  t        f    f  ...   \n",
       "3149               f                 f                  f        f    f  ...   \n",
       "3155               f                 f                  f        f    f  ...   \n",
       "\n",
       "       T3 TT4 Measured    TT4 T4U Measured   T4U FTI Measured    FTI  \\\n",
       "26    1.0            y   32.0            y  0.78            y   41.0   \n",
       "44    1.4            y   78.0            y  0.98            y   80.0   \n",
       "50    0.4            y    9.7            y  1.46            y    6.6   \n",
       "59    0.6            y   21.0            y  0.97            y   22.0   \n",
       "61    0.3            y   18.0            y  1.06            y   17.0   \n",
       "...   ...          ...    ...          ...   ...          ...    ...   \n",
       "3134  2.4            y  109.0            y  1.12            y   97.0   \n",
       "3143  1.0            y   58.0            y  0.87            y   67.0   \n",
       "3146  1.8            y   61.0            y  0.82            y   74.0   \n",
       "3149  2.0            y  118.0            y  1.04            y  113.0   \n",
       "3155  2.4            y  123.0            y  0.99            y  124.0   \n",
       "\n",
       "     TBG Measured  TBG        Class  \n",
       "26              n  NaN  hypothyroid  \n",
       "44              n  NaN  hypothyroid  \n",
       "50              n  NaN  hypothyroid  \n",
       "59              n  NaN  hypothyroid  \n",
       "61              n  NaN  hypothyroid  \n",
       "...           ...  ...          ...  \n",
       "3134            n  NaN     negative  \n",
       "3143            n  NaN     negative  \n",
       "3146            n  NaN     negative  \n",
       "3149            n  NaN     negative  \n",
       "3155            n  NaN     negative  \n",
       "\n",
       "[446 rows x 26 columns]"
      ]
     },
     "execution_count": 112,
     "metadata": {},
     "output_type": "execute_result"
    }
   ],
   "source": [
    "df[df['Age'] == -1]"
   ]
  },
  {
   "cell_type": "markdown",
   "metadata": {},
   "source": [
    "You can retrieve parts, or slices, of a series or dataframe by range using the [] operator - just like in Python lists."
   ]
  },
  {
   "cell_type": "code",
   "execution_count": 113,
   "metadata": {},
   "outputs": [
    {
     "data": {
      "text/html": [
       "<div>\n",
       "<style scoped>\n",
       "    .dataframe tbody tr th:only-of-type {\n",
       "        vertical-align: middle;\n",
       "    }\n",
       "\n",
       "    .dataframe tbody tr th {\n",
       "        vertical-align: top;\n",
       "    }\n",
       "\n",
       "    .dataframe thead th {\n",
       "        text-align: right;\n",
       "    }\n",
       "</style>\n",
       "<table border=\"1\" class=\"dataframe\">\n",
       "  <thead>\n",
       "    <tr style=\"text-align: right;\">\n",
       "      <th></th>\n",
       "      <th>Age</th>\n",
       "      <th>Sex</th>\n",
       "      <th>On Thyroxine</th>\n",
       "      <th>Query on Thyroxine</th>\n",
       "      <th>On Antithyroid Medication</th>\n",
       "      <th>Thyroid Surgery</th>\n",
       "      <th>Query Hypothyroid</th>\n",
       "      <th>Query Hyperthyroid</th>\n",
       "      <th>Pregnant</th>\n",
       "      <th>Sick</th>\n",
       "      <th>...</th>\n",
       "      <th>T3</th>\n",
       "      <th>TT4 Measured</th>\n",
       "      <th>TT4</th>\n",
       "      <th>T4U Measured</th>\n",
       "      <th>T4U</th>\n",
       "      <th>FTI Measured</th>\n",
       "      <th>FTI</th>\n",
       "      <th>TBG Measured</th>\n",
       "      <th>TBG</th>\n",
       "      <th>Class</th>\n",
       "    </tr>\n",
       "  </thead>\n",
       "  <tbody>\n",
       "    <tr>\n",
       "      <th>3</th>\n",
       "      <td>24.0</td>\n",
       "      <td>F</td>\n",
       "      <td>f</td>\n",
       "      <td>f</td>\n",
       "      <td>f</td>\n",
       "      <td>f</td>\n",
       "      <td>f</td>\n",
       "      <td>f</td>\n",
       "      <td>f</td>\n",
       "      <td>f</td>\n",
       "      <td>...</td>\n",
       "      <td>0.4</td>\n",
       "      <td>y</td>\n",
       "      <td>6.0</td>\n",
       "      <td>y</td>\n",
       "      <td>1.04</td>\n",
       "      <td>y</td>\n",
       "      <td>6.0</td>\n",
       "      <td>n</td>\n",
       "      <td>NaN</td>\n",
       "      <td>hypothyroid</td>\n",
       "    </tr>\n",
       "    <tr>\n",
       "      <th>4</th>\n",
       "      <td>77.0</td>\n",
       "      <td>M</td>\n",
       "      <td>f</td>\n",
       "      <td>f</td>\n",
       "      <td>f</td>\n",
       "      <td>f</td>\n",
       "      <td>f</td>\n",
       "      <td>f</td>\n",
       "      <td>f</td>\n",
       "      <td>f</td>\n",
       "      <td>...</td>\n",
       "      <td>1.2</td>\n",
       "      <td>y</td>\n",
       "      <td>57.0</td>\n",
       "      <td>y</td>\n",
       "      <td>1.28</td>\n",
       "      <td>y</td>\n",
       "      <td>44.0</td>\n",
       "      <td>n</td>\n",
       "      <td>NaN</td>\n",
       "      <td>hypothyroid</td>\n",
       "    </tr>\n",
       "    <tr>\n",
       "      <th>5</th>\n",
       "      <td>85.0</td>\n",
       "      <td>F</td>\n",
       "      <td>f</td>\n",
       "      <td>f</td>\n",
       "      <td>f</td>\n",
       "      <td>f</td>\n",
       "      <td>t</td>\n",
       "      <td>f</td>\n",
       "      <td>f</td>\n",
       "      <td>f</td>\n",
       "      <td>...</td>\n",
       "      <td>1.1</td>\n",
       "      <td>y</td>\n",
       "      <td>27.0</td>\n",
       "      <td>y</td>\n",
       "      <td>1.19</td>\n",
       "      <td>y</td>\n",
       "      <td>23.0</td>\n",
       "      <td>n</td>\n",
       "      <td>NaN</td>\n",
       "      <td>hypothyroid</td>\n",
       "    </tr>\n",
       "  </tbody>\n",
       "</table>\n",
       "<p>3 rows × 26 columns</p>\n",
       "</div>"
      ],
      "text/plain": [
       "    Age Sex On Thyroxine Query on Thyroxine On Antithyroid Medication  \\\n",
       "3  24.0   F            f                  f                         f   \n",
       "4  77.0   M            f                  f                         f   \n",
       "5  85.0   F            f                  f                         f   \n",
       "\n",
       "  Thyroid Surgery Query Hypothyroid Query Hyperthyroid Pregnant Sick  ...  \\\n",
       "3               f                 f                  f        f    f  ...   \n",
       "4               f                 f                  f        f    f  ...   \n",
       "5               f                 t                  f        f    f  ...   \n",
       "\n",
       "    T3 TT4 Measured   TT4 T4U Measured   T4U FTI Measured   FTI TBG Measured  \\\n",
       "3  0.4            y   6.0            y  1.04            y   6.0            n   \n",
       "4  1.2            y  57.0            y  1.28            y  44.0            n   \n",
       "5  1.1            y  27.0            y  1.19            y  23.0            n   \n",
       "\n",
       "   TBG        Class  \n",
       "3  NaN  hypothyroid  \n",
       "4  NaN  hypothyroid  \n",
       "5  NaN  hypothyroid  \n",
       "\n",
       "[3 rows x 26 columns]"
      ]
     },
     "execution_count": 113,
     "metadata": {},
     "output_type": "execute_result"
    }
   ],
   "source": [
    "df[3:6]\n",
    "# equivalent to df.iloc[3:6]"
   ]
  },
  {
   "cell_type": "markdown",
   "metadata": {},
   "source": [
    "You can also use `loc` to slice both rows and columns by text labels, or `iloc` to slice by integer positions. For example:"
   ]
  },
  {
   "cell_type": "code",
   "execution_count": 114,
   "metadata": {},
   "outputs": [
    {
     "data": {
      "text/html": [
       "<div>\n",
       "<style scoped>\n",
       "    .dataframe tbody tr th:only-of-type {\n",
       "        vertical-align: middle;\n",
       "    }\n",
       "\n",
       "    .dataframe tbody tr th {\n",
       "        vertical-align: top;\n",
       "    }\n",
       "\n",
       "    .dataframe thead th {\n",
       "        text-align: right;\n",
       "    }\n",
       "</style>\n",
       "<table border=\"1\" class=\"dataframe\">\n",
       "  <thead>\n",
       "    <tr style=\"text-align: right;\">\n",
       "      <th></th>\n",
       "      <th>Age</th>\n",
       "      <th>Sex</th>\n",
       "      <th>On Thyroxine</th>\n",
       "      <th>Query on Thyroxine</th>\n",
       "      <th>On Antithyroid Medication</th>\n",
       "      <th>Thyroid Surgery</th>\n",
       "      <th>Query Hypothyroid</th>\n",
       "      <th>Query Hyperthyroid</th>\n",
       "      <th>Pregnant</th>\n",
       "      <th>Sick</th>\n",
       "      <th>...</th>\n",
       "      <th>T3</th>\n",
       "      <th>TT4 Measured</th>\n",
       "      <th>TT4</th>\n",
       "      <th>T4U Measured</th>\n",
       "      <th>T4U</th>\n",
       "      <th>FTI Measured</th>\n",
       "      <th>FTI</th>\n",
       "      <th>TBG Measured</th>\n",
       "      <th>TBG</th>\n",
       "      <th>Class</th>\n",
       "    </tr>\n",
       "  </thead>\n",
       "  <tbody>\n",
       "    <tr>\n",
       "      <th>3</th>\n",
       "      <td>24.0</td>\n",
       "      <td>F</td>\n",
       "      <td>f</td>\n",
       "      <td>f</td>\n",
       "      <td>f</td>\n",
       "      <td>f</td>\n",
       "      <td>f</td>\n",
       "      <td>f</td>\n",
       "      <td>f</td>\n",
       "      <td>f</td>\n",
       "      <td>...</td>\n",
       "      <td>0.4</td>\n",
       "      <td>y</td>\n",
       "      <td>6.0</td>\n",
       "      <td>y</td>\n",
       "      <td>1.04</td>\n",
       "      <td>y</td>\n",
       "      <td>6.0</td>\n",
       "      <td>n</td>\n",
       "      <td>NaN</td>\n",
       "      <td>hypothyroid</td>\n",
       "    </tr>\n",
       "    <tr>\n",
       "      <th>4</th>\n",
       "      <td>77.0</td>\n",
       "      <td>M</td>\n",
       "      <td>f</td>\n",
       "      <td>f</td>\n",
       "      <td>f</td>\n",
       "      <td>f</td>\n",
       "      <td>f</td>\n",
       "      <td>f</td>\n",
       "      <td>f</td>\n",
       "      <td>f</td>\n",
       "      <td>...</td>\n",
       "      <td>1.2</td>\n",
       "      <td>y</td>\n",
       "      <td>57.0</td>\n",
       "      <td>y</td>\n",
       "      <td>1.28</td>\n",
       "      <td>y</td>\n",
       "      <td>44.0</td>\n",
       "      <td>n</td>\n",
       "      <td>NaN</td>\n",
       "      <td>hypothyroid</td>\n",
       "    </tr>\n",
       "    <tr>\n",
       "      <th>5</th>\n",
       "      <td>85.0</td>\n",
       "      <td>F</td>\n",
       "      <td>f</td>\n",
       "      <td>f</td>\n",
       "      <td>f</td>\n",
       "      <td>f</td>\n",
       "      <td>t</td>\n",
       "      <td>f</td>\n",
       "      <td>f</td>\n",
       "      <td>f</td>\n",
       "      <td>...</td>\n",
       "      <td>1.1</td>\n",
       "      <td>y</td>\n",
       "      <td>27.0</td>\n",
       "      <td>y</td>\n",
       "      <td>1.19</td>\n",
       "      <td>y</td>\n",
       "      <td>23.0</td>\n",
       "      <td>n</td>\n",
       "      <td>NaN</td>\n",
       "      <td>hypothyroid</td>\n",
       "    </tr>\n",
       "    <tr>\n",
       "      <th>6</th>\n",
       "      <td>64.0</td>\n",
       "      <td>F</td>\n",
       "      <td>f</td>\n",
       "      <td>f</td>\n",
       "      <td>f</td>\n",
       "      <td>t</td>\n",
       "      <td>f</td>\n",
       "      <td>f</td>\n",
       "      <td>f</td>\n",
       "      <td>f</td>\n",
       "      <td>...</td>\n",
       "      <td>1.3</td>\n",
       "      <td>y</td>\n",
       "      <td>54.0</td>\n",
       "      <td>y</td>\n",
       "      <td>0.86</td>\n",
       "      <td>y</td>\n",
       "      <td>63.0</td>\n",
       "      <td>n</td>\n",
       "      <td>NaN</td>\n",
       "      <td>hypothyroid</td>\n",
       "    </tr>\n",
       "  </tbody>\n",
       "</table>\n",
       "<p>4 rows × 26 columns</p>\n",
       "</div>"
      ],
      "text/plain": [
       "    Age Sex On Thyroxine Query on Thyroxine On Antithyroid Medication  \\\n",
       "3  24.0   F            f                  f                         f   \n",
       "4  77.0   M            f                  f                         f   \n",
       "5  85.0   F            f                  f                         f   \n",
       "6  64.0   F            f                  f                         f   \n",
       "\n",
       "  Thyroid Surgery Query Hypothyroid Query Hyperthyroid Pregnant Sick  ...  \\\n",
       "3               f                 f                  f        f    f  ...   \n",
       "4               f                 f                  f        f    f  ...   \n",
       "5               f                 t                  f        f    f  ...   \n",
       "6               t                 f                  f        f    f  ...   \n",
       "\n",
       "    T3 TT4 Measured   TT4 T4U Measured   T4U FTI Measured   FTI TBG Measured  \\\n",
       "3  0.4            y   6.0            y  1.04            y   6.0            n   \n",
       "4  1.2            y  57.0            y  1.28            y  44.0            n   \n",
       "5  1.1            y  27.0            y  1.19            y  23.0            n   \n",
       "6  1.3            y  54.0            y  0.86            y  63.0            n   \n",
       "\n",
       "   TBG        Class  \n",
       "3  NaN  hypothyroid  \n",
       "4  NaN  hypothyroid  \n",
       "5  NaN  hypothyroid  \n",
       "6  NaN  hypothyroid  \n",
       "\n",
       "[4 rows x 26 columns]"
      ]
     },
     "execution_count": 114,
     "metadata": {},
     "output_type": "execute_result"
    }
   ],
   "source": [
    "df.loc[3:6] # print all columns"
   ]
  },
  {
   "cell_type": "code",
   "execution_count": 115,
   "metadata": {},
   "outputs": [
    {
     "data": {
      "text/plain": [
       "3    24.0\n",
       "4    77.0\n",
       "5    85.0\n",
       "6    64.0\n",
       "Name: Age, dtype: float64"
      ]
     },
     "execution_count": 115,
     "metadata": {},
     "output_type": "execute_result"
    }
   ],
   "source": [
    "df.loc[3:6, 'Age'] # print a slice of one column"
   ]
  },
  {
   "cell_type": "code",
   "execution_count": 116,
   "metadata": {},
   "outputs": [
    {
     "data": {
      "text/plain": [
       "3    24.0\n",
       "4    77.0\n",
       "5    85.0\n",
       "Name: Age, dtype: float64"
      ]
     },
     "execution_count": 116,
     "metadata": {},
     "output_type": "execute_result"
    }
   ],
   "source": [
    "df.iloc[3:6, 0] # print a slice of column 0 (Age)"
   ]
  },
  {
   "cell_type": "markdown",
   "metadata": {},
   "source": [
    "## Exporting data\n",
    "\n",
    "Pandas supports saving DataFrames to a variety of file formats using the `to_*` function. Let's save our updated data as a csv."
   ]
  },
  {
   "cell_type": "code",
   "execution_count": 117,
   "metadata": {},
   "outputs": [],
   "source": [
    "df.to_csv(\"hypothyroid_1.csv\")"
   ]
  },
  {
   "cell_type": "markdown",
   "metadata": {},
   "source": [
    "## Groupby\n",
    "\n",
    "Often we want to examine difference among groups based on categorical values. For this `groupby` is incredibly valuable"
   ]
  },
  {
   "cell_type": "code",
   "execution_count": 131,
   "metadata": {},
   "outputs": [
    {
     "data": {
      "text/html": [
       "<div>\n",
       "<style scoped>\n",
       "    .dataframe tbody tr th:only-of-type {\n",
       "        vertical-align: middle;\n",
       "    }\n",
       "\n",
       "    .dataframe tbody tr th {\n",
       "        vertical-align: top;\n",
       "    }\n",
       "\n",
       "    .dataframe thead th {\n",
       "        text-align: right;\n",
       "    }\n",
       "</style>\n",
       "<table border=\"1\" class=\"dataframe\">\n",
       "  <thead>\n",
       "    <tr style=\"text-align: right;\">\n",
       "      <th></th>\n",
       "      <th>Age</th>\n",
       "      <th>TSH</th>\n",
       "      <th>T3</th>\n",
       "      <th>TT4</th>\n",
       "      <th>T4U</th>\n",
       "      <th>FTI</th>\n",
       "      <th>TBG</th>\n",
       "    </tr>\n",
       "    <tr>\n",
       "      <th>Sex</th>\n",
       "      <th></th>\n",
       "      <th></th>\n",
       "      <th></th>\n",
       "      <th></th>\n",
       "      <th></th>\n",
       "      <th></th>\n",
       "      <th></th>\n",
       "    </tr>\n",
       "  </thead>\n",
       "  <tbody>\n",
       "    <tr>\n",
       "      <th>F</th>\n",
       "      <td>44.605866</td>\n",
       "      <td>6.536341</td>\n",
       "      <td>1.986890</td>\n",
       "      <td>113.706231</td>\n",
       "      <td>1.019737</td>\n",
       "      <td>113.349570</td>\n",
       "      <td>32.486636</td>\n",
       "    </tr>\n",
       "    <tr>\n",
       "      <th>M</th>\n",
       "      <td>44.685022</td>\n",
       "      <td>4.547664</td>\n",
       "      <td>1.812647</td>\n",
       "      <td>96.474541</td>\n",
       "      <td>0.906972</td>\n",
       "      <td>108.038373</td>\n",
       "      <td>23.210526</td>\n",
       "    </tr>\n",
       "  </tbody>\n",
       "</table>\n",
       "</div>"
      ],
      "text/plain": [
       "           Age       TSH        T3         TT4       T4U         FTI  \\\n",
       "Sex                                                                    \n",
       "F    44.605866  6.536341  1.986890  113.706231  1.019737  113.349570   \n",
       "M    44.685022  4.547664  1.812647   96.474541  0.906972  108.038373   \n",
       "\n",
       "           TBG  \n",
       "Sex             \n",
       "F    32.486636  \n",
       "M    23.210526  "
      ]
     },
     "execution_count": 131,
     "metadata": {},
     "output_type": "execute_result"
    }
   ],
   "source": [
    "df.groupby('Sex').mean()"
   ]
  },
  {
   "cell_type": "markdown",
   "metadata": {},
   "source": [
    "## Data munging functions\n",
    "\n",
    "pandas provides a variety of other useful functions, including:\n",
    "\n",
    "```\n",
    "pivot\n",
    "pivot_tables\n",
    "stack/unstack\n",
    "melt\n",
    "get_dummies\n",
    "factorize\n",
    "```"
   ]
  },
  {
   "cell_type": "markdown",
   "metadata": {},
   "source": [
    "## Grouping and plotting!"
   ]
  },
  {
   "cell_type": "code",
   "execution_count": 119,
   "metadata": {},
   "outputs": [
    {
     "name": "stdout",
     "output_type": "stream",
     "text": [
      "             TSH\n",
      "Age             \n",
      "-1.0    5.382005\n",
      " 1.0    0.533333\n",
      " 4.0    0.400000\n",
      " 5.0   17.000000\n",
      " 6.0    4.050000\n",
      "...          ...\n",
      " 90.0   0.900000\n",
      " 92.0   0.400000\n",
      " 93.0   2.700000\n",
      " 97.0   3.200000\n",
      " 98.0   0.000000\n",
      "\n",
      "[93 rows x 1 columns]\n"
     ]
    }
   ],
   "source": [
    "grouped = df[['Age', 'Sex', 'TSH']].groupby('Age').mean()\n",
    "print(grouped)"
   ]
  },
  {
   "cell_type": "code",
   "execution_count": 121,
   "metadata": {},
   "outputs": [
    {
     "data": {
      "text/plain": [
       "<matplotlib.axes._subplots.AxesSubplot at 0x1f2bb937b38>"
      ]
     },
     "execution_count": 121,
     "metadata": {},
     "output_type": "execute_result"
    },
    {
     "data": {
      "image/png": "[encoded data removed]",
      "text/plain": [
       "<Figure size 432x288 with 1 Axes>"
      ]
     },
     "metadata": {
      "needs_background": "light"
     },
     "output_type": "display_data"
    }
   ],
   "source": [
    "grouped.plot(kind='line')"
   ]
  },
  {
   "cell_type": "code",
   "execution_count": null,
   "metadata": {},
   "outputs": [],
   "source": []
  },
  {
   "cell_type": "code",
   "execution_count": null,
   "metadata": {},
   "outputs": [],
   "source": []
  }
 ],
 "metadata": {
  "anaconda-cloud": {},
  "kernelspec": {
   "display_name": "Python 3",
   "language": "python",
   "name": "python3"
  },
  "language_info": {
   "codemirror_mode": {
    "name": "ipython",
    "version": 3
   },
   "file_extension": ".py",
   "mimetype": "text/x-python",
   "name": "python",
   "nbconvert_exporter": "python",
   "pygments_lexer": "ipython3",
   "version": "3.7.3"
  }
 },
 "nbformat": 4,
 "nbformat_minor": 1
}
