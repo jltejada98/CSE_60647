{
 "cells": [
  {
   "cell_type": "markdown",
   "metadata": {},
   "source": [
    "# Companion Notebook for Assignment 1: Processing Data in Python\n"
   ]
  },
  {
   "cell_type": "markdown",
   "metadata": {},
   "source": [
    "## Getting started with pandas\n",
    "\n",
    "We start by importing the libraries we're going to use: `pandas` and `matplotlib`"
   ]
  },
  {
   "cell_type": "code",
   "execution_count": 7,
   "metadata": {},
   "outputs": [],
   "source": [
    "import pandas as pd\n",
    "%matplotlib inline"
   ]
  },
  {
   "cell_type": "markdown",
   "metadata": {},
   "source": [
    "## Loading data into a DataFrame\n",
    "\n",
    "The pandas DataFrame is a two-dimensional size-mutable, potentially heterogeneous tabular data structure with labeled axes. It's basically a spreadsheet you can program and it's an incredibly useful Python object for data analysis. \n",
    "\n",
    "You can load data into a dataframe using pandas' excellent `read_*` functions.\n",
    "\n",
    "We're going to try two of them: read_csv and read_sql.\n",
    "\n",
    "*Pro tip*: Jupyter will output the docstring (i.e., source code comments) for a command just by asking it a question."
   ]
  },
  {
   "cell_type": "code",
   "execution_count": 2,
   "metadata": {},
   "outputs": [
    {
     "data": {
      "text/plain": [
       "\u001b[1;31mSignature:\u001b[0m\n",
       "\u001b[0mpd\u001b[0m\u001b[1;33m.\u001b[0m\u001b[0mread_csv\u001b[0m\u001b[1;33m(\u001b[0m\u001b[1;33m\n",
       "\u001b[0m    \u001b[0mfilepath_or_buffer\u001b[0m\u001b[1;33m:\u001b[0m \u001b[1;34m'FilePath | ReadCsvBuffer[bytes] | ReadCsvBuffer[str]'\u001b[0m\u001b[1;33m,\u001b[0m\u001b[1;33m\n",
       "\u001b[0m    \u001b[1;33m*\u001b[0m\u001b[1;33m,\u001b[0m\u001b[1;33m\n",
       "\u001b[0m    \u001b[0msep\u001b[0m\u001b[1;33m:\u001b[0m \u001b[1;34m'str | None | lib.NoDefault'\u001b[0m \u001b[1;33m=\u001b[0m \u001b[1;33m<\u001b[0m\u001b[0mno_default\u001b[0m\u001b[1;33m>\u001b[0m\u001b[1;33m,\u001b[0m\u001b[1;33m\n",
       "\u001b[0m    \u001b[0mdelimiter\u001b[0m\u001b[1;33m:\u001b[0m \u001b[1;34m'str | None | lib.NoDefault'\u001b[0m \u001b[1;33m=\u001b[0m \u001b[1;32mNone\u001b[0m\u001b[1;33m,\u001b[0m\u001b[1;33m\n",
       "\u001b[0m    \u001b[0mheader\u001b[0m\u001b[1;33m:\u001b[0m \u001b[1;34m\"int | Sequence[int] | None | Literal['infer']\"\u001b[0m \u001b[1;33m=\u001b[0m \u001b[1;34m'infer'\u001b[0m\u001b[1;33m,\u001b[0m\u001b[1;33m\n",
       "\u001b[0m    \u001b[0mnames\u001b[0m\u001b[1;33m:\u001b[0m \u001b[1;34m'Sequence[Hashable] | None | lib.NoDefault'\u001b[0m \u001b[1;33m=\u001b[0m \u001b[1;33m<\u001b[0m\u001b[0mno_default\u001b[0m\u001b[1;33m>\u001b[0m\u001b[1;33m,\u001b[0m\u001b[1;33m\n",
       "\u001b[0m    \u001b[0mindex_col\u001b[0m\u001b[1;33m:\u001b[0m \u001b[1;34m'IndexLabel | Literal[False] | None'\u001b[0m \u001b[1;33m=\u001b[0m \u001b[1;32mNone\u001b[0m\u001b[1;33m,\u001b[0m\u001b[1;33m\n",
       "\u001b[0m    \u001b[0musecols\u001b[0m\u001b[1;33m:\u001b[0m \u001b[1;34m'list[HashableT] | Callable[[Hashable], bool] | None'\u001b[0m \u001b[1;33m=\u001b[0m \u001b[1;32mNone\u001b[0m\u001b[1;33m,\u001b[0m\u001b[1;33m\n",
       "\u001b[0m    \u001b[0mdtype\u001b[0m\u001b[1;33m:\u001b[0m \u001b[1;34m'DtypeArg | None'\u001b[0m \u001b[1;33m=\u001b[0m \u001b[1;32mNone\u001b[0m\u001b[1;33m,\u001b[0m\u001b[1;33m\n",
       "\u001b[0m    \u001b[0mengine\u001b[0m\u001b[1;33m:\u001b[0m \u001b[1;34m'CSVEngine | None'\u001b[0m \u001b[1;33m=\u001b[0m \u001b[1;32mNone\u001b[0m\u001b[1;33m,\u001b[0m\u001b[1;33m\n",
       "\u001b[0m    \u001b[0mconverters\u001b[0m\u001b[1;33m:\u001b[0m \u001b[1;34m'Mapping[Hashable, Callable] | None'\u001b[0m \u001b[1;33m=\u001b[0m \u001b[1;32mNone\u001b[0m\u001b[1;33m,\u001b[0m\u001b[1;33m\n",
       "\u001b[0m    \u001b[0mtrue_values\u001b[0m\u001b[1;33m:\u001b[0m \u001b[1;34m'list | None'\u001b[0m \u001b[1;33m=\u001b[0m \u001b[1;32mNone\u001b[0m\u001b[1;33m,\u001b[0m\u001b[1;33m\n",
       "\u001b[0m    \u001b[0mfalse_values\u001b[0m\u001b[1;33m:\u001b[0m \u001b[1;34m'list | None'\u001b[0m \u001b[1;33m=\u001b[0m \u001b[1;32mNone\u001b[0m\u001b[1;33m,\u001b[0m\u001b[1;33m\n",
       "\u001b[0m    \u001b[0mskipinitialspace\u001b[0m\u001b[1;33m:\u001b[0m \u001b[1;34m'bool'\u001b[0m \u001b[1;33m=\u001b[0m \u001b[1;32mFalse\u001b[0m\u001b[1;33m,\u001b[0m\u001b[1;33m\n",
       "\u001b[0m    \u001b[0mskiprows\u001b[0m\u001b[1;33m:\u001b[0m \u001b[1;34m'list[int] | int | Callable[[Hashable], bool] | None'\u001b[0m \u001b[1;33m=\u001b[0m \u001b[1;32mNone\u001b[0m\u001b[1;33m,\u001b[0m\u001b[1;33m\n",
       "\u001b[0m    \u001b[0mskipfooter\u001b[0m\u001b[1;33m:\u001b[0m \u001b[1;34m'int'\u001b[0m \u001b[1;33m=\u001b[0m \u001b[1;36m0\u001b[0m\u001b[1;33m,\u001b[0m\u001b[1;33m\n",
       "\u001b[0m    \u001b[0mnrows\u001b[0m\u001b[1;33m:\u001b[0m \u001b[1;34m'int | None'\u001b[0m \u001b[1;33m=\u001b[0m \u001b[1;32mNone\u001b[0m\u001b[1;33m,\u001b[0m\u001b[1;33m\n",
       "\u001b[0m    \u001b[0mna_values\u001b[0m\u001b[1;33m:\u001b[0m \u001b[1;34m'Sequence[str] | Mapping[str, Sequence[str]] | None'\u001b[0m \u001b[1;33m=\u001b[0m \u001b[1;32mNone\u001b[0m\u001b[1;33m,\u001b[0m\u001b[1;33m\n",
       "\u001b[0m    \u001b[0mkeep_default_na\u001b[0m\u001b[1;33m:\u001b[0m \u001b[1;34m'bool'\u001b[0m \u001b[1;33m=\u001b[0m \u001b[1;32mTrue\u001b[0m\u001b[1;33m,\u001b[0m\u001b[1;33m\n",
       "\u001b[0m    \u001b[0mna_filter\u001b[0m\u001b[1;33m:\u001b[0m \u001b[1;34m'bool'\u001b[0m \u001b[1;33m=\u001b[0m \u001b[1;32mTrue\u001b[0m\u001b[1;33m,\u001b[0m\u001b[1;33m\n",
       "\u001b[0m    \u001b[0mverbose\u001b[0m\u001b[1;33m:\u001b[0m \u001b[1;34m'bool'\u001b[0m \u001b[1;33m=\u001b[0m \u001b[1;32mFalse\u001b[0m\u001b[1;33m,\u001b[0m\u001b[1;33m\n",
       "\u001b[0m    \u001b[0mskip_blank_lines\u001b[0m\u001b[1;33m:\u001b[0m \u001b[1;34m'bool'\u001b[0m \u001b[1;33m=\u001b[0m \u001b[1;32mTrue\u001b[0m\u001b[1;33m,\u001b[0m\u001b[1;33m\n",
       "\u001b[0m    \u001b[0mparse_dates\u001b[0m\u001b[1;33m:\u001b[0m \u001b[1;34m'bool | Sequence[Hashable] | None'\u001b[0m \u001b[1;33m=\u001b[0m \u001b[1;32mNone\u001b[0m\u001b[1;33m,\u001b[0m\u001b[1;33m\n",
       "\u001b[0m    \u001b[0minfer_datetime_format\u001b[0m\u001b[1;33m:\u001b[0m \u001b[1;34m'bool | lib.NoDefault'\u001b[0m \u001b[1;33m=\u001b[0m \u001b[1;33m<\u001b[0m\u001b[0mno_default\u001b[0m\u001b[1;33m>\u001b[0m\u001b[1;33m,\u001b[0m\u001b[1;33m\n",
       "\u001b[0m    \u001b[0mkeep_date_col\u001b[0m\u001b[1;33m:\u001b[0m \u001b[1;34m'bool'\u001b[0m \u001b[1;33m=\u001b[0m \u001b[1;32mFalse\u001b[0m\u001b[1;33m,\u001b[0m\u001b[1;33m\n",
       "\u001b[0m    \u001b[0mdate_parser\u001b[0m\u001b[1;33m:\u001b[0m \u001b[1;34m'Callable | lib.NoDefault'\u001b[0m \u001b[1;33m=\u001b[0m \u001b[1;33m<\u001b[0m\u001b[0mno_default\u001b[0m\u001b[1;33m>\u001b[0m\u001b[1;33m,\u001b[0m\u001b[1;33m\n",
       "\u001b[0m    \u001b[0mdate_format\u001b[0m\u001b[1;33m:\u001b[0m \u001b[1;34m'str | None'\u001b[0m \u001b[1;33m=\u001b[0m \u001b[1;32mNone\u001b[0m\u001b[1;33m,\u001b[0m\u001b[1;33m\n",
       "\u001b[0m    \u001b[0mdayfirst\u001b[0m\u001b[1;33m:\u001b[0m \u001b[1;34m'bool'\u001b[0m \u001b[1;33m=\u001b[0m \u001b[1;32mFalse\u001b[0m\u001b[1;33m,\u001b[0m\u001b[1;33m\n",
       "\u001b[0m    \u001b[0mcache_dates\u001b[0m\u001b[1;33m:\u001b[0m \u001b[1;34m'bool'\u001b[0m \u001b[1;33m=\u001b[0m \u001b[1;32mTrue\u001b[0m\u001b[1;33m,\u001b[0m\u001b[1;33m\n",
       "\u001b[0m    \u001b[0miterator\u001b[0m\u001b[1;33m:\u001b[0m \u001b[1;34m'bool'\u001b[0m \u001b[1;33m=\u001b[0m \u001b[1;32mFalse\u001b[0m\u001b[1;33m,\u001b[0m\u001b[1;33m\n",
       "\u001b[0m    \u001b[0mchunksize\u001b[0m\u001b[1;33m:\u001b[0m \u001b[1;34m'int | None'\u001b[0m \u001b[1;33m=\u001b[0m \u001b[1;32mNone\u001b[0m\u001b[1;33m,\u001b[0m\u001b[1;33m\n",
       "\u001b[0m    \u001b[0mcompression\u001b[0m\u001b[1;33m:\u001b[0m \u001b[1;34m'CompressionOptions'\u001b[0m \u001b[1;33m=\u001b[0m \u001b[1;34m'infer'\u001b[0m\u001b[1;33m,\u001b[0m\u001b[1;33m\n",
       "\u001b[0m    \u001b[0mthousands\u001b[0m\u001b[1;33m:\u001b[0m \u001b[1;34m'str | None'\u001b[0m \u001b[1;33m=\u001b[0m \u001b[1;32mNone\u001b[0m\u001b[1;33m,\u001b[0m\u001b[1;33m\n",
       "\u001b[0m    \u001b[0mdecimal\u001b[0m\u001b[1;33m:\u001b[0m \u001b[1;34m'str'\u001b[0m \u001b[1;33m=\u001b[0m \u001b[1;34m'.'\u001b[0m\u001b[1;33m,\u001b[0m\u001b[1;33m\n",
       "\u001b[0m    \u001b[0mlineterminator\u001b[0m\u001b[1;33m:\u001b[0m \u001b[1;34m'str | None'\u001b[0m \u001b[1;33m=\u001b[0m \u001b[1;32mNone\u001b[0m\u001b[1;33m,\u001b[0m\u001b[1;33m\n",
       "\u001b[0m    \u001b[0mquotechar\u001b[0m\u001b[1;33m:\u001b[0m \u001b[1;34m'str'\u001b[0m \u001b[1;33m=\u001b[0m \u001b[1;34m'\"'\u001b[0m\u001b[1;33m,\u001b[0m\u001b[1;33m\n",
       "\u001b[0m    \u001b[0mquoting\u001b[0m\u001b[1;33m:\u001b[0m \u001b[1;34m'int'\u001b[0m \u001b[1;33m=\u001b[0m \u001b[1;36m0\u001b[0m\u001b[1;33m,\u001b[0m\u001b[1;33m\n",
       "\u001b[0m    \u001b[0mdoublequote\u001b[0m\u001b[1;33m:\u001b[0m \u001b[1;34m'bool'\u001b[0m \u001b[1;33m=\u001b[0m \u001b[1;32mTrue\u001b[0m\u001b[1;33m,\u001b[0m\u001b[1;33m\n",
       "\u001b[0m    \u001b[0mescapechar\u001b[0m\u001b[1;33m:\u001b[0m \u001b[1;34m'str | None'\u001b[0m \u001b[1;33m=\u001b[0m \u001b[1;32mNone\u001b[0m\u001b[1;33m,\u001b[0m\u001b[1;33m\n",
       "\u001b[0m    \u001b[0mcomment\u001b[0m\u001b[1;33m:\u001b[0m \u001b[1;34m'str | None'\u001b[0m \u001b[1;33m=\u001b[0m \u001b[1;32mNone\u001b[0m\u001b[1;33m,\u001b[0m\u001b[1;33m\n",
       "\u001b[0m    \u001b[0mencoding\u001b[0m\u001b[1;33m:\u001b[0m \u001b[1;34m'str | None'\u001b[0m \u001b[1;33m=\u001b[0m \u001b[1;32mNone\u001b[0m\u001b[1;33m,\u001b[0m\u001b[1;33m\n",
       "\u001b[0m    \u001b[0mencoding_errors\u001b[0m\u001b[1;33m:\u001b[0m \u001b[1;34m'str | None'\u001b[0m \u001b[1;33m=\u001b[0m \u001b[1;34m'strict'\u001b[0m\u001b[1;33m,\u001b[0m\u001b[1;33m\n",
       "\u001b[0m    \u001b[0mdialect\u001b[0m\u001b[1;33m:\u001b[0m \u001b[1;34m'str | csv.Dialect | None'\u001b[0m \u001b[1;33m=\u001b[0m \u001b[1;32mNone\u001b[0m\u001b[1;33m,\u001b[0m\u001b[1;33m\n",
       "\u001b[0m    \u001b[0mon_bad_lines\u001b[0m\u001b[1;33m:\u001b[0m \u001b[1;34m'str'\u001b[0m \u001b[1;33m=\u001b[0m \u001b[1;34m'error'\u001b[0m\u001b[1;33m,\u001b[0m\u001b[1;33m\n",
       "\u001b[0m    \u001b[0mdelim_whitespace\u001b[0m\u001b[1;33m:\u001b[0m \u001b[1;34m'bool'\u001b[0m \u001b[1;33m=\u001b[0m \u001b[1;32mFalse\u001b[0m\u001b[1;33m,\u001b[0m\u001b[1;33m\n",
       "\u001b[0m    \u001b[0mlow_memory\u001b[0m\u001b[1;33m:\u001b[0m \u001b[1;34m'bool'\u001b[0m \u001b[1;33m=\u001b[0m \u001b[1;32mTrue\u001b[0m\u001b[1;33m,\u001b[0m\u001b[1;33m\n",
       "\u001b[0m    \u001b[0mmemory_map\u001b[0m\u001b[1;33m:\u001b[0m \u001b[1;34m'bool'\u001b[0m \u001b[1;33m=\u001b[0m \u001b[1;32mFalse\u001b[0m\u001b[1;33m,\u001b[0m\u001b[1;33m\n",
       "\u001b[0m    \u001b[0mfloat_precision\u001b[0m\u001b[1;33m:\u001b[0m \u001b[1;34m\"Literal['high', 'legacy'] | None\"\u001b[0m \u001b[1;33m=\u001b[0m \u001b[1;32mNone\u001b[0m\u001b[1;33m,\u001b[0m\u001b[1;33m\n",
       "\u001b[0m    \u001b[0mstorage_options\u001b[0m\u001b[1;33m:\u001b[0m \u001b[1;34m'StorageOptions | None'\u001b[0m \u001b[1;33m=\u001b[0m \u001b[1;32mNone\u001b[0m\u001b[1;33m,\u001b[0m\u001b[1;33m\n",
       "\u001b[0m    \u001b[0mdtype_backend\u001b[0m\u001b[1;33m:\u001b[0m \u001b[1;34m'DtypeBackend | lib.NoDefault'\u001b[0m \u001b[1;33m=\u001b[0m \u001b[1;33m<\u001b[0m\u001b[0mno_default\u001b[0m\u001b[1;33m>\u001b[0m\u001b[1;33m,\u001b[0m\u001b[1;33m\n",
       "\u001b[0m\u001b[1;33m)\u001b[0m \u001b[1;33m->\u001b[0m \u001b[1;34m'DataFrame | TextFileReader'\u001b[0m\u001b[1;33m\u001b[0m\u001b[1;33m\u001b[0m\u001b[0m\n",
       "\u001b[1;31mDocstring:\u001b[0m\n",
       "Read a comma-separated values (csv) file into DataFrame.\n",
       "\n",
       "Also supports optionally iterating or breaking of the file\n",
       "into chunks.\n",
       "\n",
       "Additional help can be found in the online docs for\n",
       "`IO Tools <https://pandas.pydata.org/pandas-docs/stable/user_guide/io.html>`_.\n",
       "\n",
       "Parameters\n",
       "----------\n",
       "filepath_or_buffer : str, path object or file-like object\n",
       "    Any valid string path is acceptable. The string could be a URL. Valid\n",
       "    URL schemes include http, ftp, s3, gs, and file. For file URLs, a host is\n",
       "    expected. A local file could be: file://localhost/path/to/table.csv.\n",
       "\n",
       "    If you want to pass in a path object, pandas accepts any ``os.PathLike``.\n",
       "\n",
       "    By file-like object, we refer to objects with a ``read()`` method, such as\n",
       "    a file handle (e.g. via builtin ``open`` function) or ``StringIO``.\n",
       "sep : str, default ','\n",
       "    Character or regex pattern to treat as the delimiter. If ``sep=None``, the\n",
       "    C engine cannot automatically detect\n",
       "    the separator, but the Python parsing engine can, meaning the latter will\n",
       "    be used and automatically detect the separator from only the first valid\n",
       "    row of the file by Python's builtin sniffer tool, ``csv.Sniffer``.\n",
       "    In addition, separators longer than 1 character and different from\n",
       "    ``'\\s+'`` will be interpreted as regular expressions and will also force\n",
       "    the use of the Python parsing engine. Note that regex delimiters are prone\n",
       "    to ignoring quoted data. Regex example: ``'\\r\\t'``.\n",
       "delimiter : str, optional\n",
       "    Alias for ``sep``.\n",
       "header : int, Sequence of int, 'infer' or None, default 'infer'\n",
       "    Row number(s) containing column labels and marking the start of the\n",
       "    data (zero-indexed). Default behavior is to infer the column names: if no ``names``\n",
       "    are passed the behavior is identical to ``header=0`` and column\n",
       "    names are inferred from the first line of the file, if column\n",
       "    names are passed explicitly to ``names`` then the behavior is identical to\n",
       "    ``header=None``. Explicitly pass ``header=0`` to be able to\n",
       "    replace existing names. The header can be a list of integers that\n",
       "    specify row locations for a :class:`~pandas.MultiIndex` on the columns\n",
       "    e.g. ``[0, 1, 3]``. Intervening rows that are not specified will be\n",
       "    skipped (e.g. 2 in this example is skipped). Note that this\n",
       "    parameter ignores commented lines and empty lines if\n",
       "    ``skip_blank_lines=True``, so ``header=0`` denotes the first line of\n",
       "    data rather than the first line of the file.\n",
       "names : Sequence of Hashable, optional\n",
       "    Sequence of column labels to apply. If the file contains a header row,\n",
       "    then you should explicitly pass ``header=0`` to override the column names.\n",
       "    Duplicates in this list are not allowed.\n",
       "index_col : Hashable, Sequence of Hashable or False, optional\n",
       "  Column(s) to use as row label(s), denoted either by column labels or column\n",
       "  indices.  If a sequence of labels or indices is given, :class:`~pandas.MultiIndex`\n",
       "  will be formed for the row labels.\n",
       "\n",
       "  Note: ``index_col=False`` can be used to force pandas to *not* use the first\n",
       "  column as the index, e.g., when you have a malformed file with delimiters at\n",
       "  the end of each line.\n",
       "usecols : list of Hashable or Callable, optional\n",
       "    Subset of columns to select, denoted either by column labels or column indices.\n",
       "    If list-like, all elements must either\n",
       "    be positional (i.e. integer indices into the document columns) or strings\n",
       "    that correspond to column names provided either by the user in ``names`` or\n",
       "    inferred from the document header row(s). If ``names`` are given, the document\n",
       "    header row(s) are not taken into account. For example, a valid list-like\n",
       "    ``usecols`` parameter would be ``[0, 1, 2]`` or ``['foo', 'bar', 'baz']``.\n",
       "    Element order is ignored, so ``usecols=[0, 1]`` is the same as ``[1, 0]``.\n",
       "    To instantiate a :class:`~pandas.DataFrame` from ``data`` with element order\n",
       "    preserved use ``pd.read_csv(data, usecols=['foo', 'bar'])[['foo', 'bar']]``\n",
       "    for columns in ``['foo', 'bar']`` order or\n",
       "    ``pd.read_csv(data, usecols=['foo', 'bar'])[['bar', 'foo']]``\n",
       "    for ``['bar', 'foo']`` order.\n",
       "\n",
       "    If callable, the callable function will be evaluated against the column\n",
       "    names, returning names where the callable function evaluates to ``True``. An\n",
       "    example of a valid callable argument would be ``lambda x: x.upper() in\n",
       "    ['AAA', 'BBB', 'DDD']``. Using this parameter results in much faster\n",
       "    parsing time and lower memory usage.\n",
       "dtype : dtype or dict of {Hashable : dtype}, optional\n",
       "    Data type(s) to apply to either the whole dataset or individual columns.\n",
       "    E.g., ``{'a': np.float64, 'b': np.int32, 'c': 'Int64'}``\n",
       "    Use ``str`` or ``object`` together with suitable ``na_values`` settings\n",
       "    to preserve and not interpret ``dtype``.\n",
       "    If ``converters`` are specified, they will be applied INSTEAD\n",
       "    of ``dtype`` conversion.\n",
       "\n",
       "    .. versionadded:: 1.5.0\n",
       "\n",
       "        Support for ``defaultdict`` was added. Specify a ``defaultdict`` as input where\n",
       "        the default determines the ``dtype`` of the columns which are not explicitly\n",
       "        listed.\n",
       "engine : {'c', 'python', 'pyarrow'}, optional\n",
       "    Parser engine to use. The C and pyarrow engines are faster, while the python engine\n",
       "    is currently more feature-complete. Multithreading is currently only supported by\n",
       "    the pyarrow engine.\n",
       "\n",
       "    .. versionadded:: 1.4.0\n",
       "\n",
       "        The 'pyarrow' engine was added as an *experimental* engine, and some features\n",
       "        are unsupported, or may not work correctly, with this engine.\n",
       "converters : dict of {Hashable : Callable}, optional\n",
       "    Functions for converting values in specified columns. Keys can either\n",
       "    be column labels or column indices.\n",
       "true_values : list, optional\n",
       "    Values to consider as ``True`` in addition to case-insensitive variants of 'True'.\n",
       "false_values : list, optional\n",
       "    Values to consider as ``False`` in addition to case-insensitive variants of 'False'.\n",
       "skipinitialspace : bool, default False\n",
       "    Skip spaces after delimiter.\n",
       "skiprows : int, list of int or Callable, optional\n",
       "    Line numbers to skip (0-indexed) or number of lines to skip (``int``)\n",
       "    at the start of the file.\n",
       "\n",
       "    If callable, the callable function will be evaluated against the row\n",
       "    indices, returning ``True`` if the row should be skipped and ``False`` otherwise.\n",
       "    An example of a valid callable argument would be ``lambda x: x in [0, 2]``.\n",
       "skipfooter : int, default 0\n",
       "    Number of lines at bottom of file to skip (Unsupported with ``engine='c'``).\n",
       "nrows : int, optional\n",
       "    Number of rows of file to read. Useful for reading pieces of large files.\n",
       "na_values : Hashable, Iterable of Hashable or dict of {Hashable : Iterable}, optional\n",
       "    Additional strings to recognize as ``NA``/``NaN``. If ``dict`` passed, specific\n",
       "    per-column ``NA`` values.  By default the following values are interpreted as\n",
       "    ``NaN``: \" \", \"#N/A\", \"#N/A N/A\", \"#NA\", \"-1.#IND\", \"-1.#QNAN\", \"-NaN\", \"-nan\",\n",
       "    \"1.#IND\", \"1.#QNAN\", \"<NA>\", \"N/A\", \"NA\", \"NULL\", \"NaN\", \"None\",\n",
       "    \"n/a\", \"nan\", \"null \".\n",
       "\n",
       "keep_default_na : bool, default True\n",
       "    Whether or not to include the default ``NaN`` values when parsing the data.\n",
       "    Depending on whether ``na_values`` is passed in, the behavior is as follows:\n",
       "\n",
       "    * If ``keep_default_na`` is ``True``, and ``na_values`` are specified, ``na_values``\n",
       "      is appended to the default ``NaN`` values used for parsing.\n",
       "    * If ``keep_default_na`` is ``True``, and ``na_values`` are not specified, only\n",
       "      the default ``NaN`` values are used for parsing.\n",
       "    * If ``keep_default_na`` is ``False``, and ``na_values`` are specified, only\n",
       "      the ``NaN`` values specified ``na_values`` are used for parsing.\n",
       "    * If ``keep_default_na`` is ``False``, and ``na_values`` are not specified, no\n",
       "      strings will be parsed as ``NaN``.\n",
       "\n",
       "    Note that if ``na_filter`` is passed in as ``False``, the ``keep_default_na`` and\n",
       "    ``na_values`` parameters will be ignored.\n",
       "na_filter : bool, default True\n",
       "    Detect missing value markers (empty strings and the value of ``na_values``). In\n",
       "    data without any ``NA`` values, passing ``na_filter=False`` can improve the\n",
       "    performance of reading a large file.\n",
       "verbose : bool, default False\n",
       "    Indicate number of ``NA`` values placed in non-numeric columns.\n",
       "skip_blank_lines : bool, default True\n",
       "    If ``True``, skip over blank lines rather than interpreting as ``NaN`` values.\n",
       "parse_dates : bool, list of Hashable, list of lists or dict of {Hashable : list}, default False\n",
       "    The behavior is as follows:\n",
       "\n",
       "    * ``bool``. If ``True`` -> try parsing the index.\n",
       "    * ``list`` of ``int`` or names. e.g. If ``[1, 2, 3]`` -> try parsing columns 1, 2, 3\n",
       "      each as a separate date column.\n",
       "    * ``list`` of ``list``. e.g.  If ``[[1, 3]]`` -> combine columns 1 and 3 and parse\n",
       "      as a single date column.\n",
       "    * ``dict``, e.g. ``{'foo' : [1, 3]}`` -> parse columns 1, 3 as date and call\n",
       "      result 'foo'\n",
       "\n",
       "    If a column or index cannot be represented as an array of ``datetime``,\n",
       "    say because of an unparsable value or a mixture of timezones, the column\n",
       "    or index will be returned unaltered as an ``object`` data type. For\n",
       "    non-standard ``datetime`` parsing, use :func:`~pandas.to_datetime` after\n",
       "    :func:`~pandas.read_csv`.\n",
       "\n",
       "    Note: A fast-path exists for iso8601-formatted dates.\n",
       "infer_datetime_format : bool, default False\n",
       "    If ``True`` and ``parse_dates`` is enabled, pandas will attempt to infer the\n",
       "    format of the ``datetime`` strings in the columns, and if it can be inferred,\n",
       "    switch to a faster method of parsing them. In some cases this can increase\n",
       "    the parsing speed by 5-10x.\n",
       "\n",
       "    .. deprecated:: 2.0.0\n",
       "        A strict version of this argument is now the default, passing it has no effect.\n",
       "\n",
       "keep_date_col : bool, default False\n",
       "    If ``True`` and ``parse_dates`` specifies combining multiple columns then\n",
       "    keep the original columns.\n",
       "date_parser : Callable, optional\n",
       "    Function to use for converting a sequence of string columns to an array of\n",
       "    ``datetime`` instances. The default uses ``dateutil.parser.parser`` to do the\n",
       "    conversion. pandas will try to call ``date_parser`` in three different ways,\n",
       "    advancing to the next if an exception occurs: 1) Pass one or more arrays\n",
       "    (as defined by ``parse_dates``) as arguments; 2) concatenate (row-wise) the\n",
       "    string values from the columns defined by ``parse_dates`` into a single array\n",
       "    and pass that; and 3) call ``date_parser`` once for each row using one or\n",
       "    more strings (corresponding to the columns defined by ``parse_dates``) as\n",
       "    arguments.\n",
       "\n",
       "    .. deprecated:: 2.0.0\n",
       "       Use ``date_format`` instead, or read in as ``object`` and then apply\n",
       "       :func:`~pandas.to_datetime` as-needed.\n",
       "date_format : str or dict of column -> format, optional\n",
       "   Format to use for parsing dates when used in conjunction with ``parse_dates``.\n",
       "   For anything more complex, please read in as ``object`` and then apply\n",
       "   :func:`~pandas.to_datetime` as-needed.\n",
       "\n",
       "   .. versionadded:: 2.0.0\n",
       "dayfirst : bool, default False\n",
       "    DD/MM format dates, international and European format.\n",
       "cache_dates : bool, default True\n",
       "    If ``True``, use a cache of unique, converted dates to apply the ``datetime``\n",
       "    conversion. May produce significant speed-up when parsing duplicate\n",
       "    date strings, especially ones with timezone offsets.\n",
       "\n",
       "iterator : bool, default False\n",
       "    Return ``TextFileReader`` object for iteration or getting chunks with\n",
       "    ``get_chunk()``.\n",
       "\n",
       "    .. versionchanged:: 1.2\n",
       "\n",
       "       ``TextFileReader`` is a context manager.\n",
       "chunksize : int, optional\n",
       "    Number of lines to read from the file per chunk. Passing a value will cause the\n",
       "    function to return a ``TextFileReader`` object for iteration.\n",
       "    See the `IO Tools docs\n",
       "    <https://pandas.pydata.org/pandas-docs/stable/io.html#io-chunking>`_\n",
       "    for more information on ``iterator`` and ``chunksize``.\n",
       "\n",
       "    .. versionchanged:: 1.2\n",
       "\n",
       "       ``TextFileReader`` is a context manager.\n",
       "compression : str or dict, default 'infer'\n",
       "    For on-the-fly decompression of on-disk data. If 'infer' and 'filepath_or_buffer' is\n",
       "    path-like, then detect compression from the following extensions: '.gz',\n",
       "    '.bz2', '.zip', '.xz', '.zst', '.tar', '.tar.gz', '.tar.xz' or '.tar.bz2'\n",
       "    (otherwise no compression).\n",
       "    If using 'zip' or 'tar', the ZIP file must contain only one data file to be read in.\n",
       "    Set to ``None`` for no decompression.\n",
       "    Can also be a dict with key ``'method'`` set\n",
       "    to one of {``'zip'``, ``'gzip'``, ``'bz2'``, ``'zstd'``, ``'xz'``, ``'tar'``} and\n",
       "    other key-value pairs are forwarded to\n",
       "    ``zipfile.ZipFile``, ``gzip.GzipFile``,\n",
       "    ``bz2.BZ2File``, ``zstandard.ZstdDecompressor``, ``lzma.LZMAFile`` or\n",
       "    ``tarfile.TarFile``, respectively.\n",
       "    As an example, the following could be passed for Zstandard decompression using a\n",
       "    custom compression dictionary:\n",
       "    ``compression={'method': 'zstd', 'dict_data': my_compression_dict}``.\n",
       "\n",
       "    .. versionadded:: 1.5.0\n",
       "        Added support for `.tar` files.\n",
       "\n",
       "    .. versionchanged:: 1.4.0 Zstandard support.\n",
       "\n",
       "thousands : str (length 1), optional\n",
       "    Character acting as the thousands separator in numerical values.\n",
       "decimal : str (length 1), default '.'\n",
       "    Character to recognize as decimal point (e.g., use ',' for European data).\n",
       "lineterminator : str (length 1), optional\n",
       "    Character used to denote a line break. Only valid with C parser.\n",
       "quotechar : str (length 1), optional\n",
       "    Character used to denote the start and end of a quoted item. Quoted\n",
       "    items can include the ``delimiter`` and it will be ignored.\n",
       "quoting : {0 or csv.QUOTE_MINIMAL, 1 or csv.QUOTE_ALL, 2 or csv.QUOTE_NONNUMERIC, 3 or csv.QUOTE_NONE}, default csv.QUOTE_MINIMAL\n",
       "    Control field quoting behavior per ``csv.QUOTE_*`` constants. Default is\n",
       "    ``csv.QUOTE_MINIMAL`` (i.e., 0) which implies that only fields containing special\n",
       "    characters are quoted (e.g., characters defined in ``quotechar``, ``delimiter``,\n",
       "    or ``lineterminator``.\n",
       "doublequote : bool, default True\n",
       "   When ``quotechar`` is specified and ``quoting`` is not ``QUOTE_NONE``, indicate\n",
       "   whether or not to interpret two consecutive ``quotechar`` elements INSIDE a\n",
       "   field as a single ``quotechar`` element.\n",
       "escapechar : str (length 1), optional\n",
       "    Character used to escape other characters.\n",
       "comment : str (length 1), optional\n",
       "    Character indicating that the remainder of line should not be parsed.\n",
       "    If found at the beginning\n",
       "    of a line, the line will be ignored altogether. This parameter must be a\n",
       "    single character. Like empty lines (as long as ``skip_blank_lines=True``),\n",
       "    fully commented lines are ignored by the parameter ``header`` but not by\n",
       "    ``skiprows``. For example, if ``comment='#'``, parsing\n",
       "    ``#empty\\na,b,c\\n1,2,3`` with ``header=0`` will result in ``'a,b,c'`` being\n",
       "    treated as the header.\n",
       "encoding : str, optional, default 'utf-8'\n",
       "    Encoding to use for UTF when reading/writing (ex. ``'utf-8'``). `List of Python\n",
       "    standard encodings\n",
       "    <https://docs.python.org/3/library/codecs.html#standard-encodings>`_ .\n",
       "\n",
       "    .. versionchanged:: 1.2\n",
       "\n",
       "       When ``encoding`` is ``None``, ``errors='replace'`` is passed to\n",
       "       ``open()``. Otherwise, ``errors='strict'`` is passed to ``open()``.\n",
       "       This behavior was previously only the case for ``engine='python'``.\n",
       "\n",
       "    .. versionchanged:: 1.3.0\n",
       "\n",
       "       ``encoding_errors`` is a new argument. ``encoding`` has no longer an\n",
       "       influence on how encoding errors are handled.\n",
       "\n",
       "encoding_errors : str, optional, default 'strict'\n",
       "    How encoding errors are treated. `List of possible values\n",
       "    <https://docs.python.org/3/library/codecs.html#error-handlers>`_ .\n",
       "\n",
       "    .. versionadded:: 1.3.0\n",
       "\n",
       "dialect : str or csv.Dialect, optional\n",
       "    If provided, this parameter will override values (default or not) for the\n",
       "    following parameters: ``delimiter``, ``doublequote``, ``escapechar``,\n",
       "    ``skipinitialspace``, ``quotechar``, and ``quoting``. If it is necessary to\n",
       "    override values, a ``ParserWarning`` will be issued. See ``csv.Dialect``\n",
       "    documentation for more details.\n",
       "on_bad_lines : {'error', 'warn', 'skip'} or Callable, default 'error'\n",
       "    Specifies what to do upon encountering a bad line (a line with too many fields).\n",
       "    Allowed values are :\n",
       "\n",
       "    - ``'error'``, raise an Exception when a bad line is encountered.\n",
       "    - ``'warn'``, raise a warning when a bad line is encountered and skip that line.\n",
       "    - ``'skip'``, skip bad lines without raising or warning when they are encountered.\n",
       "\n",
       "    .. versionadded:: 1.3.0\n",
       "\n",
       "    .. versionadded:: 1.4.0\n",
       "\n",
       "        - Callable, function with signature\n",
       "          ``(bad_line: list[str]) -> list[str] | None`` that will process a single\n",
       "          bad line. ``bad_line`` is a list of strings split by the ``sep``.\n",
       "          If the function returns ``None``, the bad line will be ignored.\n",
       "          If the function returns a new ``list`` of strings with more elements than\n",
       "          expected, a ``ParserWarning`` will be emitted while dropping extra elements.\n",
       "          Only supported when ``engine='python'``\n",
       "\n",
       "delim_whitespace : bool, default False\n",
       "    Specifies whether or not whitespace (e.g. ``' '`` or ``'\\t'``) will be\n",
       "    used as the ``sep`` delimiter. Equivalent to setting ``sep='\\s+'``. If this option\n",
       "    is set to ``True``, nothing should be passed in for the ``delimiter``\n",
       "    parameter.\n",
       "low_memory : bool, default True\n",
       "    Internally process the file in chunks, resulting in lower memory use\n",
       "    while parsing, but possibly mixed type inference.  To ensure no mixed\n",
       "    types either set ``False``, or specify the type with the ``dtype`` parameter.\n",
       "    Note that the entire file is read into a single :class:`~pandas.DataFrame`\n",
       "    regardless, use the ``chunksize`` or ``iterator`` parameter to return the data in\n",
       "    chunks. (Only valid with C parser).\n",
       "memory_map : bool, default False\n",
       "    If a filepath is provided for ``filepath_or_buffer``, map the file object\n",
       "    directly onto memory and access the data directly from there. Using this\n",
       "    option can improve performance because there is no longer any I/O overhead.\n",
       "float_precision : {'high', 'legacy', 'round_trip'}, optional\n",
       "    Specifies which converter the C engine should use for floating-point\n",
       "    values. The options are ``None`` or ``'high'`` for the ordinary converter,\n",
       "    ``'legacy'`` for the original lower precision pandas converter, and\n",
       "    ``'round_trip'`` for the round-trip converter.\n",
       "\n",
       "    .. versionchanged:: 1.2\n",
       "\n",
       "storage_options : dict, optional\n",
       "    Extra options that make sense for a particular storage connection, e.g.\n",
       "    host, port, username, password, etc. For HTTP(S) URLs the key-value pairs\n",
       "    are forwarded to ``urllib.request.Request`` as header options. For other\n",
       "    URLs (e.g. starting with \"s3://\", and \"gcs://\") the key-value pairs are\n",
       "    forwarded to ``fsspec.open``. Please see ``fsspec`` and ``urllib`` for more\n",
       "    details, and for more examples on storage options refer `here\n",
       "    <https://pandas.pydata.org/docs/user_guide/io.html?\n",
       "    highlight=storage_options#reading-writing-remote-files>`_.\n",
       "\n",
       "    .. versionadded:: 1.2\n",
       "\n",
       "dtype_backend : {'numpy_nullable', 'pyarrow'}, default 'numpy_nullable'\n",
       "    Back-end data type applied to the resultant :class:`DataFrame`\n",
       "    (still experimental). Behaviour is as follows:\n",
       "\n",
       "    * ``\"numpy_nullable\"``: returns nullable-dtype-backed :class:`DataFrame`\n",
       "      (default).\n",
       "    * ``\"pyarrow\"``: returns pyarrow-backed nullable :class:`ArrowDtype`\n",
       "      DataFrame.\n",
       "\n",
       "    .. versionadded:: 2.0\n",
       "\n",
       "Returns\n",
       "-------\n",
       "DataFrame or TextFileReader\n",
       "    A comma-separated values (csv) file is returned as two-dimensional\n",
       "    data structure with labeled axes.\n",
       "\n",
       "See Also\n",
       "--------\n",
       "DataFrame.to_csv : Write DataFrame to a comma-separated values (csv) file.\n",
       "read_table : Read general delimited file into DataFrame.\n",
       "read_fwf : Read a table of fixed-width formatted lines into DataFrame.\n",
       "\n",
       "Examples\n",
       "--------\n",
       ">>> pd.read_csv('data.csv')  # doctest: +SKIP\n",
       "\u001b[1;31mFile:\u001b[0m      c:\\users\\vkuskova\\appdata\\local\\anaconda3\\lib\\site-packages\\pandas\\io\\parsers\\readers.py\n",
       "\u001b[1;31mType:\u001b[0m      function"
      ]
     },
     "metadata": {},
     "output_type": "display_data"
    }
   ],
   "source": [
    "pd.read_sql?\n",
    "pd.read_csv?"
   ]
  },
  {
   "cell_type": "markdown",
   "metadata": {},
   "source": [
    "Now let's read data in from a CSV file:"
   ]
  },
  {
   "cell_type": "code",
   "execution_count": 9,
   "metadata": {},
   "outputs": [],
   "source": [
    "df = pd.read_csv('https://raw.githubusercontent.com/cse44648/cse44648/master/datasets/hypothyroid.csv')"
   ]
  },
  {
   "cell_type": "markdown",
   "metadata": {},
   "source": [
    "## Viewing your dataframe\n",
    "\n",
    "You can use `head` and `tail` to get a view of your data."
   ]
  },
  {
   "cell_type": "code",
   "execution_count": 11,
   "metadata": {},
   "outputs": [
    {
     "data": {
      "text/html": [
       "<div>\n",
       "<style scoped>\n",
       "    .dataframe tbody tr th:only-of-type {\n",
       "        vertical-align: middle;\n",
       "    }\n",
       "\n",
       "    .dataframe tbody tr th {\n",
       "        vertical-align: top;\n",
       "    }\n",
       "\n",
       "    .dataframe thead th {\n",
       "        text-align: right;\n",
       "    }\n",
       "</style>\n",
       "<table border=\"1\" class=\"dataframe\">\n",
       "  <thead>\n",
       "    <tr style=\"text-align: right;\">\n",
       "      <th></th>\n",
       "      <th>Age</th>\n",
       "      <th>Sex</th>\n",
       "      <th>On Thyroxine</th>\n",
       "      <th>Query on Thyroxine</th>\n",
       "      <th>On Antithyroid Medication</th>\n",
       "      <th>Thyroid Surgery</th>\n",
       "      <th>Query Hypothyroid</th>\n",
       "      <th>Query Hyperthyroid</th>\n",
       "      <th>Pregnant</th>\n",
       "      <th>Sick</th>\n",
       "      <th>...</th>\n",
       "      <th>T3</th>\n",
       "      <th>TT4 Measured</th>\n",
       "      <th>TT4</th>\n",
       "      <th>T4U Measured</th>\n",
       "      <th>T4U</th>\n",
       "      <th>FTI Measured</th>\n",
       "      <th>FTI</th>\n",
       "      <th>TBG Measured</th>\n",
       "      <th>TBG</th>\n",
       "      <th>Class</th>\n",
       "    </tr>\n",
       "  </thead>\n",
       "  <tbody>\n",
       "    <tr>\n",
       "      <th>0</th>\n",
       "      <td>72.0</td>\n",
       "      <td>M</td>\n",
       "      <td>f</td>\n",
       "      <td>f</td>\n",
       "      <td>f</td>\n",
       "      <td>f</td>\n",
       "      <td>f</td>\n",
       "      <td>f</td>\n",
       "      <td>f</td>\n",
       "      <td>f</td>\n",
       "      <td>...</td>\n",
       "      <td>0.6</td>\n",
       "      <td>y</td>\n",
       "      <td>15.0</td>\n",
       "      <td>y</td>\n",
       "      <td>1.48</td>\n",
       "      <td>y</td>\n",
       "      <td>10.0</td>\n",
       "      <td>n</td>\n",
       "      <td>NaN</td>\n",
       "      <td>hypothyroid</td>\n",
       "    </tr>\n",
       "    <tr>\n",
       "      <th>1</th>\n",
       "      <td>15.0</td>\n",
       "      <td>F</td>\n",
       "      <td>t</td>\n",
       "      <td>f</td>\n",
       "      <td>f</td>\n",
       "      <td>f</td>\n",
       "      <td>f</td>\n",
       "      <td>f</td>\n",
       "      <td>f</td>\n",
       "      <td>f</td>\n",
       "      <td>...</td>\n",
       "      <td>1.7</td>\n",
       "      <td>y</td>\n",
       "      <td>19.0</td>\n",
       "      <td>y</td>\n",
       "      <td>1.13</td>\n",
       "      <td>y</td>\n",
       "      <td>17.0</td>\n",
       "      <td>n</td>\n",
       "      <td>NaN</td>\n",
       "      <td>hypothyroid</td>\n",
       "    </tr>\n",
       "    <tr>\n",
       "      <th>2</th>\n",
       "      <td>24.0</td>\n",
       "      <td>M</td>\n",
       "      <td>f</td>\n",
       "      <td>f</td>\n",
       "      <td>f</td>\n",
       "      <td>f</td>\n",
       "      <td>f</td>\n",
       "      <td>f</td>\n",
       "      <td>f</td>\n",
       "      <td>f</td>\n",
       "      <td>...</td>\n",
       "      <td>0.2</td>\n",
       "      <td>y</td>\n",
       "      <td>4.0</td>\n",
       "      <td>y</td>\n",
       "      <td>1.00</td>\n",
       "      <td>y</td>\n",
       "      <td>0.0</td>\n",
       "      <td>n</td>\n",
       "      <td>NaN</td>\n",
       "      <td>hypothyroid</td>\n",
       "    </tr>\n",
       "    <tr>\n",
       "      <th>3</th>\n",
       "      <td>24.0</td>\n",
       "      <td>F</td>\n",
       "      <td>f</td>\n",
       "      <td>f</td>\n",
       "      <td>f</td>\n",
       "      <td>f</td>\n",
       "      <td>f</td>\n",
       "      <td>f</td>\n",
       "      <td>f</td>\n",
       "      <td>f</td>\n",
       "      <td>...</td>\n",
       "      <td>0.4</td>\n",
       "      <td>y</td>\n",
       "      <td>6.0</td>\n",
       "      <td>y</td>\n",
       "      <td>1.04</td>\n",
       "      <td>y</td>\n",
       "      <td>6.0</td>\n",
       "      <td>n</td>\n",
       "      <td>NaN</td>\n",
       "      <td>hypothyroid</td>\n",
       "    </tr>\n",
       "    <tr>\n",
       "      <th>4</th>\n",
       "      <td>77.0</td>\n",
       "      <td>M</td>\n",
       "      <td>f</td>\n",
       "      <td>f</td>\n",
       "      <td>f</td>\n",
       "      <td>f</td>\n",
       "      <td>f</td>\n",
       "      <td>f</td>\n",
       "      <td>f</td>\n",
       "      <td>f</td>\n",
       "      <td>...</td>\n",
       "      <td>1.2</td>\n",
       "      <td>y</td>\n",
       "      <td>57.0</td>\n",
       "      <td>y</td>\n",
       "      <td>1.28</td>\n",
       "      <td>y</td>\n",
       "      <td>44.0</td>\n",
       "      <td>n</td>\n",
       "      <td>NaN</td>\n",
       "      <td>hypothyroid</td>\n",
       "    </tr>\n",
       "  </tbody>\n",
       "</table>\n",
       "<p>5 rows × 26 columns</p>\n",
       "</div>"
      ],
      "text/plain": [
       "    Age Sex On Thyroxine Query on Thyroxine On Antithyroid Medication  \\\n",
       "0  72.0   M            f                  f                         f   \n",
       "1  15.0   F            t                  f                         f   \n",
       "2  24.0   M            f                  f                         f   \n",
       "3  24.0   F            f                  f                         f   \n",
       "4  77.0   M            f                  f                         f   \n",
       "\n",
       "  Thyroid Surgery Query Hypothyroid Query Hyperthyroid Pregnant Sick  ...  \\\n",
       "0               f                 f                  f        f    f  ...   \n",
       "1               f                 f                  f        f    f  ...   \n",
       "2               f                 f                  f        f    f  ...   \n",
       "3               f                 f                  f        f    f  ...   \n",
       "4               f                 f                  f        f    f  ...   \n",
       "\n",
       "    T3 TT4 Measured   TT4 T4U Measured   T4U FTI Measured   FTI TBG Measured  \\\n",
       "0  0.6            y  15.0            y  1.48            y  10.0            n   \n",
       "1  1.7            y  19.0            y  1.13            y  17.0            n   \n",
       "2  0.2            y   4.0            y  1.00            y   0.0            n   \n",
       "3  0.4            y   6.0            y  1.04            y   6.0            n   \n",
       "4  1.2            y  57.0            y  1.28            y  44.0            n   \n",
       "\n",
       "   TBG        Class  \n",
       "0  NaN  hypothyroid  \n",
       "1  NaN  hypothyroid  \n",
       "2  NaN  hypothyroid  \n",
       "3  NaN  hypothyroid  \n",
       "4  NaN  hypothyroid  \n",
       "\n",
       "[5 rows x 26 columns]"
      ]
     },
     "execution_count": 11,
     "metadata": {},
     "output_type": "execute_result"
    }
   ],
   "source": [
    "df.head()"
   ]
  },
  {
   "cell_type": "code",
   "execution_count": 13,
   "metadata": {},
   "outputs": [
    {
     "data": {
      "text/plain": [
       "<bound method NDFrame.tail of        Age Sex On Thyroxine Query on Thyroxine On Antithyroid Medication  \\\n",
       "0     72.0   M            f                  f                         f   \n",
       "1     15.0   F            t                  f                         f   \n",
       "2     24.0   M            f                  f                         f   \n",
       "3     24.0   F            f                  f                         f   \n",
       "4     77.0   M            f                  f                         f   \n",
       "...    ...  ..          ...                ...                       ...   \n",
       "3158  58.0   F            f                  f                         f   \n",
       "3159  29.0   F            f                  f                         f   \n",
       "3160  77.0   M            f                  f                         f   \n",
       "3161  74.0   F            f                  f                         f   \n",
       "3162  56.0   F            t                  f                         f   \n",
       "\n",
       "     Thyroid Surgery Query Hypothyroid Query Hyperthyroid Pregnant Sick  ...  \\\n",
       "0                  f                 f                  f        f    f  ...   \n",
       "1                  f                 f                  f        f    f  ...   \n",
       "2                  f                 f                  f        f    f  ...   \n",
       "3                  f                 f                  f        f    f  ...   \n",
       "4                  f                 f                  f        f    f  ...   \n",
       "...              ...               ...                ...      ...  ...  ...   \n",
       "3158               f                 f                  f        f    f  ...   \n",
       "3159               f                 f                  f        f    f  ...   \n",
       "3160               f                 f                  f        f    f  ...   \n",
       "3161               f                 f                  f        f    f  ...   \n",
       "3162               f                 f                  f        f    f  ...   \n",
       "\n",
       "       T3 TT4 Measured    TT4 T4U Measured   T4U FTI Measured    FTI  \\\n",
       "0     0.6            y   15.0            y  1.48            y   10.0   \n",
       "1     1.7            y   19.0            y  1.13            y   17.0   \n",
       "2     0.2            y    4.0            y  1.00            y    0.0   \n",
       "3     0.4            y    6.0            y  1.04            y    6.0   \n",
       "4     1.2            y   57.0            y  1.28            y   44.0   \n",
       "...   ...          ...    ...          ...   ...          ...    ...   \n",
       "3158  1.7            y   86.0            y  0.91            y   95.0   \n",
       "3159  1.8            y   99.0            y  1.01            y   98.0   \n",
       "3160  0.6            y   71.0            y  0.68            y  104.0   \n",
       "3161  0.1            y   65.0            y  0.48            y  137.0   \n",
       "3162  1.8            y  139.0            y  0.97            y  143.0   \n",
       "\n",
       "     TBG Measured  TBG        Class  \n",
       "0               n  NaN  hypothyroid  \n",
       "1               n  NaN  hypothyroid  \n",
       "2               n  NaN  hypothyroid  \n",
       "3               n  NaN  hypothyroid  \n",
       "4               n  NaN  hypothyroid  \n",
       "...           ...  ...          ...  \n",
       "3158            n  NaN     negative  \n",
       "3159            n  NaN     negative  \n",
       "3160            n  NaN     negative  \n",
       "3161            n  NaN     negative  \n",
       "3162            n  NaN     negative  \n",
       "\n",
       "[3163 rows x 26 columns]>"
      ]
     },
     "execution_count": 13,
     "metadata": {},
     "output_type": "execute_result"
    }
   ],
   "source": [
    "df.tail"
   ]
  },
  {
   "cell_type": "markdown",
   "metadata": {},
   "source": [
    "We can get a sense for the size and shape of the data using `shape`"
   ]
  },
  {
   "cell_type": "code",
   "execution_count": 15,
   "metadata": {},
   "outputs": [
    {
     "data": {
      "text/plain": [
       "(3163, 26)"
      ]
     },
     "execution_count": 15,
     "metadata": {},
     "output_type": "execute_result"
    }
   ],
   "source": [
    "df.shape"
   ]
  },
  {
   "cell_type": "markdown",
   "metadata": {},
   "source": [
    "## Columns\n",
    "\n",
    "Columns typically represent features of a given instance or record in the dataframe. You can use the `.columns` attribute to print a list of all columns:"
   ]
  },
  {
   "cell_type": "code",
   "execution_count": 11,
   "metadata": {},
   "outputs": [
    {
     "data": {
      "text/plain": [
       "Index(['Age', 'Sex', 'On Thyroxine', 'Query on Thyroxine',\n",
       "       'On Antithyroid Medication', 'Thyroid Surgery', 'Query Hypothyroid',\n",
       "       'Query Hyperthyroid', 'Pregnant', 'Sick', 'Tumor', 'Lithium', 'Goitre',\n",
       "       'TSH Measured', 'TSH', 'T3 Measured', 'T3', 'TT4 Measured', 'TT4',\n",
       "       'T4U Measured', 'T4U', 'FTI Measured', 'FTI', 'TBG Measured', 'TBG',\n",
       "       'Class'],\n",
       "      dtype='object')"
      ]
     },
     "execution_count": 11,
     "metadata": {},
     "output_type": "execute_result"
    }
   ],
   "source": [
    "df.columns"
   ]
  },
  {
   "cell_type": "markdown",
   "metadata": {},
   "source": [
    "Get a sense for the type of each column using `dtypes`:"
   ]
  },
  {
   "cell_type": "code",
   "execution_count": 13,
   "metadata": {},
   "outputs": [
    {
     "data": {
      "text/plain": [
       "Age                          float64\n",
       "Sex                           object\n",
       "On Thyroxine                  object\n",
       "Query on Thyroxine            object\n",
       "On Antithyroid Medication     object\n",
       "Thyroid Surgery               object\n",
       "Query Hypothyroid             object\n",
       "Query Hyperthyroid            object\n",
       "Pregnant                      object\n",
       "Sick                          object\n",
       "Tumor                         object\n",
       "Lithium                       object\n",
       "Goitre                        object\n",
       "TSH Measured                  object\n",
       "TSH                          float64\n",
       "T3 Measured                   object\n",
       "T3                           float64\n",
       "TT4 Measured                  object\n",
       "TT4                          float64\n",
       "T4U Measured                  object\n",
       "T4U                          float64\n",
       "FTI Measured                  object\n",
       "FTI                          float64\n",
       "TBG Measured                  object\n",
       "TBG                          float64\n",
       "Class                         object\n",
       "dtype: object"
      ]
     },
     "execution_count": 13,
     "metadata": {},
     "output_type": "execute_result"
    }
   ],
   "source": [
    "df.dtypes"
   ]
  },
  {
   "cell_type": "markdown",
   "metadata": {},
   "source": [
    "To access a single column as a series, you can reference its name as a string in square brackets:"
   ]
  },
  {
   "cell_type": "code",
   "execution_count": 15,
   "metadata": {},
   "outputs": [
    {
     "data": {
      "text/plain": [
       "0       f\n",
       "1       f\n",
       "2       f\n",
       "3       f\n",
       "4       f\n",
       "       ..\n",
       "3158    f\n",
       "3159    f\n",
       "3160    f\n",
       "3161    f\n",
       "3162    f\n",
       "Name: On Antithyroid Medication, Length: 3163, dtype: object"
      ]
     },
     "execution_count": 15,
     "metadata": {},
     "output_type": "execute_result"
    }
   ],
   "source": [
    "df['On Antithyroid Medication']"
   ]
  },
  {
   "cell_type": "code",
   "execution_count": 33,
   "metadata": {},
   "outputs": [
    {
     "data": {
      "text/plain": [
       "<Axes: xlabel='Thyroid Surgery'>"
      ]
     },
     "execution_count": 33,
     "metadata": {},
     "output_type": "execute_result"
    },
    {
     "data": {
      "image/png": "[encoded data removed]",
      "text/plain": [
       "<Figure size 640x480 with 1 Axes>"
      ]
     },
     "metadata": {},
     "output_type": "display_data"
    }
   ],
   "source": [
    "df['Thyroid Surgery'].value_counts().plot(kind='bar')"
   ]
  },
  {
   "cell_type": "code",
   "execution_count": null,
   "metadata": {},
   "outputs": [],
   "source": []
  },
  {
   "cell_type": "markdown",
   "metadata": {},
   "source": [
    "To plot a series, use the `.plot()` function"
   ]
  },
  {
   "cell_type": "markdown",
   "metadata": {},
   "source": [
    "To access multiple columns as a dataframe, you can use a list of column names:"
   ]
  },
  {
   "cell_type": "code",
   "execution_count": 103,
   "metadata": {},
   "outputs": [
    {
     "data": {
      "text/html": [
       "<div>\n",
       "<style scoped>\n",
       "    .dataframe tbody tr th:only-of-type {\n",
       "        vertical-align: middle;\n",
       "    }\n",
       "\n",
       "    .dataframe tbody tr th {\n",
       "        vertical-align: top;\n",
       "    }\n",
       "\n",
       "    .dataframe thead th {\n",
       "        text-align: right;\n",
       "    }\n",
       "</style>\n",
       "<table border=\"1\" class=\"dataframe\">\n",
       "  <thead>\n",
       "    <tr style=\"text-align: right;\">\n",
       "      <th></th>\n",
       "      <th>On Antithyroid Medication</th>\n",
       "      <th>Thyroid Surgery</th>\n",
       "    </tr>\n",
       "  </thead>\n",
       "  <tbody>\n",
       "    <tr>\n",
       "      <th>0</th>\n",
       "      <td>f</td>\n",
       "      <td>f</td>\n",
       "    </tr>\n",
       "    <tr>\n",
       "      <th>1</th>\n",
       "      <td>f</td>\n",
       "      <td>f</td>\n",
       "    </tr>\n",
       "    <tr>\n",
       "      <th>2</th>\n",
       "      <td>f</td>\n",
       "      <td>f</td>\n",
       "    </tr>\n",
       "    <tr>\n",
       "      <th>3</th>\n",
       "      <td>f</td>\n",
       "      <td>f</td>\n",
       "    </tr>\n",
       "    <tr>\n",
       "      <th>4</th>\n",
       "      <td>f</td>\n",
       "      <td>f</td>\n",
       "    </tr>\n",
       "    <tr>\n",
       "      <th>...</th>\n",
       "      <td>...</td>\n",
       "      <td>...</td>\n",
       "    </tr>\n",
       "    <tr>\n",
       "      <th>3158</th>\n",
       "      <td>f</td>\n",
       "      <td>f</td>\n",
       "    </tr>\n",
       "    <tr>\n",
       "      <th>3159</th>\n",
       "      <td>f</td>\n",
       "      <td>f</td>\n",
       "    </tr>\n",
       "    <tr>\n",
       "      <th>3160</th>\n",
       "      <td>f</td>\n",
       "      <td>f</td>\n",
       "    </tr>\n",
       "    <tr>\n",
       "      <th>3161</th>\n",
       "      <td>f</td>\n",
       "      <td>f</td>\n",
       "    </tr>\n",
       "    <tr>\n",
       "      <th>3162</th>\n",
       "      <td>f</td>\n",
       "      <td>f</td>\n",
       "    </tr>\n",
       "  </tbody>\n",
       "</table>\n",
       "<p>3163 rows × 2 columns</p>\n",
       "</div>"
      ],
      "text/plain": [
       "     On Antithyroid Medication Thyroid Surgery\n",
       "0                            f               f\n",
       "1                            f               f\n",
       "2                            f               f\n",
       "3                            f               f\n",
       "4                            f               f\n",
       "...                        ...             ...\n",
       "3158                         f               f\n",
       "3159                         f               f\n",
       "3160                         f               f\n",
       "3161                         f               f\n",
       "3162                         f               f\n",
       "\n",
       "[3163 rows x 2 columns]"
      ]
     },
     "execution_count": 103,
     "metadata": {},
     "output_type": "execute_result"
    }
   ],
   "source": [
    "df[['On Antithyroid Medication', 'Thyroid Surgery']]"
   ]
  },
  {
   "cell_type": "markdown",
   "metadata": {},
   "source": [
    "## Basic views into the data\n",
    "\n",
    "Lets get a better sense what these fields look like. \n",
    "\n",
    "Let's start by describing the entire dataset using the `describe` function."
   ]
  },
  {
   "cell_type": "code",
   "execution_count": 35,
   "metadata": {},
   "outputs": [
    {
     "data": {
      "text/html": [
       "<div>\n",
       "<style scoped>\n",
       "    .dataframe tbody tr th:only-of-type {\n",
       "        vertical-align: middle;\n",
       "    }\n",
       "\n",
       "    .dataframe tbody tr th {\n",
       "        vertical-align: top;\n",
       "    }\n",
       "\n",
       "    .dataframe thead th {\n",
       "        text-align: right;\n",
       "    }\n",
       "</style>\n",
       "<table border=\"1\" class=\"dataframe\">\n",
       "  <thead>\n",
       "    <tr style=\"text-align: right;\">\n",
       "      <th></th>\n",
       "      <th>Age</th>\n",
       "      <th>TSH</th>\n",
       "      <th>T3</th>\n",
       "      <th>TT4</th>\n",
       "      <th>T4U</th>\n",
       "      <th>FTI</th>\n",
       "      <th>TBG</th>\n",
       "    </tr>\n",
       "  </thead>\n",
       "  <tbody>\n",
       "    <tr>\n",
       "      <th>count</th>\n",
       "      <td>2717.000000</td>\n",
       "      <td>2695.000000</td>\n",
       "      <td>2468.000000</td>\n",
       "      <td>2914.000000</td>\n",
       "      <td>2915.000000</td>\n",
       "      <td>2916.000000</td>\n",
       "      <td>260.000000</td>\n",
       "    </tr>\n",
       "    <tr>\n",
       "      <th>mean</th>\n",
       "      <td>51.154214</td>\n",
       "      <td>5.923180</td>\n",
       "      <td>1.939749</td>\n",
       "      <td>108.850000</td>\n",
       "      <td>0.978199</td>\n",
       "      <td>115.397771</td>\n",
       "      <td>31.283077</td>\n",
       "    </tr>\n",
       "    <tr>\n",
       "      <th>std</th>\n",
       "      <td>19.294405</td>\n",
       "      <td>23.899467</td>\n",
       "      <td>0.996773</td>\n",
       "      <td>45.485419</td>\n",
       "      <td>0.226580</td>\n",
       "      <td>60.239572</td>\n",
       "      <td>19.224659</td>\n",
       "    </tr>\n",
       "    <tr>\n",
       "      <th>min</th>\n",
       "      <td>1.000000</td>\n",
       "      <td>0.000000</td>\n",
       "      <td>0.000000</td>\n",
       "      <td>2.000000</td>\n",
       "      <td>0.000000</td>\n",
       "      <td>0.000000</td>\n",
       "      <td>0.000000</td>\n",
       "    </tr>\n",
       "    <tr>\n",
       "      <th>25%</th>\n",
       "      <td>35.000000</td>\n",
       "      <td>0.000000</td>\n",
       "      <td>1.400000</td>\n",
       "      <td>83.000000</td>\n",
       "      <td>0.850000</td>\n",
       "      <td>91.000000</td>\n",
       "      <td>21.000000</td>\n",
       "    </tr>\n",
       "    <tr>\n",
       "      <th>50%</th>\n",
       "      <td>54.000000</td>\n",
       "      <td>0.700000</td>\n",
       "      <td>1.800000</td>\n",
       "      <td>104.000000</td>\n",
       "      <td>0.960000</td>\n",
       "      <td>107.000000</td>\n",
       "      <td>28.000000</td>\n",
       "    </tr>\n",
       "    <tr>\n",
       "      <th>75%</th>\n",
       "      <td>67.000000</td>\n",
       "      <td>2.300000</td>\n",
       "      <td>2.300000</td>\n",
       "      <td>128.000000</td>\n",
       "      <td>1.065000</td>\n",
       "      <td>129.000000</td>\n",
       "      <td>34.000000</td>\n",
       "    </tr>\n",
       "    <tr>\n",
       "      <th>max</th>\n",
       "      <td>98.000000</td>\n",
       "      <td>530.000000</td>\n",
       "      <td>10.200000</td>\n",
       "      <td>450.000000</td>\n",
       "      <td>2.210000</td>\n",
       "      <td>881.000000</td>\n",
       "      <td>122.000000</td>\n",
       "    </tr>\n",
       "  </tbody>\n",
       "</table>\n",
       "</div>"
      ],
      "text/plain": [
       "               Age          TSH           T3          TT4          T4U  \\\n",
       "count  2717.000000  2695.000000  2468.000000  2914.000000  2915.000000   \n",
       "mean     51.154214     5.923180     1.939749   108.850000     0.978199   \n",
       "std      19.294405    23.899467     0.996773    45.485419     0.226580   \n",
       "min       1.000000     0.000000     0.000000     2.000000     0.000000   \n",
       "25%      35.000000     0.000000     1.400000    83.000000     0.850000   \n",
       "50%      54.000000     0.700000     1.800000   104.000000     0.960000   \n",
       "75%      67.000000     2.300000     2.300000   128.000000     1.065000   \n",
       "max      98.000000   530.000000    10.200000   450.000000     2.210000   \n",
       "\n",
       "               FTI         TBG  \n",
       "count  2916.000000  260.000000  \n",
       "mean    115.397771   31.283077  \n",
       "std      60.239572   19.224659  \n",
       "min       0.000000    0.000000  \n",
       "25%      91.000000   21.000000  \n",
       "50%     107.000000   28.000000  \n",
       "75%     129.000000   34.000000  \n",
       "max     881.000000  122.000000  "
      ]
     },
     "execution_count": 35,
     "metadata": {},
     "output_type": "execute_result"
    }
   ],
   "source": [
    "df.describe()"
   ]
  },
  {
   "cell_type": "markdown",
   "metadata": {},
   "source": [
    "It looks like `describe` only works on numerical columns. For categorical data, we can use `value_counts` to check one column at a type:"
   ]
  },
  {
   "cell_type": "code",
   "execution_count": 105,
   "metadata": {},
   "outputs": [
    {
     "data": {
      "text/plain": [
       "f    3121\n",
       "t      42\n",
       "Name: On Antithyroid Medication, dtype: int64"
      ]
     },
     "execution_count": 105,
     "metadata": {},
     "output_type": "execute_result"
    }
   ],
   "source": [
    "df['On Antithyroid Medication'].value_counts()"
   ]
  },
  {
   "cell_type": "markdown",
   "metadata": {},
   "source": [
    "Value counts is also useful for plotting data:"
   ]
  },
  {
   "cell_type": "code",
   "execution_count": 106,
   "metadata": {},
   "outputs": [
    {
     "data": {
      "text/plain": [
       "<matplotlib.axes._subplots.AxesSubplot at 0x1f2bb82d940>"
      ]
     },
     "execution_count": 106,
     "metadata": {},
     "output_type": "execute_result"
    },
    {
     "data": {
      "image/png": "[encoded data removed]",
      "text/plain": [
       "<Figure size 432x288 with 1 Axes>"
      ]
     },
     "metadata": {
      "needs_background": "light"
     },
     "output_type": "display_data"
    }
   ],
   "source": [
    "df['Sex'].value_counts().plot(kind='bar')"
   ]
  },
  {
   "cell_type": "markdown",
   "metadata": {},
   "source": [
    "<span style=\"color:red\">An addition to the original Notebook.</span>\n",
    "## Another way to create a bar plot:\n",
    "Use the 'seaborn' package to add more options to the plot"
   ]
  },
  {
   "cell_type": "code",
   "execution_count": 29,
   "metadata": {},
   "outputs": [],
   "source": [
    "import matplotlib.pyplot as plt\n",
    "import seaborn as sns"
   ]
  },
  {
   "cell_type": "code",
   "execution_count": 30,
   "metadata": {},
   "outputs": [],
   "source": [
    "# Set the style for the plots\n",
    "sns.set(style=\"whitegrid\")"
   ]
  },
  {
   "cell_type": "code",
   "execution_count": 31,
   "metadata": {},
   "outputs": [
    {
     "data": {
      "image/png": "[encoded data removed]",
      "text/plain": [
       "<Figure size 1200x600 with 1 Axes>"
      ]
     },
     "metadata": {},
     "output_type": "display_data"
    }
   ],
   "source": [
    "plt.figure(figsize=(12, 6))\n",
    "sns.countplot(data=df, x='Sex')\n",
    "plt.title('Bar Plot of Sex')\n",
    "plt.xlabel('Sex')\n",
    "plt.ylabel('Count')\n",
    "plt.show()"
   ]
  },
  {
   "cell_type": "markdown",
   "metadata": {},
   "source": [
    "The `normalize=True` option will give us the fraction of all instances that have each value."
   ]
  },
  {
   "cell_type": "code",
   "execution_count": 37,
   "metadata": {},
   "outputs": [
    {
     "data": {
      "text/plain": [
       "On Antithyroid Medication\n",
       "f    0.986721\n",
       "t    0.013279\n",
       "Name: proportion, dtype: float64"
      ]
     },
     "execution_count": 37,
     "metadata": {},
     "output_type": "execute_result"
    }
   ],
   "source": [
    "df['On Antithyroid Medication'].value_counts(normalize=True)"
   ]
  },
  {
   "cell_type": "code",
   "execution_count": 39,
   "metadata": {},
   "outputs": [
    {
     "data": {
      "text/plain": [
       "<Axes: ylabel='proportion'>"
      ]
     },
     "execution_count": 39,
     "metadata": {},
     "output_type": "execute_result"
    },
    {
     "data": {
      "image/png": "[encoded data removed]",
      "text/plain": [
       "<Figure size 640x480 with 1 Axes>"
      ]
     },
     "metadata": {},
     "output_type": "display_data"
    }
   ],
   "source": [
    "df['On Antithyroid Medication'].value_counts(normalize=True).plot(kind='pie')"
   ]
  },
  {
   "cell_type": "markdown",
   "metadata": {},
   "source": [
    "Let's see if there are missing values for age in this dataset."
   ]
  },
  {
   "cell_type": "code",
   "execution_count": 17,
   "metadata": {},
   "outputs": [
    {
     "name": "stderr",
     "output_type": "stream",
     "text": [
      "C:\\Users\\vkuskova\\AppData\\Local\\Temp\\ipykernel_5592\\4277240279.py:1: FutureWarning: pandas.value_counts is deprecated and will be removed in a future version. Use pd.Series(obj).value_counts() instead.\n",
      "  pd.value_counts(df['Age'].isnull())\n"
     ]
    },
    {
     "data": {
      "text/plain": [
       "Age\n",
       "False    2717\n",
       "True      446\n",
       "Name: count, dtype: int64"
      ]
     },
     "execution_count": 17,
     "metadata": {},
     "output_type": "execute_result"
    }
   ],
   "source": [
    "pd.value_counts(df['Age'].isnull())"
   ]
  },
  {
   "cell_type": "markdown",
   "metadata": {},
   "source": [
    "<span style=\"color:red\">An addition to the original Notebook.</span>\n",
    "### Another way to do the same (or avoid the error above)"
   ]
  },
  {
   "cell_type": "code",
   "execution_count": 19,
   "metadata": {},
   "outputs": [
    {
     "name": "stdout",
     "output_type": "stream",
     "text": [
      "Number of missing values in 'age' column: 446\n"
     ]
    }
   ],
   "source": [
    "missing_values = df['Age'].isnull().sum()\n",
    "print(f\"Number of missing values in 'age' column: {missing_values}\")"
   ]
  },
  {
   "cell_type": "markdown",
   "metadata": {},
   "source": [
    "What if we wanted to fill or drop the missing values? We can use `fillna` and `dropna`"
   ]
  },
  {
   "cell_type": "code",
   "execution_count": 21,
   "metadata": {},
   "outputs": [],
   "source": [
    "df['Age'] = df['Age'].fillna(-1)"
   ]
  },
  {
   "cell_type": "code",
   "execution_count": 23,
   "metadata": {},
   "outputs": [
    {
     "name": "stderr",
     "output_type": "stream",
     "text": [
      "C:\\Users\\vkuskova\\AppData\\Local\\Temp\\ipykernel_5592\\4277240279.py:1: FutureWarning: pandas.value_counts is deprecated and will be removed in a future version. Use pd.Series(obj).value_counts() instead.\n",
      "  pd.value_counts(df['Age'].isnull())\n"
     ]
    },
    {
     "data": {
      "text/plain": [
       "Age\n",
       "False    3163\n",
       "Name: count, dtype: int64"
      ]
     },
     "execution_count": 23,
     "metadata": {},
     "output_type": "execute_result"
    }
   ],
   "source": [
    "pd.value_counts(df['Age'].isnull())"
   ]
  },
  {
   "cell_type": "markdown",
   "metadata": {},
   "source": [
    "<span style=\"color:red\">An addition to the original Notebook.</span>\n",
    "## Additional plots of data\n",
    "\n",
    "Let's see what other plots we can create on our **Hypothyroid** dataset.\n",
    "\n",
    "### Plots Included\n",
    "- Violin Plot of Age by Sex\n",
    "- Line Plot of T3 Levels by Age\n",
    "- Scatter Plot of TSH Levels by Age\n",
    "- Box Plot of TT4 Levels by Sex"
   ]
  },
  {
   "cell_type": "code",
   "execution_count": 35,
   "metadata": {},
   "outputs": [
    {
     "data": {
      "image/png": "[encoded data removed]",
      "text/plain": [
       "<Figure size 1200x600 with 1 Axes>"
      ]
     },
     "metadata": {},
     "output_type": "display_data"
    }
   ],
   "source": [
    "#Violin plot\n",
    "plt.figure(figsize=(12, 6))\n",
    "sns.violinplot(data=df, x='Sex', y='Age')\n",
    "plt.title('Violin Plot of Age by Sex')\n",
    "plt.xlabel('Sex')\n",
    "plt.ylabel('Age')\n",
    "plt.show()"
   ]
  },
  {
   "cell_type": "code",
   "execution_count": 49,
   "metadata": {},
   "outputs": [
    {
     "name": "stderr",
     "output_type": "stream",
     "text": [
      "C:\\Users\\vkuskova\\AppData\\Local\\anaconda3\\Lib\\site-packages\\seaborn\\_oldcore.py:1119: FutureWarning: use_inf_as_na option is deprecated and will be removed in a future version. Convert inf values to NaN before operating instead.\n",
      "  with pd.option_context('mode.use_inf_as_na', True):\n",
      "C:\\Users\\vkuskova\\AppData\\Local\\anaconda3\\Lib\\site-packages\\seaborn\\_oldcore.py:1119: FutureWarning: use_inf_as_na option is deprecated and will be removed in a future version. Convert inf values to NaN before operating instead.\n",
      "  with pd.option_context('mode.use_inf_as_na', True):\n"
     ]
    },
    {
     "data": {
      "image/png": "[encoded data removed]",
      "text/plain": [
       "<Figure size 1200x600 with 1 Axes>"
      ]
     },
     "metadata": {},
     "output_type": "display_data"
    }
   ],
   "source": [
    "# Line Plot\n",
    "plt.figure(figsize=(12, 6))\n",
    "sns.lineplot(data=df, x='Age', y='T3')\n",
    "plt.title('Line Plot of T3 Levels by Age')\n",
    "plt.xlabel('Age')\n",
    "plt.ylabel('T3 Level')\n",
    "plt.show()"
   ]
  },
  {
   "cell_type": "markdown",
   "metadata": {},
   "source": [
    "The code above generated an error. *Deprecated* code is quite common, so we can address the issue by making the fix that Python is asking for:"
   ]
  },
  {
   "cell_type": "code",
   "execution_count": 75,
   "metadata": {},
   "outputs": [],
   "source": [
    "import numpy as np\n",
    "import warnings\n",
    "df.replace([np.inf, -np.inf], np.nan, inplace=True)\n",
    "#warnings.filterwarnings('ignore', category=FutureWarning, message=\"use_inf_as_na option is deprecated\")"
   ]
  },
  {
   "cell_type": "markdown",
   "metadata": {},
   "source": [
    "Let's try to run the code again:"
   ]
  },
  {
   "cell_type": "code",
   "execution_count": 37,
   "metadata": {
    "scrolled": true
   },
   "outputs": [
    {
     "name": "stderr",
     "output_type": "stream",
     "text": [
      "C:\\Users\\vkuskova\\AppData\\Local\\anaconda3\\Lib\\site-packages\\seaborn\\_oldcore.py:1119: FutureWarning: use_inf_as_na option is deprecated and will be removed in a future version. Convert inf values to NaN before operating instead.\n",
      "  with pd.option_context('mode.use_inf_as_na', True):\n",
      "C:\\Users\\vkuskova\\AppData\\Local\\anaconda3\\Lib\\site-packages\\seaborn\\_oldcore.py:1119: FutureWarning: use_inf_as_na option is deprecated and will be removed in a future version. Convert inf values to NaN before operating instead.\n",
      "  with pd.option_context('mode.use_inf_as_na', True):\n"
     ]
    },
    {
     "data": {
      "image/png": "[encoded data removed]",
      "text/plain": [
       "<Figure size 1200x600 with 1 Axes>"
      ]
     },
     "metadata": {},
     "output_type": "display_data"
    }
   ],
   "source": [
    "# Line Plot\n",
    "plt.figure(figsize=(12, 6))\n",
    "sns.lineplot(data=df, x='Age', y='T3')\n",
    "plt.title('Line Plot of T3 Levels by Age')\n",
    "plt.xlabel('Age')\n",
    "plt.ylabel('T3 Level')\n",
    "plt.show()"
   ]
  },
  {
   "cell_type": "code",
   "execution_count": 43,
   "metadata": {},
   "outputs": [
    {
     "data": {
      "image/png": "[encoded data removed]",
      "text/plain": [
       "<Figure size 1200x600 with 1 Axes>"
      ]
     },
     "metadata": {},
     "output_type": "display_data"
    }
   ],
   "source": [
    "# Scatter Plot\n",
    "plt.figure(figsize=(12, 6))\n",
    "sns.scatterplot(data=df, x='Age', y='T3')\n",
    "plt.title('Scatter Plot of T3 Levels by Age')\n",
    "plt.xlabel('Age')\n",
    "plt.ylabel('TSH Level')\n",
    "plt.show()"
   ]
  },
  {
   "cell_type": "code",
   "execution_count": 83,
   "metadata": {},
   "outputs": [
    {
     "data": {
      "image/png": "[encoded data removed]",
      "text/plain": [
       "<Figure size 1200x600 with 1 Axes>"
      ]
     },
     "metadata": {},
     "output_type": "display_data"
    }
   ],
   "source": [
    "# Box Plot\n",
    "plt.figure(figsize=(12, 6))\n",
    "sns.boxplot(data=df, x='Sex', y='TT4')\n",
    "plt.title('Box Plot of TT4 Levels by Sex')\n",
    "plt.xlabel('Sex')\n",
    "plt.ylabel('TT4 Level')\n",
    "plt.show()"
   ]
  },
  {
   "cell_type": "markdown",
   "metadata": {},
   "source": [
    "## Selecting and Subsetting Data\n",
    "\n",
    "Let's say we just wanted to work with the cases where the individual's age is unrecorded. We can subset using conditional logic."
   ]
  },
  {
   "cell_type": "code",
   "execution_count": 71,
   "metadata": {},
   "outputs": [
    {
     "data": {
      "text/html": [
       "<div>\n",
       "<style scoped>\n",
       "    .dataframe tbody tr th:only-of-type {\n",
       "        vertical-align: middle;\n",
       "    }\n",
       "\n",
       "    .dataframe tbody tr th {\n",
       "        vertical-align: top;\n",
       "    }\n",
       "\n",
       "    .dataframe thead th {\n",
       "        text-align: right;\n",
       "    }\n",
       "</style>\n",
       "<table border=\"1\" class=\"dataframe\">\n",
       "  <thead>\n",
       "    <tr style=\"text-align: right;\">\n",
       "      <th></th>\n",
       "      <th>Age</th>\n",
       "      <th>Sex</th>\n",
       "      <th>On Thyroxine</th>\n",
       "      <th>Query on Thyroxine</th>\n",
       "      <th>On Antithyroid Medication</th>\n",
       "      <th>Thyroid Surgery</th>\n",
       "      <th>Query Hypothyroid</th>\n",
       "      <th>Query Hyperthyroid</th>\n",
       "      <th>Pregnant</th>\n",
       "      <th>Sick</th>\n",
       "      <th>...</th>\n",
       "      <th>T3</th>\n",
       "      <th>TT4 Measured</th>\n",
       "      <th>TT4</th>\n",
       "      <th>T4U Measured</th>\n",
       "      <th>T4U</th>\n",
       "      <th>FTI Measured</th>\n",
       "      <th>FTI</th>\n",
       "      <th>TBG Measured</th>\n",
       "      <th>TBG</th>\n",
       "      <th>Class</th>\n",
       "    </tr>\n",
       "  </thead>\n",
       "  <tbody>\n",
       "    <tr>\n",
       "      <th>26</th>\n",
       "      <td>-1.0</td>\n",
       "      <td>M</td>\n",
       "      <td>f</td>\n",
       "      <td>f</td>\n",
       "      <td>f</td>\n",
       "      <td>t</td>\n",
       "      <td>f</td>\n",
       "      <td>f</td>\n",
       "      <td>f</td>\n",
       "      <td>f</td>\n",
       "      <td>...</td>\n",
       "      <td>1.0</td>\n",
       "      <td>y</td>\n",
       "      <td>32.0</td>\n",
       "      <td>y</td>\n",
       "      <td>0.78</td>\n",
       "      <td>y</td>\n",
       "      <td>41.0</td>\n",
       "      <td>n</td>\n",
       "      <td>NaN</td>\n",
       "      <td>hypothyroid</td>\n",
       "    </tr>\n",
       "    <tr>\n",
       "      <th>44</th>\n",
       "      <td>-1.0</td>\n",
       "      <td>F</td>\n",
       "      <td>f</td>\n",
       "      <td>f</td>\n",
       "      <td>f</td>\n",
       "      <td>f</td>\n",
       "      <td>f</td>\n",
       "      <td>f</td>\n",
       "      <td>f</td>\n",
       "      <td>f</td>\n",
       "      <td>...</td>\n",
       "      <td>1.4</td>\n",
       "      <td>y</td>\n",
       "      <td>78.0</td>\n",
       "      <td>y</td>\n",
       "      <td>0.98</td>\n",
       "      <td>y</td>\n",
       "      <td>80.0</td>\n",
       "      <td>n</td>\n",
       "      <td>NaN</td>\n",
       "      <td>hypothyroid</td>\n",
       "    </tr>\n",
       "    <tr>\n",
       "      <th>50</th>\n",
       "      <td>-1.0</td>\n",
       "      <td>F</td>\n",
       "      <td>f</td>\n",
       "      <td>f</td>\n",
       "      <td>f</td>\n",
       "      <td>f</td>\n",
       "      <td>f</td>\n",
       "      <td>f</td>\n",
       "      <td>f</td>\n",
       "      <td>f</td>\n",
       "      <td>...</td>\n",
       "      <td>0.4</td>\n",
       "      <td>y</td>\n",
       "      <td>9.7</td>\n",
       "      <td>y</td>\n",
       "      <td>1.46</td>\n",
       "      <td>y</td>\n",
       "      <td>6.6</td>\n",
       "      <td>n</td>\n",
       "      <td>NaN</td>\n",
       "      <td>hypothyroid</td>\n",
       "    </tr>\n",
       "    <tr>\n",
       "      <th>59</th>\n",
       "      <td>-1.0</td>\n",
       "      <td>NaN</td>\n",
       "      <td>f</td>\n",
       "      <td>f</td>\n",
       "      <td>f</td>\n",
       "      <td>f</td>\n",
       "      <td>f</td>\n",
       "      <td>f</td>\n",
       "      <td>f</td>\n",
       "      <td>f</td>\n",
       "      <td>...</td>\n",
       "      <td>0.6</td>\n",
       "      <td>y</td>\n",
       "      <td>21.0</td>\n",
       "      <td>y</td>\n",
       "      <td>0.97</td>\n",
       "      <td>y</td>\n",
       "      <td>22.0</td>\n",
       "      <td>n</td>\n",
       "      <td>NaN</td>\n",
       "      <td>hypothyroid</td>\n",
       "    </tr>\n",
       "    <tr>\n",
       "      <th>61</th>\n",
       "      <td>-1.0</td>\n",
       "      <td>F</td>\n",
       "      <td>f</td>\n",
       "      <td>f</td>\n",
       "      <td>f</td>\n",
       "      <td>f</td>\n",
       "      <td>f</td>\n",
       "      <td>f</td>\n",
       "      <td>f</td>\n",
       "      <td>f</td>\n",
       "      <td>...</td>\n",
       "      <td>0.3</td>\n",
       "      <td>y</td>\n",
       "      <td>18.0</td>\n",
       "      <td>y</td>\n",
       "      <td>1.06</td>\n",
       "      <td>y</td>\n",
       "      <td>17.0</td>\n",
       "      <td>n</td>\n",
       "      <td>NaN</td>\n",
       "      <td>hypothyroid</td>\n",
       "    </tr>\n",
       "    <tr>\n",
       "      <th>...</th>\n",
       "      <td>...</td>\n",
       "      <td>...</td>\n",
       "      <td>...</td>\n",
       "      <td>...</td>\n",
       "      <td>...</td>\n",
       "      <td>...</td>\n",
       "      <td>...</td>\n",
       "      <td>...</td>\n",
       "      <td>...</td>\n",
       "      <td>...</td>\n",
       "      <td>...</td>\n",
       "      <td>...</td>\n",
       "      <td>...</td>\n",
       "      <td>...</td>\n",
       "      <td>...</td>\n",
       "      <td>...</td>\n",
       "      <td>...</td>\n",
       "      <td>...</td>\n",
       "      <td>...</td>\n",
       "      <td>...</td>\n",
       "      <td>...</td>\n",
       "    </tr>\n",
       "    <tr>\n",
       "      <th>3134</th>\n",
       "      <td>-1.0</td>\n",
       "      <td>M</td>\n",
       "      <td>f</td>\n",
       "      <td>f</td>\n",
       "      <td>f</td>\n",
       "      <td>f</td>\n",
       "      <td>f</td>\n",
       "      <td>f</td>\n",
       "      <td>f</td>\n",
       "      <td>f</td>\n",
       "      <td>...</td>\n",
       "      <td>2.4</td>\n",
       "      <td>y</td>\n",
       "      <td>109.0</td>\n",
       "      <td>y</td>\n",
       "      <td>1.12</td>\n",
       "      <td>y</td>\n",
       "      <td>97.0</td>\n",
       "      <td>n</td>\n",
       "      <td>NaN</td>\n",
       "      <td>negative</td>\n",
       "    </tr>\n",
       "    <tr>\n",
       "      <th>3143</th>\n",
       "      <td>-1.0</td>\n",
       "      <td>F</td>\n",
       "      <td>f</td>\n",
       "      <td>f</td>\n",
       "      <td>f</td>\n",
       "      <td>f</td>\n",
       "      <td>f</td>\n",
       "      <td>f</td>\n",
       "      <td>f</td>\n",
       "      <td>f</td>\n",
       "      <td>...</td>\n",
       "      <td>1.0</td>\n",
       "      <td>y</td>\n",
       "      <td>58.0</td>\n",
       "      <td>y</td>\n",
       "      <td>0.87</td>\n",
       "      <td>y</td>\n",
       "      <td>67.0</td>\n",
       "      <td>n</td>\n",
       "      <td>NaN</td>\n",
       "      <td>negative</td>\n",
       "    </tr>\n",
       "    <tr>\n",
       "      <th>3146</th>\n",
       "      <td>-1.0</td>\n",
       "      <td>F</td>\n",
       "      <td>f</td>\n",
       "      <td>f</td>\n",
       "      <td>f</td>\n",
       "      <td>f</td>\n",
       "      <td>f</td>\n",
       "      <td>t</td>\n",
       "      <td>f</td>\n",
       "      <td>f</td>\n",
       "      <td>...</td>\n",
       "      <td>1.8</td>\n",
       "      <td>y</td>\n",
       "      <td>61.0</td>\n",
       "      <td>y</td>\n",
       "      <td>0.82</td>\n",
       "      <td>y</td>\n",
       "      <td>74.0</td>\n",
       "      <td>n</td>\n",
       "      <td>NaN</td>\n",
       "      <td>negative</td>\n",
       "    </tr>\n",
       "    <tr>\n",
       "      <th>3149</th>\n",
       "      <td>-1.0</td>\n",
       "      <td>NaN</td>\n",
       "      <td>f</td>\n",
       "      <td>f</td>\n",
       "      <td>f</td>\n",
       "      <td>f</td>\n",
       "      <td>f</td>\n",
       "      <td>f</td>\n",
       "      <td>f</td>\n",
       "      <td>f</td>\n",
       "      <td>...</td>\n",
       "      <td>2.0</td>\n",
       "      <td>y</td>\n",
       "      <td>118.0</td>\n",
       "      <td>y</td>\n",
       "      <td>1.04</td>\n",
       "      <td>y</td>\n",
       "      <td>113.0</td>\n",
       "      <td>n</td>\n",
       "      <td>NaN</td>\n",
       "      <td>negative</td>\n",
       "    </tr>\n",
       "    <tr>\n",
       "      <th>3155</th>\n",
       "      <td>-1.0</td>\n",
       "      <td>F</td>\n",
       "      <td>f</td>\n",
       "      <td>f</td>\n",
       "      <td>f</td>\n",
       "      <td>f</td>\n",
       "      <td>f</td>\n",
       "      <td>f</td>\n",
       "      <td>f</td>\n",
       "      <td>f</td>\n",
       "      <td>...</td>\n",
       "      <td>2.4</td>\n",
       "      <td>y</td>\n",
       "      <td>123.0</td>\n",
       "      <td>y</td>\n",
       "      <td>0.99</td>\n",
       "      <td>y</td>\n",
       "      <td>124.0</td>\n",
       "      <td>n</td>\n",
       "      <td>NaN</td>\n",
       "      <td>negative</td>\n",
       "    </tr>\n",
       "  </tbody>\n",
       "</table>\n",
       "<p>446 rows × 26 columns</p>\n",
       "</div>"
      ],
      "text/plain": [
       "      Age  Sex On Thyroxine Query on Thyroxine On Antithyroid Medication  \\\n",
       "26   -1.0    M            f                  f                         f   \n",
       "44   -1.0    F            f                  f                         f   \n",
       "50   -1.0    F            f                  f                         f   \n",
       "59   -1.0  NaN            f                  f                         f   \n",
       "61   -1.0    F            f                  f                         f   \n",
       "...   ...  ...          ...                ...                       ...   \n",
       "3134 -1.0    M            f                  f                         f   \n",
       "3143 -1.0    F            f                  f                         f   \n",
       "3146 -1.0    F            f                  f                         f   \n",
       "3149 -1.0  NaN            f                  f                         f   \n",
       "3155 -1.0    F            f                  f                         f   \n",
       "\n",
       "     Thyroid Surgery Query Hypothyroid Query Hyperthyroid Pregnant Sick  ...  \\\n",
       "26                 t                 f                  f        f    f  ...   \n",
       "44                 f                 f                  f        f    f  ...   \n",
       "50                 f                 f                  f        f    f  ...   \n",
       "59                 f                 f                  f        f    f  ...   \n",
       "61                 f                 f                  f        f    f  ...   \n",
       "...              ...               ...                ...      ...  ...  ...   \n",
       "3134               f                 f                  f        f    f  ...   \n",
       "3143               f                 f                  f        f    f  ...   \n",
       "3146               f                 f                  t        f    f  ...   \n",
       "3149               f                 f                  f        f    f  ...   \n",
       "3155               f                 f                  f        f    f  ...   \n",
       "\n",
       "       T3 TT4 Measured    TT4 T4U Measured   T4U FTI Measured    FTI  \\\n",
       "26    1.0            y   32.0            y  0.78            y   41.0   \n",
       "44    1.4            y   78.0            y  0.98            y   80.0   \n",
       "50    0.4            y    9.7            y  1.46            y    6.6   \n",
       "59    0.6            y   21.0            y  0.97            y   22.0   \n",
       "61    0.3            y   18.0            y  1.06            y   17.0   \n",
       "...   ...          ...    ...          ...   ...          ...    ...   \n",
       "3134  2.4            y  109.0            y  1.12            y   97.0   \n",
       "3143  1.0            y   58.0            y  0.87            y   67.0   \n",
       "3146  1.8            y   61.0            y  0.82            y   74.0   \n",
       "3149  2.0            y  118.0            y  1.04            y  113.0   \n",
       "3155  2.4            y  123.0            y  0.99            y  124.0   \n",
       "\n",
       "     TBG Measured  TBG        Class  \n",
       "26              n  NaN  hypothyroid  \n",
       "44              n  NaN  hypothyroid  \n",
       "50              n  NaN  hypothyroid  \n",
       "59              n  NaN  hypothyroid  \n",
       "61              n  NaN  hypothyroid  \n",
       "...           ...  ...          ...  \n",
       "3134            n  NaN     negative  \n",
       "3143            n  NaN     negative  \n",
       "3146            n  NaN     negative  \n",
       "3149            n  NaN     negative  \n",
       "3155            n  NaN     negative  \n",
       "\n",
       "[446 rows x 26 columns]"
      ]
     },
     "execution_count": 71,
     "metadata": {},
     "output_type": "execute_result"
    }
   ],
   "source": [
    "df[df['Age'] == -1]"
   ]
  },
  {
   "cell_type": "markdown",
   "metadata": {},
   "source": [
    "You can retrieve parts, or slices, of a series or dataframe by range using the [] operator - just like in Python lists."
   ]
  },
  {
   "cell_type": "code",
   "execution_count": 73,
   "metadata": {},
   "outputs": [
    {
     "data": {
      "text/html": [
       "<div>\n",
       "<style scoped>\n",
       "    .dataframe tbody tr th:only-of-type {\n",
       "        vertical-align: middle;\n",
       "    }\n",
       "\n",
       "    .dataframe tbody tr th {\n",
       "        vertical-align: top;\n",
       "    }\n",
       "\n",
       "    .dataframe thead th {\n",
       "        text-align: right;\n",
       "    }\n",
       "</style>\n",
       "<table border=\"1\" class=\"dataframe\">\n",
       "  <thead>\n",
       "    <tr style=\"text-align: right;\">\n",
       "      <th></th>\n",
       "      <th>Age</th>\n",
       "      <th>Sex</th>\n",
       "      <th>On Thyroxine</th>\n",
       "      <th>Query on Thyroxine</th>\n",
       "      <th>On Antithyroid Medication</th>\n",
       "      <th>Thyroid Surgery</th>\n",
       "      <th>Query Hypothyroid</th>\n",
       "      <th>Query Hyperthyroid</th>\n",
       "      <th>Pregnant</th>\n",
       "      <th>Sick</th>\n",
       "      <th>...</th>\n",
       "      <th>T3</th>\n",
       "      <th>TT4 Measured</th>\n",
       "      <th>TT4</th>\n",
       "      <th>T4U Measured</th>\n",
       "      <th>T4U</th>\n",
       "      <th>FTI Measured</th>\n",
       "      <th>FTI</th>\n",
       "      <th>TBG Measured</th>\n",
       "      <th>TBG</th>\n",
       "      <th>Class</th>\n",
       "    </tr>\n",
       "  </thead>\n",
       "  <tbody>\n",
       "    <tr>\n",
       "      <th>3</th>\n",
       "      <td>24.0</td>\n",
       "      <td>F</td>\n",
       "      <td>f</td>\n",
       "      <td>f</td>\n",
       "      <td>f</td>\n",
       "      <td>f</td>\n",
       "      <td>f</td>\n",
       "      <td>f</td>\n",
       "      <td>f</td>\n",
       "      <td>f</td>\n",
       "      <td>...</td>\n",
       "      <td>0.4</td>\n",
       "      <td>y</td>\n",
       "      <td>6.0</td>\n",
       "      <td>y</td>\n",
       "      <td>1.04</td>\n",
       "      <td>y</td>\n",
       "      <td>6.0</td>\n",
       "      <td>n</td>\n",
       "      <td>NaN</td>\n",
       "      <td>hypothyroid</td>\n",
       "    </tr>\n",
       "    <tr>\n",
       "      <th>4</th>\n",
       "      <td>77.0</td>\n",
       "      <td>M</td>\n",
       "      <td>f</td>\n",
       "      <td>f</td>\n",
       "      <td>f</td>\n",
       "      <td>f</td>\n",
       "      <td>f</td>\n",
       "      <td>f</td>\n",
       "      <td>f</td>\n",
       "      <td>f</td>\n",
       "      <td>...</td>\n",
       "      <td>1.2</td>\n",
       "      <td>y</td>\n",
       "      <td>57.0</td>\n",
       "      <td>y</td>\n",
       "      <td>1.28</td>\n",
       "      <td>y</td>\n",
       "      <td>44.0</td>\n",
       "      <td>n</td>\n",
       "      <td>NaN</td>\n",
       "      <td>hypothyroid</td>\n",
       "    </tr>\n",
       "    <tr>\n",
       "      <th>5</th>\n",
       "      <td>85.0</td>\n",
       "      <td>F</td>\n",
       "      <td>f</td>\n",
       "      <td>f</td>\n",
       "      <td>f</td>\n",
       "      <td>f</td>\n",
       "      <td>t</td>\n",
       "      <td>f</td>\n",
       "      <td>f</td>\n",
       "      <td>f</td>\n",
       "      <td>...</td>\n",
       "      <td>1.1</td>\n",
       "      <td>y</td>\n",
       "      <td>27.0</td>\n",
       "      <td>y</td>\n",
       "      <td>1.19</td>\n",
       "      <td>y</td>\n",
       "      <td>23.0</td>\n",
       "      <td>n</td>\n",
       "      <td>NaN</td>\n",
       "      <td>hypothyroid</td>\n",
       "    </tr>\n",
       "  </tbody>\n",
       "</table>\n",
       "<p>3 rows × 26 columns</p>\n",
       "</div>"
      ],
      "text/plain": [
       "    Age Sex On Thyroxine Query on Thyroxine On Antithyroid Medication  \\\n",
       "3  24.0   F            f                  f                         f   \n",
       "4  77.0   M            f                  f                         f   \n",
       "5  85.0   F            f                  f                         f   \n",
       "\n",
       "  Thyroid Surgery Query Hypothyroid Query Hyperthyroid Pregnant Sick  ...  \\\n",
       "3               f                 f                  f        f    f  ...   \n",
       "4               f                 f                  f        f    f  ...   \n",
       "5               f                 t                  f        f    f  ...   \n",
       "\n",
       "    T3 TT4 Measured   TT4 T4U Measured   T4U FTI Measured   FTI TBG Measured  \\\n",
       "3  0.4            y   6.0            y  1.04            y   6.0            n   \n",
       "4  1.2            y  57.0            y  1.28            y  44.0            n   \n",
       "5  1.1            y  27.0            y  1.19            y  23.0            n   \n",
       "\n",
       "   TBG        Class  \n",
       "3  NaN  hypothyroid  \n",
       "4  NaN  hypothyroid  \n",
       "5  NaN  hypothyroid  \n",
       "\n",
       "[3 rows x 26 columns]"
      ]
     },
     "execution_count": 73,
     "metadata": {},
     "output_type": "execute_result"
    }
   ],
   "source": [
    "df[3:6]\n",
    "# equivalent to df.iloc[3:6]"
   ]
  },
  {
   "cell_type": "markdown",
   "metadata": {},
   "source": [
    "You can also use `loc` to slice both rows and columns by text labels, or `iloc` to slice by integer positions. For example:"
   ]
  },
  {
   "cell_type": "code",
   "execution_count": 77,
   "metadata": {},
   "outputs": [
    {
     "data": {
      "text/html": [
       "<div>\n",
       "<style scoped>\n",
       "    .dataframe tbody tr th:only-of-type {\n",
       "        vertical-align: middle;\n",
       "    }\n",
       "\n",
       "    .dataframe tbody tr th {\n",
       "        vertical-align: top;\n",
       "    }\n",
       "\n",
       "    .dataframe thead th {\n",
       "        text-align: right;\n",
       "    }\n",
       "</style>\n",
       "<table border=\"1\" class=\"dataframe\">\n",
       "  <thead>\n",
       "    <tr style=\"text-align: right;\">\n",
       "      <th></th>\n",
       "      <th>Age</th>\n",
       "      <th>Sex</th>\n",
       "      <th>On Thyroxine</th>\n",
       "      <th>Query on Thyroxine</th>\n",
       "      <th>On Antithyroid Medication</th>\n",
       "      <th>Thyroid Surgery</th>\n",
       "      <th>Query Hypothyroid</th>\n",
       "      <th>Query Hyperthyroid</th>\n",
       "      <th>Pregnant</th>\n",
       "      <th>Sick</th>\n",
       "      <th>...</th>\n",
       "      <th>T3</th>\n",
       "      <th>TT4 Measured</th>\n",
       "      <th>TT4</th>\n",
       "      <th>T4U Measured</th>\n",
       "      <th>T4U</th>\n",
       "      <th>FTI Measured</th>\n",
       "      <th>FTI</th>\n",
       "      <th>TBG Measured</th>\n",
       "      <th>TBG</th>\n",
       "      <th>Class</th>\n",
       "    </tr>\n",
       "  </thead>\n",
       "  <tbody>\n",
       "    <tr>\n",
       "      <th>3</th>\n",
       "      <td>24.0</td>\n",
       "      <td>F</td>\n",
       "      <td>f</td>\n",
       "      <td>f</td>\n",
       "      <td>f</td>\n",
       "      <td>f</td>\n",
       "      <td>f</td>\n",
       "      <td>f</td>\n",
       "      <td>f</td>\n",
       "      <td>f</td>\n",
       "      <td>...</td>\n",
       "      <td>0.4</td>\n",
       "      <td>y</td>\n",
       "      <td>6.0</td>\n",
       "      <td>y</td>\n",
       "      <td>1.04</td>\n",
       "      <td>y</td>\n",
       "      <td>6.0</td>\n",
       "      <td>n</td>\n",
       "      <td>NaN</td>\n",
       "      <td>hypothyroid</td>\n",
       "    </tr>\n",
       "    <tr>\n",
       "      <th>4</th>\n",
       "      <td>77.0</td>\n",
       "      <td>M</td>\n",
       "      <td>f</td>\n",
       "      <td>f</td>\n",
       "      <td>f</td>\n",
       "      <td>f</td>\n",
       "      <td>f</td>\n",
       "      <td>f</td>\n",
       "      <td>f</td>\n",
       "      <td>f</td>\n",
       "      <td>...</td>\n",
       "      <td>1.2</td>\n",
       "      <td>y</td>\n",
       "      <td>57.0</td>\n",
       "      <td>y</td>\n",
       "      <td>1.28</td>\n",
       "      <td>y</td>\n",
       "      <td>44.0</td>\n",
       "      <td>n</td>\n",
       "      <td>NaN</td>\n",
       "      <td>hypothyroid</td>\n",
       "    </tr>\n",
       "    <tr>\n",
       "      <th>5</th>\n",
       "      <td>85.0</td>\n",
       "      <td>F</td>\n",
       "      <td>f</td>\n",
       "      <td>f</td>\n",
       "      <td>f</td>\n",
       "      <td>f</td>\n",
       "      <td>t</td>\n",
       "      <td>f</td>\n",
       "      <td>f</td>\n",
       "      <td>f</td>\n",
       "      <td>...</td>\n",
       "      <td>1.1</td>\n",
       "      <td>y</td>\n",
       "      <td>27.0</td>\n",
       "      <td>y</td>\n",
       "      <td>1.19</td>\n",
       "      <td>y</td>\n",
       "      <td>23.0</td>\n",
       "      <td>n</td>\n",
       "      <td>NaN</td>\n",
       "      <td>hypothyroid</td>\n",
       "    </tr>\n",
       "    <tr>\n",
       "      <th>6</th>\n",
       "      <td>64.0</td>\n",
       "      <td>F</td>\n",
       "      <td>f</td>\n",
       "      <td>f</td>\n",
       "      <td>f</td>\n",
       "      <td>t</td>\n",
       "      <td>f</td>\n",
       "      <td>f</td>\n",
       "      <td>f</td>\n",
       "      <td>f</td>\n",
       "      <td>...</td>\n",
       "      <td>1.3</td>\n",
       "      <td>y</td>\n",
       "      <td>54.0</td>\n",
       "      <td>y</td>\n",
       "      <td>0.86</td>\n",
       "      <td>y</td>\n",
       "      <td>63.0</td>\n",
       "      <td>n</td>\n",
       "      <td>NaN</td>\n",
       "      <td>hypothyroid</td>\n",
       "    </tr>\n",
       "  </tbody>\n",
       "</table>\n",
       "<p>4 rows × 26 columns</p>\n",
       "</div>"
      ],
      "text/plain": [
       "    Age Sex On Thyroxine Query on Thyroxine On Antithyroid Medication  \\\n",
       "3  24.0   F            f                  f                         f   \n",
       "4  77.0   M            f                  f                         f   \n",
       "5  85.0   F            f                  f                         f   \n",
       "6  64.0   F            f                  f                         f   \n",
       "\n",
       "  Thyroid Surgery Query Hypothyroid Query Hyperthyroid Pregnant Sick  ...  \\\n",
       "3               f                 f                  f        f    f  ...   \n",
       "4               f                 f                  f        f    f  ...   \n",
       "5               f                 t                  f        f    f  ...   \n",
       "6               t                 f                  f        f    f  ...   \n",
       "\n",
       "    T3 TT4 Measured   TT4 T4U Measured   T4U FTI Measured   FTI TBG Measured  \\\n",
       "3  0.4            y   6.0            y  1.04            y   6.0            n   \n",
       "4  1.2            y  57.0            y  1.28            y  44.0            n   \n",
       "5  1.1            y  27.0            y  1.19            y  23.0            n   \n",
       "6  1.3            y  54.0            y  0.86            y  63.0            n   \n",
       "\n",
       "   TBG        Class  \n",
       "3  NaN  hypothyroid  \n",
       "4  NaN  hypothyroid  \n",
       "5  NaN  hypothyroid  \n",
       "6  NaN  hypothyroid  \n",
       "\n",
       "[4 rows x 26 columns]"
      ]
     },
     "execution_count": 77,
     "metadata": {},
     "output_type": "execute_result"
    }
   ],
   "source": [
    "df.loc[3:6] # print all columns"
   ]
  },
  {
   "cell_type": "code",
   "execution_count": 47,
   "metadata": {},
   "outputs": [
    {
     "data": {
      "text/plain": [
       "3    24.0\n",
       "4    77.0\n",
       "5    85.0\n",
       "6    64.0\n",
       "Name: Age, dtype: float64"
      ]
     },
     "execution_count": 47,
     "metadata": {},
     "output_type": "execute_result"
    }
   ],
   "source": [
    "df.loc[3:6, 'Age'] # print a slice of one column"
   ]
  },
  {
   "cell_type": "code",
   "execution_count": 81,
   "metadata": {},
   "outputs": [
    {
     "data": {
      "text/plain": [
       "3    24.0\n",
       "4    77.0\n",
       "5    85.0\n",
       "Name: Age, dtype: float64"
      ]
     },
     "execution_count": 81,
     "metadata": {},
     "output_type": "execute_result"
    }
   ],
   "source": [
    "df.iloc[3:6, 0] # print a slice of column 0 (Age)"
   ]
  },
  {
   "cell_type": "markdown",
   "metadata": {},
   "source": [
    "## Exporting data\n",
    "\n",
    "Pandas supports saving DataFrames to a variety of file formats using the `to_*` function. Let's save our updated data as a csv."
   ]
  },
  {
   "cell_type": "code",
   "execution_count": 83,
   "metadata": {},
   "outputs": [],
   "source": [
    "df.to_csv(\"hypothyroid_1.csv\")"
   ]
  },
  {
   "cell_type": "markdown",
   "metadata": {},
   "source": [
    "## Groupby\n",
    "\n",
    "Often we want to examine difference among groups based on categorical values. For this `groupby` is incredibly valuable"
   ]
  },
  {
   "cell_type": "code",
   "execution_count": 115,
   "metadata": {},
   "outputs": [
    {
     "data": {
      "text/html": [
       "<div>\n",
       "<style scoped>\n",
       "    .dataframe tbody tr th:only-of-type {\n",
       "        vertical-align: middle;\n",
       "    }\n",
       "\n",
       "    .dataframe tbody tr th {\n",
       "        vertical-align: top;\n",
       "    }\n",
       "\n",
       "    .dataframe thead th {\n",
       "        text-align: right;\n",
       "    }\n",
       "</style>\n",
       "<table border=\"1\" class=\"dataframe\">\n",
       "  <thead>\n",
       "    <tr style=\"text-align: right;\">\n",
       "      <th></th>\n",
       "      <th>Age</th>\n",
       "      <th>On Thyroxine</th>\n",
       "      <th>Query on Thyroxine</th>\n",
       "      <th>On Antithyroid Medication</th>\n",
       "      <th>Thyroid Surgery</th>\n",
       "      <th>Query Hypothyroid</th>\n",
       "      <th>Query Hyperthyroid</th>\n",
       "      <th>Pregnant</th>\n",
       "      <th>Sick</th>\n",
       "      <th>Tumor</th>\n",
       "      <th>...</th>\n",
       "      <th>T3</th>\n",
       "      <th>TT4 Measured</th>\n",
       "      <th>TT4</th>\n",
       "      <th>T4U Measured</th>\n",
       "      <th>T4U</th>\n",
       "      <th>FTI Measured</th>\n",
       "      <th>FTI</th>\n",
       "      <th>TBG Measured</th>\n",
       "      <th>TBG</th>\n",
       "      <th>Class</th>\n",
       "    </tr>\n",
       "    <tr>\n",
       "      <th>Sex</th>\n",
       "      <th></th>\n",
       "      <th></th>\n",
       "      <th></th>\n",
       "      <th></th>\n",
       "      <th></th>\n",
       "      <th></th>\n",
       "      <th></th>\n",
       "      <th></th>\n",
       "      <th></th>\n",
       "      <th></th>\n",
       "      <th></th>\n",
       "      <th></th>\n",
       "      <th></th>\n",
       "      <th></th>\n",
       "      <th></th>\n",
       "      <th></th>\n",
       "      <th></th>\n",
       "      <th></th>\n",
       "      <th></th>\n",
       "      <th></th>\n",
       "      <th></th>\n",
       "    </tr>\n",
       "  </thead>\n",
       "  <tbody>\n",
       "  </tbody>\n",
       "</table>\n",
       "<p>0 rows × 25 columns</p>\n",
       "</div>"
      ],
      "text/plain": [
       "Empty DataFrame\n",
       "Columns: [Age, On Thyroxine, Query on Thyroxine, On Antithyroid Medication, Thyroid Surgery, Query Hypothyroid, Query Hyperthyroid, Pregnant, Sick, Tumor, Lithium, Goitre, TSH Measured, TSH, T3 Measured, T3, TT4 Measured, TT4, T4U Measured, T4U, FTI Measured, FTI, TBG Measured, TBG, Class]\n",
       "Index: []\n",
       "\n",
       "[0 rows x 25 columns]"
      ]
     },
     "execution_count": 115,
     "metadata": {},
     "output_type": "execute_result"
    }
   ],
   "source": [
    "df['Sex'] = df['Sex'].map({'M': 1, 'F': 0})\n",
    "df.groupby('Sex').mean()"
   ]
  },
  {
   "cell_type": "code",
   "execution_count": 99,
   "metadata": {},
   "outputs": [
    {
     "name": "stdout",
     "output_type": "stream",
     "text": [
      "\n",
      "Group: F\n",
      "       Age Sex On Thyroxine Query on Thyroxine On Antithyroid Medication  \\\n",
      "1     15.0   F            t                  f                         f   \n",
      "3     24.0   F            f                  f                         f   \n",
      "5     85.0   F            f                  f                         f   \n",
      "6     64.0   F            f                  f                         f   \n",
      "7     72.0   F            f                  f                         f   \n",
      "...    ...  ..          ...                ...                       ...   \n",
      "3157  69.0   F            f                  f                         f   \n",
      "3158  58.0   F            f                  f                         f   \n",
      "3159  29.0   F            f                  f                         f   \n",
      "3161  74.0   F            f                  f                         f   \n",
      "3162  56.0   F            t                  f                         f   \n",
      "\n",
      "     Thyroid Surgery Query Hypothyroid Query Hyperthyroid Pregnant Sick  ...  \\\n",
      "1                  f                 f                  f        f    f  ...   \n",
      "3                  f                 f                  f        f    f  ...   \n",
      "5                  f                 t                  f        f    f  ...   \n",
      "6                  t                 f                  f        f    f  ...   \n",
      "7                  f                 f                  f        f    f  ...   \n",
      "...              ...               ...                ...      ...  ...  ...   \n",
      "3157               f                 f                  f        f    f  ...   \n",
      "3158               f                 f                  f        f    f  ...   \n",
      "3159               f                 f                  f        f    f  ...   \n",
      "3161               f                 f                  f        f    f  ...   \n",
      "3162               f                 f                  f        f    f  ...   \n",
      "\n",
      "       T3 TT4 Measured    TT4 T4U Measured   T4U FTI Measured    FTI  \\\n",
      "1     1.7            y   19.0            y  1.13            y   17.0   \n",
      "3     0.4            y    6.0            y  1.04            y    6.0   \n",
      "5     1.1            y   27.0            y  1.19            y   23.0   \n",
      "6     1.3            y   54.0            y  0.86            y   63.0   \n",
      "7     1.9            y   34.0            y  1.05            y   32.0   \n",
      "...   ...          ...    ...          ...   ...          ...    ...   \n",
      "3157  1.8            y  126.0            y  1.02            y  124.0   \n",
      "3158  1.7            y   86.0            y  0.91            y   95.0   \n",
      "3159  1.8            y   99.0            y  1.01            y   98.0   \n",
      "3161  0.1            y   65.0            y  0.48            y  137.0   \n",
      "3162  1.8            y  139.0            y  0.97            y  143.0   \n",
      "\n",
      "     TBG Measured  TBG        Class  \n",
      "1               n  NaN  hypothyroid  \n",
      "3               n  NaN  hypothyroid  \n",
      "5               n  NaN  hypothyroid  \n",
      "6               n  NaN  hypothyroid  \n",
      "7               n  NaN  hypothyroid  \n",
      "...           ...  ...          ...  \n",
      "3157            n  NaN     negative  \n",
      "3158            n  NaN     negative  \n",
      "3159            n  NaN     negative  \n",
      "3161            n  NaN     negative  \n",
      "3162            n  NaN     negative  \n",
      "\n",
      "[2182 rows x 26 columns]\n",
      "\n",
      "Group: M\n",
      "       Age Sex On Thyroxine Query on Thyroxine On Antithyroid Medication  \\\n",
      "0     72.0   M            f                  f                         f   \n",
      "2     24.0   M            f                  f                         f   \n",
      "4     77.0   M            f                  f                         f   \n",
      "15    68.0   M            f                  f                         f   \n",
      "20    43.0   M            f                  f                         f   \n",
      "...    ...  ..          ...                ...                       ...   \n",
      "3140  49.0   M            f                  f                         f   \n",
      "3141  58.0   M            f                  f                         f   \n",
      "3144  25.0   M            f                  f                         f   \n",
      "3150  15.0   M            f                  f                         f   \n",
      "3160  77.0   M            f                  f                         f   \n",
      "\n",
      "     Thyroid Surgery Query Hypothyroid Query Hyperthyroid Pregnant Sick  ...  \\\n",
      "0                  f                 f                  f        f    f  ...   \n",
      "2                  f                 f                  f        f    f  ...   \n",
      "4                  f                 f                  f        f    f  ...   \n",
      "15                 f                 f                  f        f    f  ...   \n",
      "20                 f                 t                  f        f    f  ...   \n",
      "...              ...               ...                ...      ...  ...  ...   \n",
      "3140               f                 f                  f        f    t  ...   \n",
      "3141               f                 f                  f        f    f  ...   \n",
      "3144               f                 f                  t        f    f  ...   \n",
      "3150               f                 f                  t        f    f  ...   \n",
      "3160               f                 f                  f        f    f  ...   \n",
      "\n",
      "       T3 TT4 Measured    TT4 T4U Measured   T4U FTI Measured    FTI  \\\n",
      "0     0.6            y   15.0            y  1.48            y   10.0   \n",
      "2     0.2            y    4.0            y  1.00            y    0.0   \n",
      "4     1.2            y   57.0            y  1.28            y   44.0   \n",
      "15    2.0            y   81.0            y  1.01            y   81.0   \n",
      "20    NaN            y    4.0            y  1.28            y    0.0   \n",
      "...   ...          ...    ...          ...   ...          ...    ...   \n",
      "3140  0.2            y   59.0            y  0.79            y   74.0   \n",
      "3141  2.9            y   96.0            y  1.03            y   93.0   \n",
      "3144  3.3            y  164.0            y  0.95            y  172.0   \n",
      "3150  NaN            y  188.0            y  0.73            y  258.0   \n",
      "3160  0.6            y   71.0            y  0.68            y  104.0   \n",
      "\n",
      "     TBG Measured  TBG        Class  \n",
      "0               n  NaN  hypothyroid  \n",
      "2               n  NaN  hypothyroid  \n",
      "4               n  NaN  hypothyroid  \n",
      "15              n  NaN  hypothyroid  \n",
      "20              n  NaN  hypothyroid  \n",
      "...           ...  ...          ...  \n",
      "3140            n  NaN     negative  \n",
      "3141            n  NaN     negative  \n",
      "3144            n  NaN     negative  \n",
      "3150            n  NaN     negative  \n",
      "3160            n  NaN     negative  \n",
      "\n",
      "[908 rows x 26 columns]\n"
     ]
    }
   ],
   "source": [
    "grouped_data = df.groupby('Sex')\n",
    "for sex, group in grouped_data:\n",
    "    print(f\"\\nGroup: {sex}\")\n",
    "    print(group)"
   ]
  },
  {
   "cell_type": "code",
   "execution_count": 113,
   "metadata": {},
   "outputs": [
    {
     "name": "stdout",
     "output_type": "stream",
     "text": [
      "Empty DataFrame\n",
      "Columns: [Age, On Thyroxine, Query on Thyroxine, On Antithyroid Medication, Thyroid Surgery, Query Hypothyroid, Query Hyperthyroid, Pregnant, Sick, Tumor, Lithium, Goitre, TSH Measured, TSH, T3 Measured, T3, TT4 Measured, TT4, T4U Measured, T4U, FTI Measured, FTI, TBG Measured, TBG, Class]\n",
      "Index: []\n",
      "\n",
      "[0 rows x 25 columns]\n"
     ]
    }
   ],
   "source": [
    "df['Sex'] = df['Sex'].map({'M': 1, 'F': 0})\n",
    "means_by_sex = df.groupby('Sex').mean()\n",
    "print(means_by_sex)"
   ]
  },
  {
   "cell_type": "markdown",
   "metadata": {},
   "source": [
    "## Data munging functions\n",
    "\n",
    "pandas provides a variety of other useful functions, including:\n",
    "\n",
    "```\n",
    "pivot\n",
    "pivot_tables\n",
    "stack/unstack\n",
    "melt\n",
    "get_dummies\n",
    "factorize\n",
    "```"
   ]
  },
  {
   "cell_type": "markdown",
   "metadata": {},
   "source": [
    "<span style=\"color:red\">An addition to the original Notebook.</span>\n",
    "Let's look at examples of some of these functions. "
   ]
  },
  {
   "cell_type": "markdown",
   "metadata": {},
   "source": [
    "Pivot Table: pivot_table is used to summarize data. Here, we create a pivot table to find the mean age for each sex.\n"
   ]
  },
  {
   "cell_type": "code",
   "execution_count": 90,
   "metadata": {},
   "outputs": [
    {
     "name": "stdout",
     "output_type": "stream",
     "text": [
      "\n",
      "Pivot Table (mean age by sex):\n",
      "           Age\n",
      "Sex           \n",
      "F    51.127816\n",
      "M    51.442478\n"
     ]
    }
   ],
   "source": [
    "print(\"\\nPivot Table (mean age by sex):\")\n",
    "pivot_table = df.pivot_table(values='Age', index='Sex', aggfunc='mean')\n",
    "print(pivot_table)"
   ]
  },
  {
   "cell_type": "markdown",
   "metadata": {},
   "source": [
    "Stack/Unstack: stack converts a wide DataFrame into a long DataFrame (pivot the columns into rows). Unstack converts a long DataFrame into a wide DataFrame (pivot the rows into columns)."
   ]
  },
  {
   "cell_type": "code",
   "execution_count": 104,
   "metadata": {},
   "outputs": [
    {
     "name": "stdout",
     "output_type": "stream",
     "text": [
      "\n",
      "Stacked Pivot Table:\n",
      "Sex  T3  \n",
      "F    0.05    75.500000\n",
      "     0.10    74.000000\n",
      "     0.20    61.230769\n",
      "     0.30    58.777778\n",
      "     0.40    55.250000\n",
      "               ...    \n",
      "M    4.60    35.000000\n",
      "     4.70    34.000000\n",
      "     4.90    59.000000\n",
      "     6.20    41.000000\n",
      "     7.60    47.000000\n",
      "Length: 113, dtype: float64\n",
      "\n",
      "Unstacked Pivot Table:\n",
      "T3   0.05   0.10       0.20       0.30   0.40       0.50     0.60       0.70   \\\n",
      "Sex                                                                             \n",
      "F     75.5   74.0  61.230769  58.777778  55.25  69.500000  73.9375  63.652174   \n",
      "M      NaN   85.0  53.600000  68.285714  53.00  43.666667  65.7500  60.545455   \n",
      "\n",
      "T3       0.80       0.90   ...  6.20   6.60   6.70   7.00   7.30   7.60   \\\n",
      "Sex                        ...                                             \n",
      "F    64.555556  65.103448  ...   16.0   45.5   34.0   20.5   41.0   38.5   \n",
      "M    70.307692  62.944444  ...   41.0    NaN    NaN    NaN    NaN   47.0   \n",
      "\n",
      "T3   8.10   8.90   9.80   10.20  \n",
      "Sex                              \n",
      "F     28.0   42.0   16.0   46.0  \n",
      "M      NaN    NaN    NaN    NaN  \n",
      "\n",
      "[2 rows x 66 columns]\n"
     ]
    }
   ],
   "source": [
    "# First, create a simple pivot table\n",
    "simple_pivot = df.pivot_table(values='Age', index='Sex', columns='T3', aggfunc='mean')\n",
    "\n",
    "# Stack the pivot table\n",
    "print(\"\\nStacked Pivot Table:\")\n",
    "stacked = simple_pivot.stack()\n",
    "print(stacked)\n",
    "\n",
    "# Unstack the pivot table\n",
    "print(\"\\nUnstacked Pivot Table:\")\n",
    "unstacked = stacked.unstack()\n",
    "print(unstacked)"
   ]
  },
  {
   "cell_type": "markdown",
   "metadata": {},
   "source": [
    "Melt: melt is used to unpivot a DataFrame from wide format to long format. Here, it transforms the DataFrame so that age, T3, and TSH become variable values."
   ]
  },
  {
   "cell_type": "code",
   "execution_count": 110,
   "metadata": {},
   "outputs": [
    {
     "name": "stdout",
     "output_type": "stream",
     "text": [
      "\n",
      "Melted Data (making the DataFrame longer):\n",
      "  Sex variable  value\n",
      "0   M      Age   72.0\n",
      "1   F      Age   15.0\n",
      "2   M      Age   24.0\n",
      "3   F      Age   24.0\n",
      "4   M      Age   77.0\n"
     ]
    }
   ],
   "source": [
    "print(\"\\nMelted Data (making the DataFrame longer):\")\n",
    "melted = pd.melt(df, id_vars=['Sex'], value_vars=['Age', 'T3', 'TSH'])\n",
    "print(melted.head())"
   ]
  },
  {
   "cell_type": "markdown",
   "metadata": {},
   "source": [
    "Get Dummies: get_dummies is used to convert categorical variables into dummy/indicator variables. Here, it converts the sex column into dummy variables."
   ]
  },
  {
   "cell_type": "code",
   "execution_count": 113,
   "metadata": {},
   "outputs": [
    {
     "name": "stdout",
     "output_type": "stream",
     "text": [
      "\n",
      "Data with Dummy Variables:\n",
      "    Age On Thyroxine Query on Thyroxine On Antithyroid Medication  \\\n",
      "0  72.0            f                  f                         f   \n",
      "1  15.0            t                  f                         f   \n",
      "2  24.0            f                  f                         f   \n",
      "3  24.0            f                  f                         f   \n",
      "4  77.0            f                  f                         f   \n",
      "\n",
      "  Thyroid Surgery Query Hypothyroid Query Hyperthyroid Pregnant Sick Tumor  \\\n",
      "0               f                 f                  f        f    f     f   \n",
      "1               f                 f                  f        f    f     f   \n",
      "2               f                 f                  f        f    f     f   \n",
      "3               f                 f                  f        f    f     f   \n",
      "4               f                 f                  f        f    f     f   \n",
      "\n",
      "   ...   TT4 T4U Measured   T4U  FTI Measured   FTI  TBG Measured TBG  \\\n",
      "0  ...  15.0            y  1.48             y  10.0             n NaN   \n",
      "1  ...  19.0            y  1.13             y  17.0             n NaN   \n",
      "2  ...   4.0            y  1.00             y   0.0             n NaN   \n",
      "3  ...   6.0            y  1.04             y   6.0             n NaN   \n",
      "4  ...  57.0            y  1.28             y  44.0             n NaN   \n",
      "\n",
      "         Class  Sex_F  Sex_M  \n",
      "0  hypothyroid  False   True  \n",
      "1  hypothyroid   True  False  \n",
      "2  hypothyroid  False   True  \n",
      "3  hypothyroid   True  False  \n",
      "4  hypothyroid  False   True  \n",
      "\n",
      "[5 rows x 27 columns]\n"
     ]
    }
   ],
   "source": [
    "print(\"\\nData with Dummy Variables:\")\n",
    "dummies = pd.get_dummies(df, columns=['Sex'])\n",
    "print(dummies.head())"
   ]
  },
  {
   "cell_type": "markdown",
   "metadata": {},
   "source": [
    "Factorize: factorize encodes the unique values in a column as integers. Here, it encodes the sex column into integer values, with unique_values holding the mapping of the original values."
   ]
  },
  {
   "cell_type": "code",
   "execution_count": 120,
   "metadata": {},
   "outputs": [
    {
     "name": "stdout",
     "output_type": "stream",
     "text": [
      "\n",
      "Factorized 'Sex' Column:\n",
      "  Sex  Sex_factorized\n",
      "0   M               0\n",
      "1   F               1\n",
      "2   M               0\n",
      "3   F               1\n",
      "4   M               0\n",
      "Unique Values: Index(['M', 'F'], dtype='object')\n"
     ]
    }
   ],
   "source": [
    "print(\"\\nFactorized 'Sex' Column:\")\n",
    "df['Sex_factorized'], unique_values = pd.factorize(df['Sex'])\n",
    "print(df[['Sex', 'Sex_factorized']].head())\n",
    "print(\"Unique Values:\", unique_values)"
   ]
  },
  {
   "cell_type": "markdown",
   "metadata": {},
   "source": [
    "## Grouping and plotting!"
   ]
  },
  {
   "cell_type": "code",
   "execution_count": 111,
   "metadata": {},
   "outputs": [
    {
     "name": "stdout",
     "output_type": "stream",
     "text": [
      "        Sex        TSH\n",
      "Age                   \n",
      "-1.0   0.30   5.382005\n",
      " 1.0   0.75   0.533333\n",
      " 4.0   0.00   0.400000\n",
      " 5.0   0.00  17.000000\n",
      " 6.0   0.50   4.050000\n",
      "...     ...        ...\n",
      " 90.0  0.00   0.900000\n",
      " 92.0  0.00   0.400000\n",
      " 93.0  0.00   2.700000\n",
      " 97.0  0.00   3.200000\n",
      " 98.0  0.00   0.000000\n",
      "\n",
      "[93 rows x 2 columns]\n"
     ]
    }
   ],
   "source": [
    "df['Sex'] = df['Sex'].map({'M': 1, 'F': 0})\n",
    "grouped = df[['Age', 'Sex', 'TSH']].groupby('Age').mean()\n",
    "print(grouped)"
   ]
  },
  {
   "cell_type": "code",
   "execution_count": 117,
   "metadata": {},
   "outputs": [
    {
     "data": {
      "text/plain": [
       "<Axes: xlabel='Age'>"
      ]
     },
     "execution_count": 117,
     "metadata": {},
     "output_type": "execute_result"
    },
    {
     "data": {
      "image/png": "[encoded data removed]",
      "text/plain": [
       "<Figure size 640x480 with 1 Axes>"
      ]
     },
     "metadata": {},
     "output_type": "display_data"
    }
   ],
   "source": [
    "grouped.plot(kind='line')"
   ]
  },
  {
   "cell_type": "markdown",
   "metadata": {},
   "source": [
    "<span style=\"color:red\">An addition to the original Notebook.</span>\n",
    "# Group work assignment:\n",
    "1. Is the plot above the best to represent the data? Why or why not?\n",
    "2. Create a plot (using one of the options shown in this book or any other plot you would like) that would represent the data better."
   ]
  },
  {
   "cell_type": "code",
   "execution_count": null,
   "metadata": {},
   "outputs": [],
   "source": []
  }
 ],
 "metadata": {
  "anaconda-cloud": {},
  "kernelspec": {
   "display_name": "Python 3 (ipykernel)",
   "language": "python",
   "name": "python3"
  },
  "language_info": {
   "codemirror_mode": {
    "name": "ipython",
    "version": 3
   },
   "file_extension": ".py",
   "mimetype": "text/x-python",
   "name": "python",
   "nbconvert_exporter": "python",
   "pygments_lexer": "ipython3",
   "version": "3.11.7"
  }
 },
 "nbformat": 4,
 "nbformat_minor": 4
}
