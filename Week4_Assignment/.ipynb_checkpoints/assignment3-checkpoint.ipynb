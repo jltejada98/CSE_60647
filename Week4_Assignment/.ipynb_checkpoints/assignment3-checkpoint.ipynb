{
 "cells": [
  {
   "cell_type": "markdown",
   "metadata": {},
   "source": [
    "# Assignment 3: Classification"
   ]
  },
  {
   "cell_type": "markdown",
   "metadata": {},
   "source": [
    "*NOTE: This notebook is provided only as a template for you to use for the assignment. You may modify it as you see fit.*"
   ]
  },
  {
   "cell_type": "code",
   "metadata": {
    "ExecuteTime": {
     "end_time": "2024-06-28T23:45:55.592336Z",
     "start_time": "2024-06-28T23:45:55.433404Z"
    }
   },
   "source": [
    "# Import libraries.\n",
    "import pandas as pd\n",
    "\n",
    "# download data\n",
    "data_url = 'https://raw.githubusercontent.com/cse44648/cse44648/master/datasets/hypothyroid.csv'\n",
    "#Read from URL\n",
    "data = pd.read_csv(data_url)\n",
    "\n",
    "# Output the first few rows of the dataset.\n",
    "data.head()\n",
    "\n"
   ],
   "outputs": [
    {
     "data": {
      "text/plain": [
       "    Age Sex On Thyroxine Query on Thyroxine On Antithyroid Medication  \\\n",
       "0  72.0   M            f                  f                         f   \n",
       "1  15.0   F            t                  f                         f   \n",
       "2  24.0   M            f                  f                         f   \n",
       "3  24.0   F            f                  f                         f   \n",
       "4  77.0   M            f                  f                         f   \n",
       "\n",
       "  Thyroid Surgery Query Hypothyroid Query Hyperthyroid Pregnant Sick  ...  \\\n",
       "0               f                 f                  f        f    f  ...   \n",
       "1               f                 f                  f        f    f  ...   \n",
       "2               f                 f                  f        f    f  ...   \n",
       "3               f                 f                  f        f    f  ...   \n",
       "4               f                 f                  f        f    f  ...   \n",
       "\n",
       "    T3 TT4 Measured   TT4 T4U Measured   T4U FTI Measured   FTI TBG Measured  \\\n",
       "0  0.6            y  15.0            y  1.48            y  10.0            n   \n",
       "1  1.7            y  19.0            y  1.13            y  17.0            n   \n",
       "2  0.2            y   4.0            y  1.00            y   0.0            n   \n",
       "3  0.4            y   6.0            y  1.04            y   6.0            n   \n",
       "4  1.2            y  57.0            y  1.28            y  44.0            n   \n",
       "\n",
       "   TBG        Class  \n",
       "0  NaN  hypothyroid  \n",
       "1  NaN  hypothyroid  \n",
       "2  NaN  hypothyroid  \n",
       "3  NaN  hypothyroid  \n",
       "4  NaN  hypothyroid  \n",
       "\n",
       "[5 rows x 26 columns]"
      ],
      "text/html": [
       "<div>\n",
       "<style scoped>\n",
       "    .dataframe tbody tr th:only-of-type {\n",
       "        vertical-align: middle;\n",
       "    }\n",
       "\n",
       "    .dataframe tbody tr th {\n",
       "        vertical-align: top;\n",
       "    }\n",
       "\n",
       "    .dataframe thead th {\n",
       "        text-align: right;\n",
       "    }\n",
       "</style>\n",
       "<table border=\"1\" class=\"dataframe\">\n",
       "  <thead>\n",
       "    <tr style=\"text-align: right;\">\n",
       "      <th></th>\n",
       "      <th>Age</th>\n",
       "      <th>Sex</th>\n",
       "      <th>On Thyroxine</th>\n",
       "      <th>Query on Thyroxine</th>\n",
       "      <th>On Antithyroid Medication</th>\n",
       "      <th>Thyroid Surgery</th>\n",
       "      <th>Query Hypothyroid</th>\n",
       "      <th>Query Hyperthyroid</th>\n",
       "      <th>Pregnant</th>\n",
       "      <th>Sick</th>\n",
       "      <th>...</th>\n",
       "      <th>T3</th>\n",
       "      <th>TT4 Measured</th>\n",
       "      <th>TT4</th>\n",
       "      <th>T4U Measured</th>\n",
       "      <th>T4U</th>\n",
       "      <th>FTI Measured</th>\n",
       "      <th>FTI</th>\n",
       "      <th>TBG Measured</th>\n",
       "      <th>TBG</th>\n",
       "      <th>Class</th>\n",
       "    </tr>\n",
       "  </thead>\n",
       "  <tbody>\n",
       "    <tr>\n",
       "      <th>0</th>\n",
       "      <td>72.0</td>\n",
       "      <td>M</td>\n",
       "      <td>f</td>\n",
       "      <td>f</td>\n",
       "      <td>f</td>\n",
       "      <td>f</td>\n",
       "      <td>f</td>\n",
       "      <td>f</td>\n",
       "      <td>f</td>\n",
       "      <td>f</td>\n",
       "      <td>...</td>\n",
       "      <td>0.6</td>\n",
       "      <td>y</td>\n",
       "      <td>15.0</td>\n",
       "      <td>y</td>\n",
       "      <td>1.48</td>\n",
       "      <td>y</td>\n",
       "      <td>10.0</td>\n",
       "      <td>n</td>\n",
       "      <td>NaN</td>\n",
       "      <td>hypothyroid</td>\n",
       "    </tr>\n",
       "    <tr>\n",
       "      <th>1</th>\n",
       "      <td>15.0</td>\n",
       "      <td>F</td>\n",
       "      <td>t</td>\n",
       "      <td>f</td>\n",
       "      <td>f</td>\n",
       "      <td>f</td>\n",
       "      <td>f</td>\n",
       "      <td>f</td>\n",
       "      <td>f</td>\n",
       "      <td>f</td>\n",
       "      <td>...</td>\n",
       "      <td>1.7</td>\n",
       "      <td>y</td>\n",
       "      <td>19.0</td>\n",
       "      <td>y</td>\n",
       "      <td>1.13</td>\n",
       "      <td>y</td>\n",
       "      <td>17.0</td>\n",
       "      <td>n</td>\n",
       "      <td>NaN</td>\n",
       "      <td>hypothyroid</td>\n",
       "    </tr>\n",
       "    <tr>\n",
       "      <th>2</th>\n",
       "      <td>24.0</td>\n",
       "      <td>M</td>\n",
       "      <td>f</td>\n",
       "      <td>f</td>\n",
       "      <td>f</td>\n",
       "      <td>f</td>\n",
       "      <td>f</td>\n",
       "      <td>f</td>\n",
       "      <td>f</td>\n",
       "      <td>f</td>\n",
       "      <td>...</td>\n",
       "      <td>0.2</td>\n",
       "      <td>y</td>\n",
       "      <td>4.0</td>\n",
       "      <td>y</td>\n",
       "      <td>1.00</td>\n",
       "      <td>y</td>\n",
       "      <td>0.0</td>\n",
       "      <td>n</td>\n",
       "      <td>NaN</td>\n",
       "      <td>hypothyroid</td>\n",
       "    </tr>\n",
       "    <tr>\n",
       "      <th>3</th>\n",
       "      <td>24.0</td>\n",
       "      <td>F</td>\n",
       "      <td>f</td>\n",
       "      <td>f</td>\n",
       "      <td>f</td>\n",
       "      <td>f</td>\n",
       "      <td>f</td>\n",
       "      <td>f</td>\n",
       "      <td>f</td>\n",
       "      <td>f</td>\n",
       "      <td>...</td>\n",
       "      <td>0.4</td>\n",
       "      <td>y</td>\n",
       "      <td>6.0</td>\n",
       "      <td>y</td>\n",
       "      <td>1.04</td>\n",
       "      <td>y</td>\n",
       "      <td>6.0</td>\n",
       "      <td>n</td>\n",
       "      <td>NaN</td>\n",
       "      <td>hypothyroid</td>\n",
       "    </tr>\n",
       "    <tr>\n",
       "      <th>4</th>\n",
       "      <td>77.0</td>\n",
       "      <td>M</td>\n",
       "      <td>f</td>\n",
       "      <td>f</td>\n",
       "      <td>f</td>\n",
       "      <td>f</td>\n",
       "      <td>f</td>\n",
       "      <td>f</td>\n",
       "      <td>f</td>\n",
       "      <td>f</td>\n",
       "      <td>...</td>\n",
       "      <td>1.2</td>\n",
       "      <td>y</td>\n",
       "      <td>57.0</td>\n",
       "      <td>y</td>\n",
       "      <td>1.28</td>\n",
       "      <td>y</td>\n",
       "      <td>44.0</td>\n",
       "      <td>n</td>\n",
       "      <td>NaN</td>\n",
       "      <td>hypothyroid</td>\n",
       "    </tr>\n",
       "  </tbody>\n",
       "</table>\n",
       "<p>5 rows × 26 columns</p>\n",
       "</div>"
      ]
     },
     "execution_count": 14,
     "metadata": {},
     "output_type": "execute_result"
    }
   ],
   "execution_count": 14
  },
  {
   "cell_type": "markdown",
   "metadata": {},
   "source": [
    "## Question 1: 3-nearest neighbors (10 points)\n",
    "Use k-nearest neighbor to classify the hypothyroid data. Set the number of neighbors, k, to 3. Split the data so that 80% is used for training and the remaining 20% for testing. The scikit-learn implementation of k-Nearest Neighbor is called KNeighborsClassifier (sklearn.neighbors.KNeighborsClassifier). You may also use the scikit-learn for splitting data into training and testing sets (sklearn.model_selection.train_test_split). Using two features of your choice, build the model on the training set and visualize the results on the testing set by plotting the decision boundaries. Any observations about the decision boundary?"
   ]
  },
  {
   "cell_type": "code",
   "metadata": {
    "ExecuteTime": {
     "end_time": "2024-06-28T23:45:55.613413Z",
     "start_time": "2024-06-28T23:45:55.593746Z"
    }
   },
   "source": [
    "# insert code here\n",
    "from sklearn.neighbors import KNeighborsClassifier\n",
    "from sklearn.model_selection import train_test_split\n",
    "from sklearn.preprocessing import LabelEncoder\n",
    "from matplotlib.colors import ListedColormap\n",
    "import numpy as np\n",
    "import matplotlib.pyplot as plt\n",
    "\n",
    "#Data Split\n",
    "numberNeighbors = 3\n",
    "stepSize = 0.05\n",
    "X = data.iloc[:, :-1]\n",
    "Y = data.iloc[:, -1]\n",
    "\n",
    "#Encode target variable as it is categorical\n",
    "le = LabelEncoder()\n",
    "Y = le.fit_transform(Y)\n",
    "\n",
    "#For all feature variables, encode if they are categorical\n",
    "for column in X.columns:\n",
    "    if not column.isnumeric(): #Variable is categorical, re-encode\n",
    "        X = LabelEncoder().fit_transform(X[column])\n",
    "\n",
    "\n",
    "#Test/Train Split\n",
    "X_train, X_test, Y_train, Y_test = train_test_split(X,Y , test_size=0.2)\n",
    "\n",
    "#Setup k==3\n",
    "knn = KNeighborsClassifier(n_neighbors=numberNeighbors)\n",
    "knn.fit(X_train, Y_train)\n",
    "\n",
    "\n",
    "\n",
    "####EXTRACTED FROM WEEK 3 COMPANION JUPYTER NOTEBOOK###\n",
    "# Plot the decision boundary. For that, we will assign a color to each\n",
    "# point in the mesh [x_min, x_max] x [y_min, y_max].\n",
    "x_min, x_max = X.iloc[:, 0].min() - 1, X.iloc[:, 0].max() + 1\n",
    "y_min, y_max = Y.iloc[:, 1].min() - 1, Y.iloc[:, 1].max() + 1\n",
    "#Initiate meshgrid over feature space\n",
    "xx, yy = np.meshgrid(np.arange(x_min, x_max, stepSize), np.arange(y_min, y_max, stepSize))\n",
    "\n",
    "\n",
    "#Predict the class for each point in meshgrid\n",
    "Z = knn.predict(np.c_[xx.ravel(), yy.ravel()])\n",
    "Z = Z.reshape(xx.shape)\n",
    "\n",
    "#Plot the decision boundary\n",
    "plt.contourf(xx, yy, Z, alpha=0.3, cmap=plt.cm.coolwarm)\n",
    "plt.scatter(X_test[:, 0], X_test[:, 1], c=Y_test, edgecolors='k', cmap=plt.cm.coolwarm)\n",
    "# plt.xlabel(features[0])\n",
    "# plt.ylabel(features[1])\n",
    "plt.title('KNN Decision Boundary (k=3)')\n",
    "plt.show()\n",
    "\n"
   ],
   "outputs": [
    {
     "ename": "IndexError",
     "evalue": "only integers, slices (`:`), ellipsis (`...`), numpy.newaxis (`None`) and integer or boolean arrays are valid indices",
     "output_type": "error",
     "traceback": [
      "\u001B[0;31m---------------------------------------------------------------------------\u001B[0m",
      "\u001B[0;31mIndexError\u001B[0m                                Traceback (most recent call last)",
      "Cell \u001B[0;32mIn[15], line 22\u001B[0m\n\u001B[1;32m     20\u001B[0m \u001B[38;5;28;01mfor\u001B[39;00m column \u001B[38;5;129;01min\u001B[39;00m X\u001B[38;5;241m.\u001B[39mcolumns:\n\u001B[1;32m     21\u001B[0m     \u001B[38;5;28;01mif\u001B[39;00m \u001B[38;5;129;01mnot\u001B[39;00m column\u001B[38;5;241m.\u001B[39misnumeric(): \u001B[38;5;66;03m#Variable is categorical, re-encode\u001B[39;00m\n\u001B[0;32m---> 22\u001B[0m         X \u001B[38;5;241m=\u001B[39m LabelEncoder()\u001B[38;5;241m.\u001B[39mfit_transform(\u001B[43mX\u001B[49m\u001B[43m[\u001B[49m\u001B[43mcolumn\u001B[49m\u001B[43m]\u001B[49m)\n\u001B[1;32m     25\u001B[0m \u001B[38;5;66;03m#Test/Train Split\u001B[39;00m\n\u001B[1;32m     26\u001B[0m X_train, X_test, Y_train, Y_test \u001B[38;5;241m=\u001B[39m train_test_split(X,Y , test_size\u001B[38;5;241m=\u001B[39m\u001B[38;5;241m0.2\u001B[39m)\n",
      "\u001B[0;31mIndexError\u001B[0m: only integers, slices (`:`), ellipsis (`...`), numpy.newaxis (`None`) and integer or boolean arrays are valid indices"
     ]
    }
   ],
   "execution_count": 15
  },
  {
   "cell_type": "markdown",
   "metadata": {},
   "source": [
    "Add comments here"
   ]
  },
  {
   "cell_type": "markdown",
   "metadata": {},
   "source": [
    "## Question 2: 5-nearest neighbors (10 points)\n",
    "Use k-nearest neighbor to classify the hypothyroid data again, but now set the number of neighbors to 5. Split the data so that 80% is used for training and the remaining 20% for testing. Using two features of your choice, build the model on the training set and visualize the results on the testing set by plotting the decision boundaries. Any observations about the decision boundary? How does it differ from the decision boundary when k = 3?"
   ]
  },
  {
   "cell_type": "code",
   "metadata": {
    "ExecuteTime": {
     "end_time": "2024-06-28T23:45:55.614236Z",
     "start_time": "2024-06-28T23:45:55.614175Z"
    }
   },
   "source": [
    "# insert code here"
   ],
   "outputs": [],
   "execution_count": null
  },
  {
   "cell_type": "markdown",
   "metadata": {},
   "source": [
    "Add comments here"
   ]
  },
  {
   "cell_type": "markdown",
   "metadata": {},
   "source": [
    "## Question 3: Decision Tree (15 points) \n",
    "Use a decision tree to classify the hypothyroid data. Split the data so that 80% is used fortraining and the remaining 20% for testing. The scikit-learn implementation of decision tree is called DecisionTreeClassifier  sklearn.tree.DecisionTreeClassifier). Using two features of your choice, build the model on the training set and visualize the results on the testing set by plotting the decision boundaries. Any observations about the decision boundary? Any observations about the decision boundary? How does it differ from the decision boundaries produced by k-Nearest Neighbor?"
   ]
  },
  {
   "cell_type": "code",
   "metadata": {},
   "source": [
    "# insert code here"
   ],
   "outputs": [],
   "execution_count": null
  },
  {
   "cell_type": "markdown",
   "metadata": {},
   "source": [
    "Add comments here"
   ]
  },
  {
   "cell_type": "code",
   "metadata": {},
   "source": [],
   "outputs": [],
   "execution_count": null
  }
 ],
 "metadata": {
  "anaconda-cloud": {},
  "kernelspec": {
   "display_name": "Python 3",
   "language": "python",
   "name": "python3"
  },
  "language_info": {
   "codemirror_mode": {
    "name": "ipython",
    "version": 3
   },
   "file_extension": ".py",
   "mimetype": "text/x-python",
   "name": "python",
   "nbconvert_exporter": "python",
   "pygments_lexer": "ipython3",
   "version": "3.7.3"
  }
 },
 "nbformat": 4,
 "nbformat_minor": 1
}
